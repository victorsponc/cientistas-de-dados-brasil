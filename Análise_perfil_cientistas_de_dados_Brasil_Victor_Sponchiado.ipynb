{
  "nbformat": 4,
  "nbformat_minor": 0,
  "metadata": {
    "colab": {
      "name": "Análise perfil cientistas de dados Brasil - Victor Sponchiado",
      "provenance": [],
      "collapsed_sections": [],
      "authorship_tag": "ABX9TyPeIa0DGTIrHpEMxQ5n3OXh",
      "include_colab_link": true
    },
    "kernelspec": {
      "name": "python3",
      "display_name": "Python 3"
    },
    "language_info": {
      "name": "python"
    }
  },
  "cells": [
    {
      "cell_type": "markdown",
      "metadata": {
        "id": "view-in-github",
        "colab_type": "text"
      },
      "source": [
        "<a href=\"https://colab.research.google.com/github/victorsponc/cientistas-de-dados-brasil/blob/main/An%C3%A1lise_perfil_cientistas_de_dados_Brasil_Victor_Sponchiado.ipynb\" target=\"_parent\"><img src=\"https://colab.research.google.com/assets/colab-badge.svg\" alt=\"Open In Colab\"/></a>"
      ]
    },
    {
      "cell_type": "markdown",
      "metadata": {
        "id": "JaYRDgqDXUXM"
      },
      "source": [
        "# **Análise do profissional de Ciência de dados no Brasil**"
      ]
    },
    {
      "cell_type": "markdown",
      "metadata": {
        "id": "PayQXD04Xh0S"
      },
      "source": [
        "### Para realizar a análise utilizaremos a pesquisa realizada pela Data Hackers em 2019\n",
        "### Os resultados serão apresentados no decorrer do código e também no arquivo - Resultados - no GitHub."
      ]
    },
    {
      "cell_type": "markdown",
      "metadata": {
        "id": "UlwXqHYGYooR"
      },
      "source": [
        "Importando biblioteca Pandas e carregando dados"
      ]
    },
    {
      "cell_type": "code",
      "metadata": {
        "id": "2XJyoizdaOSn"
      },
      "source": [
        "import pandas as pd"
      ],
      "execution_count": null,
      "outputs": []
    },
    {
      "cell_type": "code",
      "metadata": {
        "colab": {
          "base_uri": "https://localhost:8080/",
          "height": 401
        },
        "id": "xAwBxuwrXPV6",
        "outputId": "48ecb04e-2ea5-470d-e8bb-0e9713cc0253"
      },
      "source": [
        "# importar base de dados\n",
        "uri = 'https://raw.githubusercontent.com/victorsponc/cientistas-de-dados-brasil/main/datahackers-survey-2019-anonymous-responses.csv'\n",
        "dados = pd.read_csv(uri)\n",
        "\n",
        "# exibir as 5 primeiras linhas\n",
        "dados.head(5)"
      ],
      "execution_count": null,
      "outputs": [
        {
          "output_type": "execute_result",
          "data": {
            "text/html": [
              "<div>\n",
              "<style scoped>\n",
              "    .dataframe tbody tr th:only-of-type {\n",
              "        vertical-align: middle;\n",
              "    }\n",
              "\n",
              "    .dataframe tbody tr th {\n",
              "        vertical-align: top;\n",
              "    }\n",
              "\n",
              "    .dataframe thead th {\n",
              "        text-align: right;\n",
              "    }\n",
              "</style>\n",
              "<table border=\"1\" class=\"dataframe\">\n",
              "  <thead>\n",
              "    <tr style=\"text-align: right;\">\n",
              "      <th></th>\n",
              "      <th>('P0', 'id')</th>\n",
              "      <th>('P1', 'age')</th>\n",
              "      <th>('P2', 'gender')</th>\n",
              "      <th>('P3', 'living_in_brasil')</th>\n",
              "      <th>('P5', 'living_state')</th>\n",
              "      <th>('P6', 'born_or_graduated')</th>\n",
              "      <th>('P8', 'degreee_level')</th>\n",
              "      <th>('P10', 'job_situation')</th>\n",
              "      <th>('P12', 'workers_number')</th>\n",
              "      <th>('P13', 'manager')</th>\n",
              "      <th>('P16', 'salary_range')</th>\n",
              "      <th>('P17', 'time_experience_data_science')</th>\n",
              "      <th>('P18', 'time_experience_before')</th>\n",
              "      <th>('P19', 'is_data_science_professional')</th>\n",
              "      <th>('P20', 'linear_regression')</th>\n",
              "      <th>('P20', 'logistic_regression')</th>\n",
              "      <th>('P20', 'glms')</th>\n",
              "      <th>('P20', 'decision_tree')</th>\n",
              "      <th>('P20', 'random_forest')</th>\n",
              "      <th>('P20', 'neural_networks')</th>\n",
              "      <th>('P20', 'bayesian_inference')</th>\n",
              "      <th>('P20', 'ensemble')</th>\n",
              "      <th>('P20', 'svms')</th>\n",
              "      <th>('P20', 'cnns')</th>\n",
              "      <th>('P20', 'rnns')</th>\n",
              "      <th>('P20', 'hmms')</th>\n",
              "      <th>('P20', 'gans')</th>\n",
              "      <th>('P20', 'markov_chains')</th>\n",
              "      <th>('P20', 'nlp')</th>\n",
              "      <th>('P20', 'gradient_boosted_machines')</th>\n",
              "      <th>('P20', 'cluster_analysis')</th>\n",
              "      <th>('P20', 'survival_analysis')</th>\n",
              "      <th>('P20', 'longitudinal_data_analysis')</th>\n",
              "      <th>('P20', 'joint analysis')</th>\n",
              "      <th>('P20', 'no_listed_methods')</th>\n",
              "      <th>('P21', 'sql_')</th>\n",
              "      <th>('P21', 'r')</th>\n",
              "      <th>('P21', 'python')</th>\n",
              "      <th>('P21', 'c_c++_c#')</th>\n",
              "      <th>('P21', 'dotnet')</th>\n",
              "      <th>...</th>\n",
              "      <th>('P30', 'microsoft_azure')</th>\n",
              "      <th>('P30', 'do_not_know')</th>\n",
              "      <th>('P30', 'other')</th>\n",
              "      <th>('P31', 'data_hackers_blog')</th>\n",
              "      <th>('P31', 'data_hackers_podcast')</th>\n",
              "      <th>('P31', 'weekly_newsletter')</th>\n",
              "      <th>('P31', 'slack_channel')</th>\n",
              "      <th>('P31', 'data_hackers_bootcamp')</th>\n",
              "      <th>('P31', 'do_not_know_data_hackers')</th>\n",
              "      <th>('P32', 'prefered_data_hackers_initiative')</th>\n",
              "      <th>('P33', 'telegram_groups')</th>\n",
              "      <th>('P33', 'whatsapp_groups')</th>\n",
              "      <th>('P33', 'youtube_channels')</th>\n",
              "      <th>('P33', 'other_brasilian_blogs')</th>\n",
              "      <th>('P33', 'other_slack_channels')</th>\n",
              "      <th>('P33', 'twitter')</th>\n",
              "      <th>('P33', 'abroad_blogs')</th>\n",
              "      <th>('P33', 'abroad_podcasts')</th>\n",
              "      <th>('P33', 'meetups_and_events')</th>\n",
              "      <th>('P33', 'only_data_hackers')</th>\n",
              "      <th>('P33', 'other')</th>\n",
              "      <th>('P34', 'udacity')</th>\n",
              "      <th>('P34', 'coursera')</th>\n",
              "      <th>('P34', 'udemy')</th>\n",
              "      <th>('P34', 'height')</th>\n",
              "      <th>('P34', 'edx')</th>\n",
              "      <th>('P34', 'data_camp')</th>\n",
              "      <th>('P34', 'data_quest')</th>\n",
              "      <th>('P34', 'kaggle_learn')</th>\n",
              "      <th>('P34', 'online_courses')</th>\n",
              "      <th>('P34', 'other')</th>\n",
              "      <th>('P35', 'data_science_plataforms_preference')</th>\n",
              "      <th>('P35', 'other')</th>\n",
              "      <th>('P36', 'draw_participation')</th>\n",
              "      <th>('D1', 'living_macroregion')</th>\n",
              "      <th>('D2', 'origin_macroregion')</th>\n",
              "      <th>('D3', 'anonymized_degree_area')</th>\n",
              "      <th>('D4', 'anonymized_market_sector')</th>\n",
              "      <th>('D5', 'anonymized_manager_level')</th>\n",
              "      <th>('D6', 'anonymized_role')</th>\n",
              "    </tr>\n",
              "  </thead>\n",
              "  <tbody>\n",
              "    <tr>\n",
              "      <th>0</th>\n",
              "      <td>v9otv8j9wdvjrv9otvwnn9owhzq54ktv</td>\n",
              "      <td>37.0</td>\n",
              "      <td>Masculino</td>\n",
              "      <td>1</td>\n",
              "      <td>Minas Gerais (MG)</td>\n",
              "      <td>1.0</td>\n",
              "      <td>Estudante de Graduação</td>\n",
              "      <td>Empregado (CTL)</td>\n",
              "      <td>de 1 a 5</td>\n",
              "      <td>0.0</td>\n",
              "      <td>de R$ 1.001/mês a R$ 2.000/mês</td>\n",
              "      <td>Não tenho experiência na área de dados</td>\n",
              "      <td>Não tive experiência na área de TI/Engenharia ...</td>\n",
              "      <td>0</td>\n",
              "      <td>0</td>\n",
              "      <td>0</td>\n",
              "      <td>0</td>\n",
              "      <td>0</td>\n",
              "      <td>0</td>\n",
              "      <td>0</td>\n",
              "      <td>0</td>\n",
              "      <td>0</td>\n",
              "      <td>0</td>\n",
              "      <td>0</td>\n",
              "      <td>0</td>\n",
              "      <td>0</td>\n",
              "      <td>0</td>\n",
              "      <td>0</td>\n",
              "      <td>0</td>\n",
              "      <td>0</td>\n",
              "      <td>0</td>\n",
              "      <td>0</td>\n",
              "      <td>0</td>\n",
              "      <td>0</td>\n",
              "      <td>0</td>\n",
              "      <td>0</td>\n",
              "      <td>0</td>\n",
              "      <td>0</td>\n",
              "      <td>0</td>\n",
              "      <td>0</td>\n",
              "      <td>...</td>\n",
              "      <td>0</td>\n",
              "      <td>0</td>\n",
              "      <td>0</td>\n",
              "      <td>0</td>\n",
              "      <td>0</td>\n",
              "      <td>0</td>\n",
              "      <td>0</td>\n",
              "      <td>0</td>\n",
              "      <td>1</td>\n",
              "      <td>Ainda não conhecia o Data Hackers</td>\n",
              "      <td>0</td>\n",
              "      <td>0</td>\n",
              "      <td>1</td>\n",
              "      <td>0</td>\n",
              "      <td>0</td>\n",
              "      <td>0</td>\n",
              "      <td>0</td>\n",
              "      <td>0</td>\n",
              "      <td>0</td>\n",
              "      <td>0</td>\n",
              "      <td>0</td>\n",
              "      <td>0</td>\n",
              "      <td>0</td>\n",
              "      <td>0</td>\n",
              "      <td>0</td>\n",
              "      <td>0</td>\n",
              "      <td>0</td>\n",
              "      <td>0</td>\n",
              "      <td>0</td>\n",
              "      <td>1</td>\n",
              "      <td>0</td>\n",
              "      <td>Nunca fiz cursos online</td>\n",
              "      <td>NaN</td>\n",
              "      <td>1.0</td>\n",
              "      <td>Região Sudeste</td>\n",
              "      <td>NaN</td>\n",
              "      <td>Computação / Engenharia de Software / Sistemas...</td>\n",
              "      <td>Outras</td>\n",
              "      <td>NaN</td>\n",
              "      <td>Outras</td>\n",
              "    </tr>\n",
              "    <tr>\n",
              "      <th>1</th>\n",
              "      <td>875ul998t0hqcv0871uptwf3oswcfv35</td>\n",
              "      <td>24.0</td>\n",
              "      <td>Feminino</td>\n",
              "      <td>1</td>\n",
              "      <td>São Paulo (SP)</td>\n",
              "      <td>1.0</td>\n",
              "      <td>Estudante de Graduação</td>\n",
              "      <td>Empregado (CTL)</td>\n",
              "      <td>Acima de 3000</td>\n",
              "      <td>0.0</td>\n",
              "      <td>de R$ 2.001/mês a R$ 3000/mês</td>\n",
              "      <td>Menos de 1 ano</td>\n",
              "      <td>Não tive experiência na área de TI/Engenharia ...</td>\n",
              "      <td>1</td>\n",
              "      <td>0</td>\n",
              "      <td>0</td>\n",
              "      <td>0</td>\n",
              "      <td>0</td>\n",
              "      <td>0</td>\n",
              "      <td>0</td>\n",
              "      <td>0</td>\n",
              "      <td>0</td>\n",
              "      <td>0</td>\n",
              "      <td>0</td>\n",
              "      <td>0</td>\n",
              "      <td>0</td>\n",
              "      <td>0</td>\n",
              "      <td>0</td>\n",
              "      <td>0</td>\n",
              "      <td>0</td>\n",
              "      <td>0</td>\n",
              "      <td>0</td>\n",
              "      <td>0</td>\n",
              "      <td>0</td>\n",
              "      <td>1</td>\n",
              "      <td>1</td>\n",
              "      <td>0</td>\n",
              "      <td>1</td>\n",
              "      <td>0</td>\n",
              "      <td>0</td>\n",
              "      <td>...</td>\n",
              "      <td>0</td>\n",
              "      <td>0</td>\n",
              "      <td>0</td>\n",
              "      <td>0</td>\n",
              "      <td>0</td>\n",
              "      <td>0</td>\n",
              "      <td>0</td>\n",
              "      <td>0</td>\n",
              "      <td>1</td>\n",
              "      <td>Ainda não conhecia o Data Hackers</td>\n",
              "      <td>0</td>\n",
              "      <td>0</td>\n",
              "      <td>1</td>\n",
              "      <td>0</td>\n",
              "      <td>0</td>\n",
              "      <td>0</td>\n",
              "      <td>0</td>\n",
              "      <td>0</td>\n",
              "      <td>0</td>\n",
              "      <td>0</td>\n",
              "      <td>0</td>\n",
              "      <td>0</td>\n",
              "      <td>0</td>\n",
              "      <td>1</td>\n",
              "      <td>0</td>\n",
              "      <td>0</td>\n",
              "      <td>0</td>\n",
              "      <td>0</td>\n",
              "      <td>0</td>\n",
              "      <td>0</td>\n",
              "      <td>1</td>\n",
              "      <td>NaN</td>\n",
              "      <td>Data Science Academy</td>\n",
              "      <td>0.0</td>\n",
              "      <td>Região Sudeste</td>\n",
              "      <td>NaN</td>\n",
              "      <td>Computação / Engenharia de Software / Sistemas...</td>\n",
              "      <td>Educação</td>\n",
              "      <td>NaN</td>\n",
              "      <td>Data Analyst/Analista de Dados</td>\n",
              "    </tr>\n",
              "    <tr>\n",
              "      <th>2</th>\n",
              "      <td>puscuk079vw1pusbb900pzw2xvpxtgdk</td>\n",
              "      <td>26.0</td>\n",
              "      <td>Masculino</td>\n",
              "      <td>1</td>\n",
              "      <td>São Paulo (SP)</td>\n",
              "      <td>1.0</td>\n",
              "      <td>Graduação/Bacharelado</td>\n",
              "      <td>Empregado (CTL)</td>\n",
              "      <td>Acima de 3000</td>\n",
              "      <td>0.0</td>\n",
              "      <td>de R$ 4.001/mês a R$ 6.000/mês</td>\n",
              "      <td>de 1 a 2 anos</td>\n",
              "      <td>de 6 a 10 anos</td>\n",
              "      <td>1</td>\n",
              "      <td>0</td>\n",
              "      <td>0</td>\n",
              "      <td>0</td>\n",
              "      <td>0</td>\n",
              "      <td>1</td>\n",
              "      <td>1</td>\n",
              "      <td>0</td>\n",
              "      <td>1</td>\n",
              "      <td>1</td>\n",
              "      <td>0</td>\n",
              "      <td>0</td>\n",
              "      <td>0</td>\n",
              "      <td>0</td>\n",
              "      <td>0</td>\n",
              "      <td>0</td>\n",
              "      <td>0</td>\n",
              "      <td>1</td>\n",
              "      <td>0</td>\n",
              "      <td>0</td>\n",
              "      <td>0</td>\n",
              "      <td>0</td>\n",
              "      <td>0</td>\n",
              "      <td>0</td>\n",
              "      <td>1</td>\n",
              "      <td>0</td>\n",
              "      <td>0</td>\n",
              "      <td>...</td>\n",
              "      <td>0</td>\n",
              "      <td>0</td>\n",
              "      <td>0</td>\n",
              "      <td>0</td>\n",
              "      <td>1</td>\n",
              "      <td>1</td>\n",
              "      <td>0</td>\n",
              "      <td>0</td>\n",
              "      <td>0</td>\n",
              "      <td>Newsletter Semanal</td>\n",
              "      <td>0</td>\n",
              "      <td>0</td>\n",
              "      <td>0</td>\n",
              "      <td>1</td>\n",
              "      <td>0</td>\n",
              "      <td>0</td>\n",
              "      <td>0</td>\n",
              "      <td>0</td>\n",
              "      <td>0</td>\n",
              "      <td>0</td>\n",
              "      <td>0</td>\n",
              "      <td>0</td>\n",
              "      <td>1</td>\n",
              "      <td>1</td>\n",
              "      <td>0</td>\n",
              "      <td>0</td>\n",
              "      <td>0</td>\n",
              "      <td>0</td>\n",
              "      <td>1</td>\n",
              "      <td>0</td>\n",
              "      <td>0</td>\n",
              "      <td>Udemy</td>\n",
              "      <td>NaN</td>\n",
              "      <td>1.0</td>\n",
              "      <td>Região Sudeste</td>\n",
              "      <td>NaN</td>\n",
              "      <td>Outras Engenharias</td>\n",
              "      <td>Indústria (Manufatura)</td>\n",
              "      <td>NaN</td>\n",
              "      <td>Outras</td>\n",
              "    </tr>\n",
              "    <tr>\n",
              "      <th>3</th>\n",
              "      <td>rmel8ewqpbffp2mnfbzermel8eqincov</td>\n",
              "      <td>21.0</td>\n",
              "      <td>Masculino</td>\n",
              "      <td>1</td>\n",
              "      <td>São Paulo (SP)</td>\n",
              "      <td>0.0</td>\n",
              "      <td>Estudante de Graduação</td>\n",
              "      <td>Estagiário</td>\n",
              "      <td>de 11 a 50</td>\n",
              "      <td>0.0</td>\n",
              "      <td>de R$ 1.001/mês a R$ 2.000/mês</td>\n",
              "      <td>Menos de 1 ano</td>\n",
              "      <td>de 2 a 3 anos</td>\n",
              "      <td>1</td>\n",
              "      <td>0</td>\n",
              "      <td>0</td>\n",
              "      <td>0</td>\n",
              "      <td>0</td>\n",
              "      <td>1</td>\n",
              "      <td>0</td>\n",
              "      <td>0</td>\n",
              "      <td>0</td>\n",
              "      <td>0</td>\n",
              "      <td>0</td>\n",
              "      <td>0</td>\n",
              "      <td>0</td>\n",
              "      <td>0</td>\n",
              "      <td>0</td>\n",
              "      <td>0</td>\n",
              "      <td>0</td>\n",
              "      <td>0</td>\n",
              "      <td>0</td>\n",
              "      <td>0</td>\n",
              "      <td>0</td>\n",
              "      <td>0</td>\n",
              "      <td>1</td>\n",
              "      <td>0</td>\n",
              "      <td>1</td>\n",
              "      <td>0</td>\n",
              "      <td>0</td>\n",
              "      <td>...</td>\n",
              "      <td>0</td>\n",
              "      <td>0</td>\n",
              "      <td>0</td>\n",
              "      <td>0</td>\n",
              "      <td>0</td>\n",
              "      <td>0</td>\n",
              "      <td>0</td>\n",
              "      <td>0</td>\n",
              "      <td>1</td>\n",
              "      <td>Ainda não conhecia o Data Hackers</td>\n",
              "      <td>0</td>\n",
              "      <td>1</td>\n",
              "      <td>0</td>\n",
              "      <td>0</td>\n",
              "      <td>0</td>\n",
              "      <td>0</td>\n",
              "      <td>0</td>\n",
              "      <td>1</td>\n",
              "      <td>0</td>\n",
              "      <td>0</td>\n",
              "      <td>0</td>\n",
              "      <td>0</td>\n",
              "      <td>1</td>\n",
              "      <td>1</td>\n",
              "      <td>1</td>\n",
              "      <td>0</td>\n",
              "      <td>0</td>\n",
              "      <td>0</td>\n",
              "      <td>0</td>\n",
              "      <td>0</td>\n",
              "      <td>0</td>\n",
              "      <td>Alura</td>\n",
              "      <td>NaN</td>\n",
              "      <td>1.0</td>\n",
              "      <td>Região Sudeste</td>\n",
              "      <td>Região Sudeste</td>\n",
              "      <td>Computação / Engenharia de Software / Sistemas...</td>\n",
              "      <td>Tecnologia/Fábrica de Software</td>\n",
              "      <td>NaN</td>\n",
              "      <td>Business Intelligence/Analista de BI</td>\n",
              "    </tr>\n",
              "    <tr>\n",
              "      <th>4</th>\n",
              "      <td>pj9mgud4d6mdct1l7vq0pj9mgu78h6ju</td>\n",
              "      <td>27.0</td>\n",
              "      <td>Masculino</td>\n",
              "      <td>1</td>\n",
              "      <td>NaN</td>\n",
              "      <td>1.0</td>\n",
              "      <td>Graduação/Bacharelado</td>\n",
              "      <td>Freelancer</td>\n",
              "      <td>de 6 a 10</td>\n",
              "      <td>1.0</td>\n",
              "      <td>de R$ 6.001/mês a R$ 8.000/mês</td>\n",
              "      <td>de 4 a 5 anos</td>\n",
              "      <td>de 4 a 5 anos</td>\n",
              "      <td>1</td>\n",
              "      <td>1</td>\n",
              "      <td>0</td>\n",
              "      <td>0</td>\n",
              "      <td>1</td>\n",
              "      <td>1</td>\n",
              "      <td>0</td>\n",
              "      <td>0</td>\n",
              "      <td>1</td>\n",
              "      <td>1</td>\n",
              "      <td>0</td>\n",
              "      <td>1</td>\n",
              "      <td>0</td>\n",
              "      <td>0</td>\n",
              "      <td>0</td>\n",
              "      <td>1</td>\n",
              "      <td>0</td>\n",
              "      <td>0</td>\n",
              "      <td>0</td>\n",
              "      <td>0</td>\n",
              "      <td>0</td>\n",
              "      <td>0</td>\n",
              "      <td>1</td>\n",
              "      <td>0</td>\n",
              "      <td>1</td>\n",
              "      <td>1</td>\n",
              "      <td>0</td>\n",
              "      <td>...</td>\n",
              "      <td>0</td>\n",
              "      <td>0</td>\n",
              "      <td>0</td>\n",
              "      <td>1</td>\n",
              "      <td>0</td>\n",
              "      <td>0</td>\n",
              "      <td>0</td>\n",
              "      <td>0</td>\n",
              "      <td>0</td>\n",
              "      <td>Blog/Medium do Data Hackers</td>\n",
              "      <td>0</td>\n",
              "      <td>0</td>\n",
              "      <td>0</td>\n",
              "      <td>0</td>\n",
              "      <td>0</td>\n",
              "      <td>0</td>\n",
              "      <td>0</td>\n",
              "      <td>0</td>\n",
              "      <td>0</td>\n",
              "      <td>0</td>\n",
              "      <td>1</td>\n",
              "      <td>1</td>\n",
              "      <td>1</td>\n",
              "      <td>1</td>\n",
              "      <td>0</td>\n",
              "      <td>0</td>\n",
              "      <td>0</td>\n",
              "      <td>0</td>\n",
              "      <td>0</td>\n",
              "      <td>0</td>\n",
              "      <td>0</td>\n",
              "      <td>Udemy</td>\n",
              "      <td>NaN</td>\n",
              "      <td>1.0</td>\n",
              "      <td>NaN</td>\n",
              "      <td>NaN</td>\n",
              "      <td>Computação / Engenharia de Software / Sistemas...</td>\n",
              "      <td>Internet/Ecommerce</td>\n",
              "      <td>C-level (CDO, CIO, CTO)</td>\n",
              "      <td>NaN</td>\n",
              "    </tr>\n",
              "  </tbody>\n",
              "</table>\n",
              "<p>5 rows × 170 columns</p>\n",
              "</div>"
            ],
            "text/plain": [
              "                       ('P0', 'id')  ...             ('D6', 'anonymized_role')\n",
              "0  v9otv8j9wdvjrv9otvwnn9owhzq54ktv  ...                                Outras\n",
              "1  875ul998t0hqcv0871uptwf3oswcfv35  ...        Data Analyst/Analista de Dados\n",
              "2  puscuk079vw1pusbb900pzw2xvpxtgdk  ...                                Outras\n",
              "3  rmel8ewqpbffp2mnfbzermel8eqincov  ...  Business Intelligence/Analista de BI\n",
              "4  pj9mgud4d6mdct1l7vq0pj9mgu78h6ju  ...                                   NaN\n",
              "\n",
              "[5 rows x 170 columns]"
            ]
          },
          "metadata": {
            "tags": []
          },
          "execution_count": 3
        }
      ]
    },
    {
      "cell_type": "code",
      "metadata": {
        "colab": {
          "base_uri": "https://localhost:8080/"
        },
        "id": "oR1rVcyZaC2h",
        "outputId": "7a11ff5a-ec10-48fc-b97d-776a6f2ee53c"
      },
      "source": [
        "#tamanho da base\n",
        "dados.shape"
      ],
      "execution_count": null,
      "outputs": [
        {
          "output_type": "execute_result",
          "data": {
            "text/plain": [
              "(1765, 170)"
            ]
          },
          "metadata": {
            "tags": []
          },
          "execution_count": 4
        }
      ]
    },
    {
      "cell_type": "markdown",
      "metadata": {
        "id": "ecIs0SHdbjjq"
      },
      "source": [
        "Temos 1765 respostas para a pesquisa e 170 perguntas no total.\n",
        "\n",
        "Quantos cientistas de dados temos? Para responder, vamos analisar os cargos e moldar nossa base.\n",
        "\n"
      ]
    },
    {
      "cell_type": "code",
      "metadata": {
        "colab": {
          "base_uri": "https://localhost:8080/"
        },
        "id": "4-7jN496afZC",
        "outputId": "20205a7f-7510-4576-a522-8296f96110d7"
      },
      "source": [
        "dados[\"('D6', 'anonymized_role')\"].value_counts()"
      ],
      "execution_count": null,
      "outputs": [
        {
          "output_type": "execute_result",
          "data": {
            "text/plain": [
              "Desenvolvedor ou Engenheiro de Software    225\n",
              "Outras                                     220\n",
              "Data Scientist/Cientista de Dados          167\n",
              "Data Analyst/Analista de Dados             163\n",
              "Business Intelligence/Analista de BI       150\n",
              "Data Engineer/Engenheiro de Dados          130\n",
              "Business Analyst/Analista de Negócios       72\n",
              "Analista de Inteligência de Mercado         29\n",
              "Engenheiro                                  26\n",
              "Analista de Marketing                       19\n",
              "Engenheiro de Machine Learning              15\n",
              "DBA/Administrador de Banco de Dados         14\n",
              "Estatístico                                 11\n",
              "Economista                                  10\n",
              "Name: ('D6', 'anonymized_role'), dtype: int64"
            ]
          },
          "metadata": {
            "tags": []
          },
          "execution_count": 5
        }
      ]
    },
    {
      "cell_type": "markdown",
      "metadata": {
        "id": "kvgIlOtsc1XT"
      },
      "source": [
        "Vamos tratar como cientistas de dados os seguintes cargos: Data Scientist/Cientista de Dados, Engenheiro de Machine Learning e Estatístico. Os demais grupos não serão analisados. "
      ]
    },
    {
      "cell_type": "code",
      "metadata": {
        "colab": {
          "base_uri": "https://localhost:8080/"
        },
        "id": "CuG_0AAtcyjF",
        "outputId": "057fdc7a-875f-4884-bd99-aef2ce079a62"
      },
      "source": [
        "#isolando apenas cinetistas de dados\n",
        "dados = dados[(dados[\"('D6', 'anonymized_role')\"] == \"Data Scientist/Cientista de Dados\") |\n",
        "              (dados[\"('D6', 'anonymized_role')\"] == \"Engenheiro de Machine Learning\") |\n",
        "              (dados[\"('D6', 'anonymized_role')\"] == \"Estatístico\")]\n",
        "\n",
        "#Renomeando coluna:\n",
        "dados['profissão'] = dados[\"('D6', 'anonymized_role')\"]\n",
        "\n",
        "#Criando coluna com nomenclatura Cientista de dados\n",
        "profmap = {      'Data Scientist/Cientista de Dados': 'Cientista de Dados',\n",
        "                    'Engenheiro de Machine Learning': 'Cientista de Dados',\n",
        "                                       'Estatístico': 'Cientista de Dados',\n",
        "          }\n",
        "dados['cds'] = dados['profissão'].map(profmap)\n",
        "\n",
        "dados.shape"
      ],
      "execution_count": null,
      "outputs": [
        {
          "output_type": "execute_result",
          "data": {
            "text/plain": [
              "(193, 182)"
            ]
          },
          "metadata": {
            "tags": []
          },
          "execution_count": 58
        }
      ]
    },
    {
      "cell_type": "markdown",
      "metadata": {
        "id": "C4iKD1Jfg6MV"
      },
      "source": [
        "Temos no total 193 linhas para explorar."
      ]
    },
    {
      "cell_type": "code",
      "metadata": {
        "id": "rgaPjwxDfu4d"
      },
      "source": [
        "import matplotlib.pyplot as plt"
      ],
      "execution_count": null,
      "outputs": []
    },
    {
      "cell_type": "markdown",
      "metadata": {
        "id": "n4yzMiXArkN5"
      },
      "source": [
        "### Análise de idade"
      ]
    },
    {
      "cell_type": "code",
      "metadata": {
        "colab": {
          "base_uri": "https://localhost:8080/",
          "height": 278
        },
        "id": "BUTQHCjVjSRu",
        "outputId": "72002e1a-9dee-405b-f3d3-00e604f6e998"
      },
      "source": [
        "#Alterando título da coluna\n",
        "dados['idade'] = dados[\"('P1', 'age')\"]\n",
        "\n",
        "#Histograma - Distribuição\n",
        "qtd = dados['idade'].value_counts()\n",
        "X = [int(key) for key in qtd.keys()]\n",
        "Y = [qtd[key] for key in qtd.keys()]\n",
        "\n",
        "plt.bar(X, Y)\n",
        "plt.ylabel('Quantidade')\n",
        "plt.xlabel('Idade')\n",
        "plt.show()"
      ],
      "execution_count": null,
      "outputs": [
        {
          "output_type": "display_data",
          "data": {
            "image/png": "[encoded data removed]",
            "text/plain": [
              "<Figure size 432x288 with 1 Axes>"
            ]
          },
          "metadata": {
            "tags": [],
            "needs_background": "light"
          }
        }
      ]
    },
    {
      "cell_type": "markdown",
      "metadata": {
        "id": "6TzpAJaGru9y"
      },
      "source": [
        "### Análise de Sexo"
      ]
    },
    {
      "cell_type": "code",
      "metadata": {
        "colab": {
          "base_uri": "https://localhost:8080/",
          "height": 265
        },
        "id": "Jfn7s3gqkd94",
        "outputId": "0647277c-b18c-46dc-a4ea-a772ec0fabda"
      },
      "source": [
        "#Alterando título da coluna\n",
        "dados['sexo'] = dados[\"('P2', 'gender')\"]\n",
        "\n",
        "#Qual a distribuição?\n",
        "dados[\"sexo\"].value_counts().plot(kind = 'pie', autopct=\"%1.1f%%\")"
      ],
      "execution_count": null,
      "outputs": [
        {
          "output_type": "execute_result",
          "data": {
            "text/plain": [
              "<matplotlib.axes._subplots.AxesSubplot at 0x7f6d9cbed610>"
            ]
          },
          "metadata": {
            "tags": []
          },
          "execution_count": 9
        },
        {
          "output_type": "display_data",
          "data": {
            "image/png": "[encoded data removed]",
            "text/plain": [
              "<Figure size 432x288 with 1 Axes>"
            ]
          },
          "metadata": {
            "tags": []
          }
        }
      ]
    },
    {
      "cell_type": "markdown",
      "metadata": {
        "id": "ygOZrru0ry0c"
      },
      "source": [
        "### Análise de escolaridade e área de formação"
      ]
    },
    {
      "cell_type": "code",
      "metadata": {
        "colab": {
          "base_uri": "https://localhost:8080/"
        },
        "id": "MFNWZvdfl_ZN",
        "outputId": "08c625e6-3e0d-45a2-8b08-b9b48632edb0"
      },
      "source": [
        "#Alterando título da coluna\n",
        "dados['escolaridade'] = dados[\"('P8', 'degreee_level')\"]\n",
        "\n",
        "#Qtd. por escolaridade\n",
        "dados['escolaridade'].value_counts()"
      ],
      "execution_count": null,
      "outputs": [
        {
          "output_type": "execute_result",
          "data": {
            "text/plain": [
              "Graduação/Bacharelado         62\n",
              "Mestrado                      43\n",
              "Pós-graduação                 38\n",
              "Estudante de Graduação        33\n",
              "Doutorado ou Phd              11\n",
              "Não tenho graduação formal     6\n",
              "Name: escolaridade, dtype: int64"
            ]
          },
          "metadata": {
            "tags": []
          },
          "execution_count": 10
        }
      ]
    },
    {
      "cell_type": "code",
      "metadata": {
        "colab": {
          "base_uri": "https://localhost:8080/",
          "height": 282
        },
        "id": "heP4w00Xqc99",
        "outputId": "445d2d76-f911-4def-a80b-27dc2d812392"
      },
      "source": [
        "#Distribuição de escolaridade\n",
        "dados['escolaridade'].value_counts().plot(kind = 'barh')"
      ],
      "execution_count": null,
      "outputs": [
        {
          "output_type": "execute_result",
          "data": {
            "text/plain": [
              "<matplotlib.axes._subplots.AxesSubplot at 0x7f6d9cbd6ed0>"
            ]
          },
          "metadata": {
            "tags": []
          },
          "execution_count": 11
        },
        {
          "output_type": "display_data",
          "data": {
            "image/png": "[encoded data removed]",
            "text/plain": [
              "<Figure size 432x288 with 1 Axes>"
            ]
          },
          "metadata": {
            "tags": [],
            "needs_background": "light"
          }
        }
      ]
    },
    {
      "cell_type": "code",
      "metadata": {
        "colab": {
          "base_uri": "https://localhost:8080/"
        },
        "id": "snP1v8qypY7C",
        "outputId": "820fb5ea-e2f9-4fe0-ba27-8c0d9f3b0023"
      },
      "source": [
        "#Alterando título da coluna\n",
        "dados['formação'] = dados[\"('D3', 'anonymized_degree_area')\"]\n",
        "\n",
        "#Área de formação\n",
        "dados[\"formação\"].value_counts()"
      ],
      "execution_count": null,
      "outputs": [
        {
          "output_type": "execute_result",
          "data": {
            "text/plain": [
              "Computação / Engenharia de Software / Sistemas de Informação    92\n",
              "Estatística/ Matemática / Matemática Computacional              34\n",
              "Outras Engenharias                                              31\n",
              "Economia/ Administração / Contabilidade / Finanças              13\n",
              "Química / Física                                                 6\n",
              "Outras                                                           6\n",
              "Ciências Sociais                                                 3\n",
              "Marketing / Publicidade / Comunicação / Jornalismo               2\n",
              "Name: formação, dtype: int64"
            ]
          },
          "metadata": {
            "tags": []
          },
          "execution_count": 12
        }
      ]
    },
    {
      "cell_type": "markdown",
      "metadata": {
        "id": "xfEjs7fIs1Y8"
      },
      "source": [
        "### **Analisando empresas**"
      ]
    },
    {
      "cell_type": "markdown",
      "metadata": {
        "id": "z8J6CbqwtH1O"
      },
      "source": [
        "Vamos fazer uma leve modificação em relação ao tamanho da empresa, separando entre pequenas, médias e grandes."
      ]
    },
    {
      "cell_type": "code",
      "metadata": {
        "id": "5sdexon0s_Xl"
      },
      "source": [
        "#Criando uma nova série e aplicando um \"mapeamento\".\n",
        "tammap = { 'de 1 a 5': 'Pequena',\n",
        "           'de 6 a 10': 'Pequena',\n",
        "           'de 11 a 50': 'Pequena',\n",
        "           'de 51 a 100': 'Pequena',\n",
        "           'de 101 a 500': 'Média',\n",
        "           'de 501 a 1000': 'Média',\n",
        "           'de 1001 a 3000': 'Grande',\n",
        "           'Acima de 3000': 'Grande'}\n",
        "\n",
        "dados['tamanho_da_empresa'] = dados[\"('P12', 'workers_number')\"].map(tammap)"
      ],
      "execution_count": null,
      "outputs": []
    },
    {
      "cell_type": "code",
      "metadata": {
        "colab": {
          "base_uri": "https://localhost:8080/"
        },
        "id": "KAgTt9_0uKry",
        "outputId": "ebbdf4a3-9a25-4807-ca62-a1f3078d3b09"
      },
      "source": [
        "#Distribuição por porte de empresa\n",
        "dados['tamanho_da_empresa'].value_counts()"
      ],
      "execution_count": null,
      "outputs": [
        {
          "output_type": "execute_result",
          "data": {
            "text/plain": [
              "Média      73\n",
              "Grande     63\n",
              "Pequena    57\n",
              "Name: tamanho_da_empresa, dtype: int64"
            ]
          },
          "metadata": {
            "tags": []
          },
          "execution_count": 63
        }
      ]
    },
    {
      "cell_type": "code",
      "metadata": {
        "colab": {
          "base_uri": "https://localhost:8080/",
          "height": 282
        },
        "id": "KEAHo4b2u8mI",
        "outputId": "a811ab08-53ab-4787-cb6c-2f160211d64f"
      },
      "source": [
        "#Setor de atuação\n",
        "dados['setor'] = dados[\"('D4', 'anonymized_market_sector')\"]\n",
        "dados['setor'].value_counts().plot(kind = 'barh')"
      ],
      "execution_count": null,
      "outputs": [
        {
          "output_type": "execute_result",
          "data": {
            "text/plain": [
              "<matplotlib.axes._subplots.AxesSubplot at 0x7f6da14007d0>"
            ]
          },
          "metadata": {
            "tags": []
          },
          "execution_count": 15
        },
        {
          "output_type": "display_data",
          "data": {
            "image/png": "[encoded data removed]",
            "text/plain": [
              "<Figure size 432x288 with 1 Axes>"
            ]
          },
          "metadata": {
            "tags": [],
            "needs_background": "light"
          }
        }
      ]
    },
    {
      "cell_type": "markdown",
      "metadata": {
        "id": "Wa68ujOx4cat"
      },
      "source": [
        "## **Agora vamos pra parte financeira do estudo**"
      ]
    },
    {
      "cell_type": "markdown",
      "metadata": {
        "id": "P1aHYO314iUc"
      },
      "source": [
        "Antes de iniciar, vou realizar outras modificações simples na base"
      ]
    },
    {
      "cell_type": "code",
      "metadata": {
        "id": "0iS9_uYAyOHN"
      },
      "source": [
        "#Discretizando salários\n",
        "salamap = {    'Menos de R$ 1.000/mês': 1000,\n",
        "      'de R$ 1.001/mês a R$ 2.000/mês': 1500, \n",
        "       'de R$ 2.001/mês a R$ 3000/mês': 2500,\n",
        "      'de R$ 3.001/mês a R$ 4.000/mês': 3500,\n",
        "      'de R$ 4.001/mês a R$ 6.000/mês': 5000, \n",
        "      'de R$ 6.001/mês a R$ 8.000/mês': 7000,\n",
        "     'de R$ 8.001/mês a R$ 12.000/mês': 10000,\n",
        "    'de R$ 12.001/mês a R$ 16.000/mês': 14000,\n",
        "    'de R$ 16.001/mês a R$ 20.000/mês': 18000,\n",
        "    'de R$ 20.001/mês a R$ 25.000/mês': 22500, \n",
        "              'Acima de R$ 25.001/mês': 25000}\n",
        "\n",
        "dados['salario'] = dados[\"('P16', 'salary_range')\"].map(salamap) \n",
        "\n",
        "#Criação de grupos de idades, escolha arbitraria dos cortes.\n",
        "cortes = [0, 24, 30, 40, 100]\n",
        "nomes = ['[18,24]', '[25,30]', '[31,40]', '[41,50]']\n",
        "dados['idade_grupo'] = pd.cut(dados[\"('P1', 'age')\"], bins = cortes, labels = nomes)"
      ],
      "execution_count": null,
      "outputs": []
    },
    {
      "cell_type": "markdown",
      "metadata": {
        "id": "e93yZ8Ru7TfY"
      },
      "source": [
        "Vamos analisar a diferença salarial nas empresas"
      ]
    },
    {
      "cell_type": "code",
      "metadata": {
        "colab": {
          "base_uri": "https://localhost:8080/"
        },
        "id": "HQWJHDFD_F2d",
        "outputId": "d09d7ce7-4642-4d63-a7a7-7d30d446bef0"
      },
      "source": [
        "#tamanho da empresa e média salarial\n",
        "dados.groupby(['tamanho_da_empresa']).mean()['salario'].round(2)"
      ],
      "execution_count": null,
      "outputs": [
        {
          "output_type": "execute_result",
          "data": {
            "text/plain": [
              "tamanho_da_empresa\n",
              "Grande     8079.37\n",
              "Média      7260.27\n",
              "Pequena    4903.51\n",
              "Name: salario, dtype: float64"
            ]
          },
          "metadata": {
            "tags": []
          },
          "execution_count": 17
        }
      ]
    },
    {
      "cell_type": "markdown",
      "metadata": {
        "id": "hwn1JvecA_QP"
      },
      "source": [
        "Sendo que a média de salário em geral é:"
      ]
    },
    {
      "cell_type": "code",
      "metadata": {
        "colab": {
          "base_uri": "https://localhost:8080/"
        },
        "id": "qDtnJbKsBC_I",
        "outputId": "ddc3b460-5547-44b3-a119-63e38f3bf7c5"
      },
      "source": [
        "dados[['salario']].mean().round(2)"
      ],
      "execution_count": null,
      "outputs": [
        {
          "output_type": "execute_result",
          "data": {
            "text/plain": [
              "salario    6831.61\n",
              "dtype: float64"
            ]
          },
          "metadata": {
            "tags": []
          },
          "execution_count": 18
        }
      ]
    },
    {
      "cell_type": "markdown",
      "metadata": {
        "id": "yPC7qSUFBLNS"
      },
      "source": [
        "Olhando os salários pelo tamanho da empresa e sexo"
      ]
    },
    {
      "cell_type": "code",
      "metadata": {
        "colab": {
          "base_uri": "https://localhost:8080/",
          "height": 141
        },
        "id": "dIQz4Upr7vok",
        "outputId": "09b30a54-98fc-4069-e3ec-f3a7ab3e0caf"
      },
      "source": [
        "#Análise pelo sexo e tamanho da empresa\n",
        "dados.groupby(['sexo', 'tamanho_da_empresa']).mean()['salario'].round(2).unstack()"
      ],
      "execution_count": null,
      "outputs": [
        {
          "output_type": "execute_result",
          "data": {
            "text/html": [
              "<div>\n",
              "<style scoped>\n",
              "    .dataframe tbody tr th:only-of-type {\n",
              "        vertical-align: middle;\n",
              "    }\n",
              "\n",
              "    .dataframe tbody tr th {\n",
              "        vertical-align: top;\n",
              "    }\n",
              "\n",
              "    .dataframe thead th {\n",
              "        text-align: right;\n",
              "    }\n",
              "</style>\n",
              "<table border=\"1\" class=\"dataframe\">\n",
              "  <thead>\n",
              "    <tr style=\"text-align: right;\">\n",
              "      <th>tamanho_da_empresa</th>\n",
              "      <th>Grande</th>\n",
              "      <th>Média</th>\n",
              "      <th>Pequena</th>\n",
              "    </tr>\n",
              "    <tr>\n",
              "      <th>sexo</th>\n",
              "      <th></th>\n",
              "      <th></th>\n",
              "      <th></th>\n",
              "    </tr>\n",
              "  </thead>\n",
              "  <tbody>\n",
              "    <tr>\n",
              "      <th>Feminino</th>\n",
              "      <td>8785.71</td>\n",
              "      <td>5352.94</td>\n",
              "      <td>3785.71</td>\n",
              "    </tr>\n",
              "    <tr>\n",
              "      <th>Masculino</th>\n",
              "      <td>8118.18</td>\n",
              "      <td>7839.29</td>\n",
              "      <td>5060.00</td>\n",
              "    </tr>\n",
              "  </tbody>\n",
              "</table>\n",
              "</div>"
            ],
            "text/plain": [
              "tamanho_da_empresa   Grande    Média  Pequena\n",
              "sexo                                         \n",
              "Feminino            8785.71  5352.94  3785.71\n",
              "Masculino           8118.18  7839.29  5060.00"
            ]
          },
          "metadata": {
            "tags": []
          },
          "execution_count": 19
        }
      ]
    },
    {
      "cell_type": "markdown",
      "metadata": {
        "id": "miVpu1Xn9he5"
      },
      "source": [
        "É notável a diferença entre os sexos em médias e pequenas empresas, além, podemos verificar que empresas maiores pagam melhores salários."
      ]
    },
    {
      "cell_type": "markdown",
      "metadata": {
        "id": "EXt1aV8M9wtd"
      },
      "source": [
        "Vejamos a média salárial em relação a idade"
      ]
    },
    {
      "cell_type": "code",
      "metadata": {
        "colab": {
          "base_uri": "https://localhost:8080/",
          "height": 323
        },
        "id": "H4XERM2--hSz",
        "outputId": "0b9a5392-5ad7-449b-d360-fc8a1af9b063"
      },
      "source": [
        "dados.groupby(['idade_grupo']).mean()['salario'].plot(kind = 'bar')"
      ],
      "execution_count": null,
      "outputs": [
        {
          "output_type": "execute_result",
          "data": {
            "text/plain": [
              "<matplotlib.axes._subplots.AxesSubplot at 0x7f6d9caef110>"
            ]
          },
          "metadata": {
            "tags": []
          },
          "execution_count": 20
        },
        {
          "output_type": "display_data",
          "data": {
            "image/png": "[encoded data removed]",
            "text/plain": [
              "<Figure size 432x288 with 1 Axes>"
            ]
          },
          "metadata": {
            "tags": [],
            "needs_background": "light"
          }
        }
      ]
    },
    {
      "cell_type": "code",
      "metadata": {
        "id": "HfMDlOnSYO3y"
      },
      "source": [
        "import matplotlib.pyplot as plt\n",
        "import seaborn as sns"
      ],
      "execution_count": null,
      "outputs": []
    },
    {
      "cell_type": "code",
      "metadata": {
        "colab": {
          "base_uri": "https://localhost:8080/",
          "height": 278
        },
        "id": "asLitzqqYwjS",
        "outputId": "8b359da7-80f2-4b76-b5a7-514ac5c9c942"
      },
      "source": [
        "sns.scatterplot(x = 'idade', y = 'salario', hue = 'sexo', data = dados);"
      ],
      "execution_count": null,
      "outputs": [
        {
          "output_type": "display_data",
          "data": {
            "image/png": "[encoded data removed]",
            "text/plain": [
              "<Figure size 432x288 with 1 Axes>"
            ]
          },
          "metadata": {
            "tags": [],
            "needs_background": "light"
          }
        }
      ]
    },
    {
      "cell_type": "markdown",
      "metadata": {
        "id": "nfCmErgMAQRz"
      },
      "source": [
        "Também é possível analisar o valor em relação ao tempo de profissão"
      ]
    },
    {
      "cell_type": "code",
      "metadata": {
        "colab": {
          "base_uri": "https://localhost:8080/",
          "height": 294
        },
        "id": "wcT7bIZV-ndG",
        "outputId": "e0700a68-36bc-497d-8e11-e678d07b0ffe"
      },
      "source": [
        "#renomeando coluna\n",
        "dados['experiencia_ds'] = dados[\"('P17', 'time_experience_data_science')\"] \n",
        "\n",
        "#criação dos dados de médias salariais\n",
        "exp = dados.groupby(['experiencia_ds','cds']).mean()['salario'].round(2).unstack()\n",
        "\n",
        "#ordenação da visualização\n",
        "exp.sort_values(['Cientista de Dados'], ascending = False)"
      ],
      "execution_count": null,
      "outputs": [
        {
          "output_type": "execute_result",
          "data": {
            "text/html": [
              "<div>\n",
              "<style scoped>\n",
              "    .dataframe tbody tr th:only-of-type {\n",
              "        vertical-align: middle;\n",
              "    }\n",
              "\n",
              "    .dataframe tbody tr th {\n",
              "        vertical-align: top;\n",
              "    }\n",
              "\n",
              "    .dataframe thead th {\n",
              "        text-align: right;\n",
              "    }\n",
              "</style>\n",
              "<table border=\"1\" class=\"dataframe\">\n",
              "  <thead>\n",
              "    <tr style=\"text-align: right;\">\n",
              "      <th>cds</th>\n",
              "      <th>Cientista de Dados</th>\n",
              "    </tr>\n",
              "    <tr>\n",
              "      <th>experiencia_ds</th>\n",
              "      <th></th>\n",
              "    </tr>\n",
              "  </thead>\n",
              "  <tbody>\n",
              "    <tr>\n",
              "      <th>de 6 a 10 anos</th>\n",
              "      <td>12923.08</td>\n",
              "    </tr>\n",
              "    <tr>\n",
              "      <th>de 4 a 5 anos</th>\n",
              "      <td>10648.15</td>\n",
              "    </tr>\n",
              "    <tr>\n",
              "      <th>Mais de 10 anos</th>\n",
              "      <td>10409.09</td>\n",
              "    </tr>\n",
              "    <tr>\n",
              "      <th>de 2 a 3 anos</th>\n",
              "      <td>6704.55</td>\n",
              "    </tr>\n",
              "    <tr>\n",
              "      <th>de 1 a 2 anos</th>\n",
              "      <td>5333.33</td>\n",
              "    </tr>\n",
              "    <tr>\n",
              "      <th>Menos de 1 ano</th>\n",
              "      <td>3675.00</td>\n",
              "    </tr>\n",
              "    <tr>\n",
              "      <th>Não tenho experiência na área de dados</th>\n",
              "      <td>2500.00</td>\n",
              "    </tr>\n",
              "  </tbody>\n",
              "</table>\n",
              "</div>"
            ],
            "text/plain": [
              "cds                                     Cientista de Dados\n",
              "experiencia_ds                                            \n",
              "de 6 a 10 anos                                    12923.08\n",
              "de 4 a 5 anos                                     10648.15\n",
              "Mais de 10 anos                                   10409.09\n",
              "de 2 a 3 anos                                      6704.55\n",
              "de 1 a 2 anos                                      5333.33\n",
              "Menos de 1 ano                                     3675.00\n",
              "Não tenho experiência na área de dados             2500.00"
            ]
          },
          "metadata": {
            "tags": []
          },
          "execution_count": 69
        }
      ]
    },
    {
      "cell_type": "markdown",
      "metadata": {
        "id": "Yz-w77iICv8i"
      },
      "source": [
        "Aprofundando um pouco em ferramentas, vamos analisar o salário em relação a linguagem de programação mais usada"
      ]
    },
    {
      "cell_type": "code",
      "metadata": {
        "colab": {
          "base_uri": "https://localhost:8080/",
          "height": 263
        },
        "id": "qnSyAVGGAaVx",
        "outputId": "eee7f7f5-709c-42ca-c9dc-6d014adfdf83"
      },
      "source": [
        "#criando tabela\n",
        "prog = dados.groupby([\"cds\", \"('P22', 'most_used_proggraming_languages')\"]).mean()['salario'].round(2).unstack().T\n",
        "\n",
        "#ordenação dos dados\n",
        "prog.sort_values(['Cientista de Dados'], ascending = False)"
      ],
      "execution_count": null,
      "outputs": [
        {
          "output_type": "execute_result",
          "data": {
            "text/html": [
              "<div>\n",
              "<style scoped>\n",
              "    .dataframe tbody tr th:only-of-type {\n",
              "        vertical-align: middle;\n",
              "    }\n",
              "\n",
              "    .dataframe tbody tr th {\n",
              "        vertical-align: top;\n",
              "    }\n",
              "\n",
              "    .dataframe thead th {\n",
              "        text-align: right;\n",
              "    }\n",
              "</style>\n",
              "<table border=\"1\" class=\"dataframe\">\n",
              "  <thead>\n",
              "    <tr style=\"text-align: right;\">\n",
              "      <th>cds</th>\n",
              "      <th>Cientista de Dados</th>\n",
              "    </tr>\n",
              "    <tr>\n",
              "      <th>('P22', 'most_used_proggraming_languages')</th>\n",
              "      <th></th>\n",
              "    </tr>\n",
              "  </thead>\n",
              "  <tbody>\n",
              "    <tr>\n",
              "      <th>SAS/Stata</th>\n",
              "      <td>13875.00</td>\n",
              "    </tr>\n",
              "    <tr>\n",
              "      <th>Java</th>\n",
              "      <td>10000.00</td>\n",
              "    </tr>\n",
              "    <tr>\n",
              "      <th>Python</th>\n",
              "      <td>7003.60</td>\n",
              "    </tr>\n",
              "    <tr>\n",
              "      <th>Scala</th>\n",
              "      <td>7000.00</td>\n",
              "    </tr>\n",
              "    <tr>\n",
              "      <th>SQL</th>\n",
              "      <td>6968.75</td>\n",
              "    </tr>\n",
              "    <tr>\n",
              "      <th>R</th>\n",
              "      <td>4978.26</td>\n",
              "    </tr>\n",
              "  </tbody>\n",
              "</table>\n",
              "</div>"
            ],
            "text/plain": [
              "cds                                         Cientista de Dados\n",
              "('P22', 'most_used_proggraming_languages')                    \n",
              "SAS/Stata                                             13875.00\n",
              "Java                                                  10000.00\n",
              "Python                                                 7003.60\n",
              "Scala                                                  7000.00\n",
              "SQL                                                    6968.75\n",
              "R                                                      4978.26"
            ]
          },
          "metadata": {
            "tags": []
          },
          "execution_count": 72
        }
      ]
    },
    {
      "cell_type": "markdown",
      "metadata": {
        "id": "pLn5_VFhD8n3"
      },
      "source": [
        "R é a linguagem de programação que menos da retorno financeiro ao utilizador e SAS/Stata paga melhor salário de todos."
      ]
    },
    {
      "cell_type": "markdown",
      "metadata": {
        "id": "soRialefEt2s"
      },
      "source": [
        "Se tratando dos métodos mais utilizados temos a seguinte distribuição, onde no topo da lista é a Regressão linear com 74% de utilização."
      ]
    },
    {
      "cell_type": "code",
      "metadata": {
        "colab": {
          "base_uri": "https://localhost:8080/",
          "height": 692
        },
        "id": "fWuxAKO1FOA8",
        "outputId": "90a24b1b-4f91-4a11-a123-d2175da91c64"
      },
      "source": [
        "lista = ['Cientista de Dados']\n",
        "aux1 = round(dados.filter(regex = 'P20').mean().sort_values(ascending = False), 2)\n",
        "aux = pd.concat([aux1], axis = 1)\n",
        "aux.columns = lista\n",
        "\n",
        "aux"
      ],
      "execution_count": null,
      "outputs": [
        {
          "output_type": "execute_result",
          "data": {
            "text/html": [
              "<div>\n",
              "<style scoped>\n",
              "    .dataframe tbody tr th:only-of-type {\n",
              "        vertical-align: middle;\n",
              "    }\n",
              "\n",
              "    .dataframe tbody tr th {\n",
              "        vertical-align: top;\n",
              "    }\n",
              "\n",
              "    .dataframe thead th {\n",
              "        text-align: right;\n",
              "    }\n",
              "</style>\n",
              "<table border=\"1\" class=\"dataframe\">\n",
              "  <thead>\n",
              "    <tr style=\"text-align: right;\">\n",
              "      <th></th>\n",
              "      <th>Cientista de Dados</th>\n",
              "    </tr>\n",
              "  </thead>\n",
              "  <tbody>\n",
              "    <tr>\n",
              "      <th>('P20', 'linear_regression')</th>\n",
              "      <td>0.74</td>\n",
              "    </tr>\n",
              "    <tr>\n",
              "      <th>('P20', 'logistic_regression')</th>\n",
              "      <td>0.67</td>\n",
              "    </tr>\n",
              "    <tr>\n",
              "      <th>('P20', 'decision_tree')</th>\n",
              "      <td>0.65</td>\n",
              "    </tr>\n",
              "    <tr>\n",
              "      <th>('P20', 'random_forest')</th>\n",
              "      <td>0.65</td>\n",
              "    </tr>\n",
              "    <tr>\n",
              "      <th>('P20', 'cluster_analysis')</th>\n",
              "      <td>0.60</td>\n",
              "    </tr>\n",
              "    <tr>\n",
              "      <th>('P20', 'neural_networks')</th>\n",
              "      <td>0.46</td>\n",
              "    </tr>\n",
              "    <tr>\n",
              "      <th>('P20', 'gradient_boosted_machines')</th>\n",
              "      <td>0.45</td>\n",
              "    </tr>\n",
              "    <tr>\n",
              "      <th>('P20', 'ensemble')</th>\n",
              "      <td>0.40</td>\n",
              "    </tr>\n",
              "    <tr>\n",
              "      <th>('P20', 'nlp')</th>\n",
              "      <td>0.35</td>\n",
              "    </tr>\n",
              "    <tr>\n",
              "      <th>('P20', 'bayesian_inference')</th>\n",
              "      <td>0.32</td>\n",
              "    </tr>\n",
              "    <tr>\n",
              "      <th>('P20', 'svms')</th>\n",
              "      <td>0.31</td>\n",
              "    </tr>\n",
              "    <tr>\n",
              "      <th>('P20', 'glms')</th>\n",
              "      <td>0.29</td>\n",
              "    </tr>\n",
              "    <tr>\n",
              "      <th>('P20', 'rnns')</th>\n",
              "      <td>0.18</td>\n",
              "    </tr>\n",
              "    <tr>\n",
              "      <th>('P20', 'longitudinal_data_analysis')</th>\n",
              "      <td>0.18</td>\n",
              "    </tr>\n",
              "    <tr>\n",
              "      <th>('P20', 'cnns')</th>\n",
              "      <td>0.17</td>\n",
              "    </tr>\n",
              "    <tr>\n",
              "      <th>('P20', 'markov_chains')</th>\n",
              "      <td>0.13</td>\n",
              "    </tr>\n",
              "    <tr>\n",
              "      <th>('P20', 'survival_analysis')</th>\n",
              "      <td>0.13</td>\n",
              "    </tr>\n",
              "    <tr>\n",
              "      <th>('P20', 'joint analysis')</th>\n",
              "      <td>0.07</td>\n",
              "    </tr>\n",
              "    <tr>\n",
              "      <th>('P20', 'gans')</th>\n",
              "      <td>0.05</td>\n",
              "    </tr>\n",
              "    <tr>\n",
              "      <th>('P20', 'hmms')</th>\n",
              "      <td>0.04</td>\n",
              "    </tr>\n",
              "    <tr>\n",
              "      <th>('P20', 'no_listed_methods')</th>\n",
              "      <td>0.04</td>\n",
              "    </tr>\n",
              "  </tbody>\n",
              "</table>\n",
              "</div>"
            ],
            "text/plain": [
              "                                       Cientista de Dados\n",
              "('P20', 'linear_regression')                         0.74\n",
              "('P20', 'logistic_regression')                       0.67\n",
              "('P20', 'decision_tree')                             0.65\n",
              "('P20', 'random_forest')                             0.65\n",
              "('P20', 'cluster_analysis')                          0.60\n",
              "('P20', 'neural_networks')                           0.46\n",
              "('P20', 'gradient_boosted_machines')                 0.45\n",
              "('P20', 'ensemble')                                  0.40\n",
              "('P20', 'nlp')                                       0.35\n",
              "('P20', 'bayesian_inference')                        0.32\n",
              "('P20', 'svms')                                      0.31\n",
              "('P20', 'glms')                                      0.29\n",
              "('P20', 'rnns')                                      0.18\n",
              "('P20', 'longitudinal_data_analysis')                0.18\n",
              "('P20', 'cnns')                                      0.17\n",
              "('P20', 'markov_chains')                             0.13\n",
              "('P20', 'survival_analysis')                         0.13\n",
              "('P20', 'joint analysis')                            0.07\n",
              "('P20', 'gans')                                      0.05\n",
              "('P20', 'hmms')                                      0.04\n",
              "('P20', 'no_listed_methods')                         0.04"
            ]
          },
          "metadata": {
            "tags": []
          },
          "execution_count": 25
        }
      ]
    },
    {
      "cell_type": "markdown",
      "metadata": {
        "id": "29vCOjR7Ja3-"
      },
      "source": [
        "Explorando os métodos, seus saláros médios e seu uso pelo sexo:"
      ]
    },
    {
      "cell_type": "code",
      "metadata": {
        "id": "_NswTsiNJZZi",
        "colab": {
          "base_uri": "https://localhost:8080/",
          "height": 692
        },
        "outputId": "e9c4ca79-6216-40ab-c340-7924f31d0e98"
      },
      "source": [
        "#lista de métodos para uso no For\n",
        "listmetodos = list(dados.filter(regex = 'P20'))\n",
        "\n",
        "#series de métodos para concatenação na tabela\n",
        "sermetodos = pd.Series(listmetodos)\n",
        "\n",
        "#cálculo de salário médio para os que usam o método\n",
        "salmet = []\n",
        "for i in listmetodos:\n",
        "  salmet.append(dados.groupby([f\"{i}\"])['salario'].mean().round(2).iloc[1])\n",
        "salmet = pd.Series(salmet)\n",
        "\n",
        "#% de uso por sexo F pelo método\n",
        "usof = []\n",
        "for i in listmetodos:\n",
        "  usof.append(dados.groupby(['sexo'])[f\"{i}\"].mean().round(2).iloc[0])\n",
        "usof = pd.Series(usof)\n",
        "\n",
        "#% de uso por sexo M pelo método\n",
        "usom = []\n",
        "for i in listmetodos:\n",
        "  usom.append(dados.groupby(['sexo'])[f\"{i}\"].mean().round(2).iloc[1])\n",
        "usom = pd.Series(usom)\n",
        "\n",
        "#criação da tabela\n",
        "tabela = pd.concat([sermetodos, salmet, usof, usom], axis = 1)\n",
        "#Título das colunas\n",
        "colunas = ['Métodos', 'Salário médio', 'Uso por mulheres', 'Uso por Homens']\n",
        "tabela.columns = colunas\n",
        "\n",
        "#ordenação dos dados e exibição\n",
        "tabela.sort_values(['Salário médio'], ascending = False)"
      ],
      "execution_count": null,
      "outputs": [
        {
          "output_type": "execute_result",
          "data": {
            "text/html": [
              "<div>\n",
              "<style scoped>\n",
              "    .dataframe tbody tr th:only-of-type {\n",
              "        vertical-align: middle;\n",
              "    }\n",
              "\n",
              "    .dataframe tbody tr th {\n",
              "        vertical-align: top;\n",
              "    }\n",
              "\n",
              "    .dataframe thead th {\n",
              "        text-align: right;\n",
              "    }\n",
              "</style>\n",
              "<table border=\"1\" class=\"dataframe\">\n",
              "  <thead>\n",
              "    <tr style=\"text-align: right;\">\n",
              "      <th></th>\n",
              "      <th>Métodos</th>\n",
              "      <th>Salário médio</th>\n",
              "      <th>Uso por mulheres</th>\n",
              "      <th>Uso por Homens</th>\n",
              "    </tr>\n",
              "  </thead>\n",
              "  <tbody>\n",
              "    <tr>\n",
              "      <th>12</th>\n",
              "      <td>('P20', 'gans')</td>\n",
              "      <td>10111.11</td>\n",
              "      <td>0.00</td>\n",
              "      <td>0.06</td>\n",
              "    </tr>\n",
              "    <tr>\n",
              "      <th>11</th>\n",
              "      <td>('P20', 'hmms')</td>\n",
              "      <td>8625.00</td>\n",
              "      <td>0.00</td>\n",
              "      <td>0.05</td>\n",
              "    </tr>\n",
              "    <tr>\n",
              "      <th>10</th>\n",
              "      <td>('P20', 'rnns')</td>\n",
              "      <td>8585.71</td>\n",
              "      <td>0.13</td>\n",
              "      <td>0.19</td>\n",
              "    </tr>\n",
              "    <tr>\n",
              "      <th>7</th>\n",
              "      <td>('P20', 'ensemble')</td>\n",
              "      <td>8344.16</td>\n",
              "      <td>0.16</td>\n",
              "      <td>0.45</td>\n",
              "    </tr>\n",
              "    <tr>\n",
              "      <th>18</th>\n",
              "      <td>('P20', 'longitudinal_data_analysis')</td>\n",
              "      <td>7852.94</td>\n",
              "      <td>0.13</td>\n",
              "      <td>0.19</td>\n",
              "    </tr>\n",
              "    <tr>\n",
              "      <th>8</th>\n",
              "      <td>('P20', 'svms')</td>\n",
              "      <td>7847.46</td>\n",
              "      <td>0.23</td>\n",
              "      <td>0.32</td>\n",
              "    </tr>\n",
              "    <tr>\n",
              "      <th>16</th>\n",
              "      <td>('P20', 'cluster_analysis')</td>\n",
              "      <td>7806.03</td>\n",
              "      <td>0.52</td>\n",
              "      <td>0.62</td>\n",
              "    </tr>\n",
              "    <tr>\n",
              "      <th>15</th>\n",
              "      <td>('P20', 'gradient_boosted_machines')</td>\n",
              "      <td>7738.37</td>\n",
              "      <td>0.23</td>\n",
              "      <td>0.49</td>\n",
              "    </tr>\n",
              "    <tr>\n",
              "      <th>9</th>\n",
              "      <td>('P20', 'cnns')</td>\n",
              "      <td>7718.75</td>\n",
              "      <td>0.10</td>\n",
              "      <td>0.18</td>\n",
              "    </tr>\n",
              "    <tr>\n",
              "      <th>3</th>\n",
              "      <td>('P20', 'decision_tree')</td>\n",
              "      <td>7571.43</td>\n",
              "      <td>0.68</td>\n",
              "      <td>0.65</td>\n",
              "    </tr>\n",
              "    <tr>\n",
              "      <th>1</th>\n",
              "      <td>('P20', 'logistic_regression')</td>\n",
              "      <td>7530.77</td>\n",
              "      <td>0.58</td>\n",
              "      <td>0.70</td>\n",
              "    </tr>\n",
              "    <tr>\n",
              "      <th>2</th>\n",
              "      <td>('P20', 'glms')</td>\n",
              "      <td>7428.57</td>\n",
              "      <td>0.23</td>\n",
              "      <td>0.30</td>\n",
              "    </tr>\n",
              "    <tr>\n",
              "      <th>0</th>\n",
              "      <td>('P20', 'linear_regression')</td>\n",
              "      <td>7346.15</td>\n",
              "      <td>0.68</td>\n",
              "      <td>0.76</td>\n",
              "    </tr>\n",
              "    <tr>\n",
              "      <th>4</th>\n",
              "      <td>('P20', 'random_forest')</td>\n",
              "      <td>7316.00</td>\n",
              "      <td>0.52</td>\n",
              "      <td>0.68</td>\n",
              "    </tr>\n",
              "    <tr>\n",
              "      <th>6</th>\n",
              "      <td>('P20', 'bayesian_inference')</td>\n",
              "      <td>7072.58</td>\n",
              "      <td>0.16</td>\n",
              "      <td>0.35</td>\n",
              "    </tr>\n",
              "    <tr>\n",
              "      <th>5</th>\n",
              "      <td>('P20', 'neural_networks')</td>\n",
              "      <td>6960.67</td>\n",
              "      <td>0.42</td>\n",
              "      <td>0.47</td>\n",
              "    </tr>\n",
              "    <tr>\n",
              "      <th>14</th>\n",
              "      <td>('P20', 'nlp')</td>\n",
              "      <td>6919.12</td>\n",
              "      <td>0.32</td>\n",
              "      <td>0.36</td>\n",
              "    </tr>\n",
              "    <tr>\n",
              "      <th>13</th>\n",
              "      <td>('P20', 'markov_chains')</td>\n",
              "      <td>6557.69</td>\n",
              "      <td>0.10</td>\n",
              "      <td>0.14</td>\n",
              "    </tr>\n",
              "    <tr>\n",
              "      <th>17</th>\n",
              "      <td>('P20', 'survival_analysis')</td>\n",
              "      <td>5134.62</td>\n",
              "      <td>0.03</td>\n",
              "      <td>0.16</td>\n",
              "    </tr>\n",
              "    <tr>\n",
              "      <th>19</th>\n",
              "      <td>('P20', 'joint analysis')</td>\n",
              "      <td>4846.15</td>\n",
              "      <td>0.06</td>\n",
              "      <td>0.07</td>\n",
              "    </tr>\n",
              "    <tr>\n",
              "      <th>20</th>\n",
              "      <td>('P20', 'no_listed_methods')</td>\n",
              "      <td>4428.57</td>\n",
              "      <td>0.03</td>\n",
              "      <td>0.04</td>\n",
              "    </tr>\n",
              "  </tbody>\n",
              "</table>\n",
              "</div>"
            ],
            "text/plain": [
              "                                  Métodos  ...  Uso por Homens\n",
              "12                        ('P20', 'gans')  ...            0.06\n",
              "11                        ('P20', 'hmms')  ...            0.05\n",
              "10                        ('P20', 'rnns')  ...            0.19\n",
              "7                     ('P20', 'ensemble')  ...            0.45\n",
              "18  ('P20', 'longitudinal_data_analysis')  ...            0.19\n",
              "8                         ('P20', 'svms')  ...            0.32\n",
              "16            ('P20', 'cluster_analysis')  ...            0.62\n",
              "15   ('P20', 'gradient_boosted_machines')  ...            0.49\n",
              "9                         ('P20', 'cnns')  ...            0.18\n",
              "3                ('P20', 'decision_tree')  ...            0.65\n",
              "1          ('P20', 'logistic_regression')  ...            0.70\n",
              "2                         ('P20', 'glms')  ...            0.30\n",
              "0            ('P20', 'linear_regression')  ...            0.76\n",
              "4                ('P20', 'random_forest')  ...            0.68\n",
              "6           ('P20', 'bayesian_inference')  ...            0.35\n",
              "5              ('P20', 'neural_networks')  ...            0.47\n",
              "14                         ('P20', 'nlp')  ...            0.36\n",
              "13               ('P20', 'markov_chains')  ...            0.14\n",
              "17           ('P20', 'survival_analysis')  ...            0.16\n",
              "19              ('P20', 'joint analysis')  ...            0.07\n",
              "20           ('P20', 'no_listed_methods')  ...            0.04\n",
              "\n",
              "[21 rows x 4 columns]"
            ]
          },
          "metadata": {
            "tags": []
          },
          "execution_count": 26
        }
      ]
    },
    {
      "cell_type": "markdown",
      "metadata": {
        "id": "ZOk_fong-eRs"
      },
      "source": [
        "Podemos tirar algumas conclusões ao observar essa tabela, entre elas é que temos métodos onde não tivemos uso por mulheres:"
      ]
    },
    {
      "cell_type": "code",
      "metadata": {
        "colab": {
          "base_uri": "https://localhost:8080/",
          "height": 110
        },
        "id": "Ei3ni-qZrMhz",
        "outputId": "ca884b95-235f-4c16-eddd-1822108e4ed1"
      },
      "source": [
        "tabela[tabela['Uso por mulheres'] == False]"
      ],
      "execution_count": null,
      "outputs": [
        {
          "output_type": "execute_result",
          "data": {
            "text/html": [
              "<div>\n",
              "<style scoped>\n",
              "    .dataframe tbody tr th:only-of-type {\n",
              "        vertical-align: middle;\n",
              "    }\n",
              "\n",
              "    .dataframe tbody tr th {\n",
              "        vertical-align: top;\n",
              "    }\n",
              "\n",
              "    .dataframe thead th {\n",
              "        text-align: right;\n",
              "    }\n",
              "</style>\n",
              "<table border=\"1\" class=\"dataframe\">\n",
              "  <thead>\n",
              "    <tr style=\"text-align: right;\">\n",
              "      <th></th>\n",
              "      <th>Métodos</th>\n",
              "      <th>Salário médio</th>\n",
              "      <th>Uso por mulheres</th>\n",
              "      <th>Uso por Homens</th>\n",
              "    </tr>\n",
              "  </thead>\n",
              "  <tbody>\n",
              "    <tr>\n",
              "      <th>11</th>\n",
              "      <td>('P20', 'hmms')</td>\n",
              "      <td>8625.00</td>\n",
              "      <td>0.0</td>\n",
              "      <td>0.05</td>\n",
              "    </tr>\n",
              "    <tr>\n",
              "      <th>12</th>\n",
              "      <td>('P20', 'gans')</td>\n",
              "      <td>10111.11</td>\n",
              "      <td>0.0</td>\n",
              "      <td>0.06</td>\n",
              "    </tr>\n",
              "  </tbody>\n",
              "</table>\n",
              "</div>"
            ],
            "text/plain": [
              "            Métodos  Salário médio  Uso por mulheres  Uso por Homens\n",
              "11  ('P20', 'hmms')        8625.00               0.0            0.05\n",
              "12  ('P20', 'gans')       10111.11               0.0            0.06"
            ]
          },
          "metadata": {
            "tags": []
          },
          "execution_count": 27
        }
      ]
    },
    {
      "cell_type": "markdown",
      "metadata": {
        "id": "ZJyUXJFM--FI"
      },
      "source": [
        "Os métodos com melhores salários são:\n",
        "\n"
      ]
    },
    {
      "cell_type": "code",
      "metadata": {
        "colab": {
          "base_uri": "https://localhost:8080/",
          "height": 141
        },
        "id": "8kO_uWeE-Qj7",
        "outputId": "619df5ca-4d0d-4671-fc15-0dc34df6f9b8"
      },
      "source": [
        "tabela.sort_values(['Salário médio'], ascending = False).head(3)"
      ],
      "execution_count": null,
      "outputs": [
        {
          "output_type": "execute_result",
          "data": {
            "text/html": [
              "<div>\n",
              "<style scoped>\n",
              "    .dataframe tbody tr th:only-of-type {\n",
              "        vertical-align: middle;\n",
              "    }\n",
              "\n",
              "    .dataframe tbody tr th {\n",
              "        vertical-align: top;\n",
              "    }\n",
              "\n",
              "    .dataframe thead th {\n",
              "        text-align: right;\n",
              "    }\n",
              "</style>\n",
              "<table border=\"1\" class=\"dataframe\">\n",
              "  <thead>\n",
              "    <tr style=\"text-align: right;\">\n",
              "      <th></th>\n",
              "      <th>Métodos</th>\n",
              "      <th>Salário médio</th>\n",
              "      <th>Uso por mulheres</th>\n",
              "      <th>Uso por Homens</th>\n",
              "    </tr>\n",
              "  </thead>\n",
              "  <tbody>\n",
              "    <tr>\n",
              "      <th>12</th>\n",
              "      <td>('P20', 'gans')</td>\n",
              "      <td>10111.11</td>\n",
              "      <td>0.00</td>\n",
              "      <td>0.06</td>\n",
              "    </tr>\n",
              "    <tr>\n",
              "      <th>11</th>\n",
              "      <td>('P20', 'hmms')</td>\n",
              "      <td>8625.00</td>\n",
              "      <td>0.00</td>\n",
              "      <td>0.05</td>\n",
              "    </tr>\n",
              "    <tr>\n",
              "      <th>10</th>\n",
              "      <td>('P20', 'rnns')</td>\n",
              "      <td>8585.71</td>\n",
              "      <td>0.13</td>\n",
              "      <td>0.19</td>\n",
              "    </tr>\n",
              "  </tbody>\n",
              "</table>\n",
              "</div>"
            ],
            "text/plain": [
              "            Métodos  Salário médio  Uso por mulheres  Uso por Homens\n",
              "12  ('P20', 'gans')       10111.11              0.00            0.06\n",
              "11  ('P20', 'hmms')        8625.00              0.00            0.05\n",
              "10  ('P20', 'rnns')        8585.71              0.13            0.19"
            ]
          },
          "metadata": {
            "tags": []
          },
          "execution_count": 28
        }
      ]
    },
    {
      "cell_type": "markdown",
      "metadata": {
        "id": "iOQXX8wUDOHC"
      },
      "source": [
        "Os métodos com as menores médias de salário são:"
      ]
    },
    {
      "cell_type": "code",
      "metadata": {
        "colab": {
          "base_uri": "https://localhost:8080/",
          "height": 141
        },
        "id": "YI6XMsqzCc3m",
        "outputId": "0891b986-9073-4dbd-c036-dde4549b4672"
      },
      "source": [
        "tabela.sort_values(['Salário médio'], ascending = False).tail(3)"
      ],
      "execution_count": null,
      "outputs": [
        {
          "output_type": "execute_result",
          "data": {
            "text/html": [
              "<div>\n",
              "<style scoped>\n",
              "    .dataframe tbody tr th:only-of-type {\n",
              "        vertical-align: middle;\n",
              "    }\n",
              "\n",
              "    .dataframe tbody tr th {\n",
              "        vertical-align: top;\n",
              "    }\n",
              "\n",
              "    .dataframe thead th {\n",
              "        text-align: right;\n",
              "    }\n",
              "</style>\n",
              "<table border=\"1\" class=\"dataframe\">\n",
              "  <thead>\n",
              "    <tr style=\"text-align: right;\">\n",
              "      <th></th>\n",
              "      <th>Métodos</th>\n",
              "      <th>Salário médio</th>\n",
              "      <th>Uso por mulheres</th>\n",
              "      <th>Uso por Homens</th>\n",
              "    </tr>\n",
              "  </thead>\n",
              "  <tbody>\n",
              "    <tr>\n",
              "      <th>17</th>\n",
              "      <td>('P20', 'survival_analysis')</td>\n",
              "      <td>5134.62</td>\n",
              "      <td>0.03</td>\n",
              "      <td>0.16</td>\n",
              "    </tr>\n",
              "    <tr>\n",
              "      <th>19</th>\n",
              "      <td>('P20', 'joint analysis')</td>\n",
              "      <td>4846.15</td>\n",
              "      <td>0.06</td>\n",
              "      <td>0.07</td>\n",
              "    </tr>\n",
              "    <tr>\n",
              "      <th>20</th>\n",
              "      <td>('P20', 'no_listed_methods')</td>\n",
              "      <td>4428.57</td>\n",
              "      <td>0.03</td>\n",
              "      <td>0.04</td>\n",
              "    </tr>\n",
              "  </tbody>\n",
              "</table>\n",
              "</div>"
            ],
            "text/plain": [
              "                         Métodos  ...  Uso por Homens\n",
              "17  ('P20', 'survival_analysis')  ...            0.16\n",
              "19     ('P20', 'joint analysis')  ...            0.07\n",
              "20  ('P20', 'no_listed_methods')  ...            0.04\n",
              "\n",
              "[3 rows x 4 columns]"
            ]
          },
          "metadata": {
            "tags": []
          },
          "execution_count": 29
        }
      ]
    },
    {
      "cell_type": "markdown",
      "metadata": {
        "id": "Cw5fOVNYD5-V"
      },
      "source": [
        "Outro ponto que podemos explorar é se usar ou não o método tem reflexo no salário:"
      ]
    },
    {
      "cell_type": "code",
      "metadata": {
        "colab": {
          "base_uri": "https://localhost:8080/",
          "height": 692
        },
        "id": "o3F09m16C7wC",
        "outputId": "04228e57-1f7e-4112-8421-2debbf03785e"
      },
      "source": [
        "#cálculo de salário médio para os que NÃO usam o método\n",
        "salmetnao = []\n",
        "for i in listmetodos:\n",
        "  salmetnao.append(dados.groupby([f\"{i}\"])['salario'].mean().round(2).iloc[0])\n",
        "salmetnao = pd.Series(salmetnao)\n",
        "\n",
        "#cálculo da diferença pelos usos\n",
        "difsal = salmet - salmetnao\n",
        "\n",
        "#criação da tabela\n",
        "tabela_sal = pd.concat([sermetodos, salmet, salmetnao, difsal], axis = 1)\n",
        "\n",
        "#Título das colunas\n",
        "colunas_sal = ['Métodos', 'R$ USO', 'R$ NÃO USO', 'Diferença']\n",
        "tabela_sal.columns = colunas_sal\n",
        "\n",
        "#ordenação e exibição dos dados\n",
        "tabela_sal.sort_values(['Diferença'], ascending = False)"
      ],
      "execution_count": null,
      "outputs": [
        {
          "output_type": "execute_result",
          "data": {
            "text/html": [
              "<div>\n",
              "<style scoped>\n",
              "    .dataframe tbody tr th:only-of-type {\n",
              "        vertical-align: middle;\n",
              "    }\n",
              "\n",
              "    .dataframe tbody tr th {\n",
              "        vertical-align: top;\n",
              "    }\n",
              "\n",
              "    .dataframe thead th {\n",
              "        text-align: right;\n",
              "    }\n",
              "</style>\n",
              "<table border=\"1\" class=\"dataframe\">\n",
              "  <thead>\n",
              "    <tr style=\"text-align: right;\">\n",
              "      <th></th>\n",
              "      <th>Métodos</th>\n",
              "      <th>R$ USO</th>\n",
              "      <th>R$ NÃO USO</th>\n",
              "      <th>Diferença</th>\n",
              "    </tr>\n",
              "  </thead>\n",
              "  <tbody>\n",
              "    <tr>\n",
              "      <th>12</th>\n",
              "      <td>('P20', 'gans')</td>\n",
              "      <td>10111.11</td>\n",
              "      <td>6671.20</td>\n",
              "      <td>3439.91</td>\n",
              "    </tr>\n",
              "    <tr>\n",
              "      <th>7</th>\n",
              "      <td>('P20', 'ensemble')</td>\n",
              "      <td>8344.16</td>\n",
              "      <td>5827.59</td>\n",
              "      <td>2516.57</td>\n",
              "    </tr>\n",
              "    <tr>\n",
              "      <th>16</th>\n",
              "      <td>('P20', 'cluster_analysis')</td>\n",
              "      <td>7806.03</td>\n",
              "      <td>5363.64</td>\n",
              "      <td>2442.39</td>\n",
              "    </tr>\n",
              "    <tr>\n",
              "      <th>10</th>\n",
              "      <td>('P20', 'rnns')</td>\n",
              "      <td>8585.71</td>\n",
              "      <td>6443.04</td>\n",
              "      <td>2142.67</td>\n",
              "    </tr>\n",
              "    <tr>\n",
              "      <th>1</th>\n",
              "      <td>('P20', 'logistic_regression')</td>\n",
              "      <td>7530.77</td>\n",
              "      <td>5388.89</td>\n",
              "      <td>2141.88</td>\n",
              "    </tr>\n",
              "    <tr>\n",
              "      <th>3</th>\n",
              "      <td>('P20', 'decision_tree')</td>\n",
              "      <td>7571.43</td>\n",
              "      <td>5440.30</td>\n",
              "      <td>2131.13</td>\n",
              "    </tr>\n",
              "    <tr>\n",
              "      <th>0</th>\n",
              "      <td>('P20', 'linear_regression')</td>\n",
              "      <td>7346.15</td>\n",
              "      <td>5360.00</td>\n",
              "      <td>1986.15</td>\n",
              "    </tr>\n",
              "    <tr>\n",
              "      <th>11</th>\n",
              "      <td>('P20', 'hmms')</td>\n",
              "      <td>8625.00</td>\n",
              "      <td>6754.05</td>\n",
              "      <td>1870.95</td>\n",
              "    </tr>\n",
              "    <tr>\n",
              "      <th>15</th>\n",
              "      <td>('P20', 'gradient_boosted_machines')</td>\n",
              "      <td>7738.37</td>\n",
              "      <td>6102.80</td>\n",
              "      <td>1635.57</td>\n",
              "    </tr>\n",
              "    <tr>\n",
              "      <th>8</th>\n",
              "      <td>('P20', 'svms')</td>\n",
              "      <td>7847.46</td>\n",
              "      <td>6384.33</td>\n",
              "      <td>1463.13</td>\n",
              "    </tr>\n",
              "    <tr>\n",
              "      <th>4</th>\n",
              "      <td>('P20', 'random_forest')</td>\n",
              "      <td>7316.00</td>\n",
              "      <td>5941.18</td>\n",
              "      <td>1374.82</td>\n",
              "    </tr>\n",
              "    <tr>\n",
              "      <th>18</th>\n",
              "      <td>('P20', 'longitudinal_data_analysis')</td>\n",
              "      <td>7852.94</td>\n",
              "      <td>6613.21</td>\n",
              "      <td>1239.73</td>\n",
              "    </tr>\n",
              "    <tr>\n",
              "      <th>9</th>\n",
              "      <td>('P20', 'cnns')</td>\n",
              "      <td>7718.75</td>\n",
              "      <td>6655.28</td>\n",
              "      <td>1063.47</td>\n",
              "    </tr>\n",
              "    <tr>\n",
              "      <th>2</th>\n",
              "      <td>('P20', 'glms')</td>\n",
              "      <td>7428.57</td>\n",
              "      <td>6587.59</td>\n",
              "      <td>840.98</td>\n",
              "    </tr>\n",
              "    <tr>\n",
              "      <th>6</th>\n",
              "      <td>('P20', 'bayesian_inference')</td>\n",
              "      <td>7072.58</td>\n",
              "      <td>6717.56</td>\n",
              "      <td>355.02</td>\n",
              "    </tr>\n",
              "    <tr>\n",
              "      <th>5</th>\n",
              "      <td>('P20', 'neural_networks')</td>\n",
              "      <td>6960.67</td>\n",
              "      <td>6721.15</td>\n",
              "      <td>239.52</td>\n",
              "    </tr>\n",
              "    <tr>\n",
              "      <th>14</th>\n",
              "      <td>('P20', 'nlp')</td>\n",
              "      <td>6919.12</td>\n",
              "      <td>6784.00</td>\n",
              "      <td>135.12</td>\n",
              "    </tr>\n",
              "    <tr>\n",
              "      <th>13</th>\n",
              "      <td>('P20', 'markov_chains')</td>\n",
              "      <td>6557.69</td>\n",
              "      <td>6874.25</td>\n",
              "      <td>-316.56</td>\n",
              "    </tr>\n",
              "    <tr>\n",
              "      <th>17</th>\n",
              "      <td>('P20', 'survival_analysis')</td>\n",
              "      <td>5134.62</td>\n",
              "      <td>7095.81</td>\n",
              "      <td>-1961.19</td>\n",
              "    </tr>\n",
              "    <tr>\n",
              "      <th>19</th>\n",
              "      <td>('P20', 'joint analysis')</td>\n",
              "      <td>4846.15</td>\n",
              "      <td>6975.00</td>\n",
              "      <td>-2128.85</td>\n",
              "    </tr>\n",
              "    <tr>\n",
              "      <th>20</th>\n",
              "      <td>('P20', 'no_listed_methods')</td>\n",
              "      <td>4428.57</td>\n",
              "      <td>6922.04</td>\n",
              "      <td>-2493.47</td>\n",
              "    </tr>\n",
              "  </tbody>\n",
              "</table>\n",
              "</div>"
            ],
            "text/plain": [
              "                                  Métodos    R$ USO  R$ NÃO USO  Diferença\n",
              "12                        ('P20', 'gans')  10111.11     6671.20    3439.91\n",
              "7                     ('P20', 'ensemble')   8344.16     5827.59    2516.57\n",
              "16            ('P20', 'cluster_analysis')   7806.03     5363.64    2442.39\n",
              "10                        ('P20', 'rnns')   8585.71     6443.04    2142.67\n",
              "1          ('P20', 'logistic_regression')   7530.77     5388.89    2141.88\n",
              "3                ('P20', 'decision_tree')   7571.43     5440.30    2131.13\n",
              "0            ('P20', 'linear_regression')   7346.15     5360.00    1986.15\n",
              "11                        ('P20', 'hmms')   8625.00     6754.05    1870.95\n",
              "15   ('P20', 'gradient_boosted_machines')   7738.37     6102.80    1635.57\n",
              "8                         ('P20', 'svms')   7847.46     6384.33    1463.13\n",
              "4                ('P20', 'random_forest')   7316.00     5941.18    1374.82\n",
              "18  ('P20', 'longitudinal_data_analysis')   7852.94     6613.21    1239.73\n",
              "9                         ('P20', 'cnns')   7718.75     6655.28    1063.47\n",
              "2                         ('P20', 'glms')   7428.57     6587.59     840.98\n",
              "6           ('P20', 'bayesian_inference')   7072.58     6717.56     355.02\n",
              "5              ('P20', 'neural_networks')   6960.67     6721.15     239.52\n",
              "14                         ('P20', 'nlp')   6919.12     6784.00     135.12\n",
              "13               ('P20', 'markov_chains')   6557.69     6874.25    -316.56\n",
              "17           ('P20', 'survival_analysis')   5134.62     7095.81   -1961.19\n",
              "19              ('P20', 'joint analysis')   4846.15     6975.00   -2128.85\n",
              "20           ('P20', 'no_listed_methods')   4428.57     6922.04   -2493.47"
            ]
          },
          "metadata": {
            "tags": []
          },
          "execution_count": 30
        }
      ]
    },
    {
      "cell_type": "markdown",
      "metadata": {
        "id": "Frm_tyfJRQq0"
      },
      "source": [
        "Veja que temos métodos com reflexos estranhos no salário, onde se você o utiliza, em média ganhará menos."
      ]
    },
    {
      "cell_type": "code",
      "metadata": {
        "colab": {
          "base_uri": "https://localhost:8080/",
          "height": 171
        },
        "id": "0002MPZAGSDS",
        "outputId": "3811f34e-833b-4ce7-99f2-811c39e3b9c9"
      },
      "source": [
        "tabela_sal[tabela_sal['Diferença'] < 0]"
      ],
      "execution_count": null,
      "outputs": [
        {
          "output_type": "execute_result",
          "data": {
            "text/html": [
              "<div>\n",
              "<style scoped>\n",
              "    .dataframe tbody tr th:only-of-type {\n",
              "        vertical-align: middle;\n",
              "    }\n",
              "\n",
              "    .dataframe tbody tr th {\n",
              "        vertical-align: top;\n",
              "    }\n",
              "\n",
              "    .dataframe thead th {\n",
              "        text-align: right;\n",
              "    }\n",
              "</style>\n",
              "<table border=\"1\" class=\"dataframe\">\n",
              "  <thead>\n",
              "    <tr style=\"text-align: right;\">\n",
              "      <th></th>\n",
              "      <th>Métodos</th>\n",
              "      <th>R$ USO</th>\n",
              "      <th>R$ NÃO USO</th>\n",
              "      <th>Diferença</th>\n",
              "    </tr>\n",
              "  </thead>\n",
              "  <tbody>\n",
              "    <tr>\n",
              "      <th>13</th>\n",
              "      <td>('P20', 'markov_chains')</td>\n",
              "      <td>6557.69</td>\n",
              "      <td>6874.25</td>\n",
              "      <td>-316.56</td>\n",
              "    </tr>\n",
              "    <tr>\n",
              "      <th>17</th>\n",
              "      <td>('P20', 'survival_analysis')</td>\n",
              "      <td>5134.62</td>\n",
              "      <td>7095.81</td>\n",
              "      <td>-1961.19</td>\n",
              "    </tr>\n",
              "    <tr>\n",
              "      <th>19</th>\n",
              "      <td>('P20', 'joint analysis')</td>\n",
              "      <td>4846.15</td>\n",
              "      <td>6975.00</td>\n",
              "      <td>-2128.85</td>\n",
              "    </tr>\n",
              "    <tr>\n",
              "      <th>20</th>\n",
              "      <td>('P20', 'no_listed_methods')</td>\n",
              "      <td>4428.57</td>\n",
              "      <td>6922.04</td>\n",
              "      <td>-2493.47</td>\n",
              "    </tr>\n",
              "  </tbody>\n",
              "</table>\n",
              "</div>"
            ],
            "text/plain": [
              "                         Métodos   R$ USO  R$ NÃO USO  Diferença\n",
              "13      ('P20', 'markov_chains')  6557.69     6874.25    -316.56\n",
              "17  ('P20', 'survival_analysis')  5134.62     7095.81   -1961.19\n",
              "19     ('P20', 'joint analysis')  4846.15     6975.00   -2128.85\n",
              "20  ('P20', 'no_listed_methods')  4428.57     6922.04   -2493.47"
            ]
          },
          "metadata": {
            "tags": []
          },
          "execution_count": 31
        }
      ]
    },
    {
      "cell_type": "markdown",
      "metadata": {
        "id": "rEwqQnz3SgYC"
      },
      "source": [
        "Saindo dos métodos, vamos verificar o salário em relação ao tipo de emprego:"
      ]
    },
    {
      "cell_type": "code",
      "metadata": {
        "colab": {
          "base_uri": "https://localhost:8080/",
          "height": 282
        },
        "id": "EWoxXnPiRzeq",
        "outputId": "58f27415-16c5-477a-dbc2-337bbca81bf3"
      },
      "source": [
        "#Nova coluna situação\n",
        "dados['situação'] = dados[\"('P10', 'job_situation')\"]\n",
        "\n",
        "#exibição\n",
        "dados.groupby(['situação']).mean()['salario'].plot(kind = 'barh')"
      ],
      "execution_count": null,
      "outputs": [
        {
          "output_type": "execute_result",
          "data": {
            "text/plain": [
              "<matplotlib.axes._subplots.AxesSubplot at 0x7f6d896f4d90>"
            ]
          },
          "metadata": {
            "tags": []
          },
          "execution_count": 35
        },
        {
          "output_type": "display_data",
          "data": {
            "image/png": "[encoded data removed]",
            "text/plain": [
              "<Figure size 432x288 with 1 Axes>"
            ]
          },
          "metadata": {
            "tags": [],
            "needs_background": "light"
          }
        }
      ]
    },
    {
      "cell_type": "code",
      "metadata": {
        "colab": {
          "base_uri": "https://localhost:8080/",
          "height": 263
        },
        "id": "I_frY6WqSe7B",
        "outputId": "2d5a3755-eaa4-4f1d-fc3c-66db02c9d60b"
      },
      "source": [
        "#criação da tabela\n",
        "sit = dados.groupby(['situação', 'cds']).mean()['salario'].round(2).T.unstack()\n",
        "\n",
        "#ordenação e exibição\n",
        "sit.sort_values(['Cientista de Dados'], ascending= False)"
      ],
      "execution_count": null,
      "outputs": [
        {
          "output_type": "execute_result",
          "data": {
            "text/html": [
              "<div>\n",
              "<style scoped>\n",
              "    .dataframe tbody tr th:only-of-type {\n",
              "        vertical-align: middle;\n",
              "    }\n",
              "\n",
              "    .dataframe tbody tr th {\n",
              "        vertical-align: top;\n",
              "    }\n",
              "\n",
              "    .dataframe thead th {\n",
              "        text-align: right;\n",
              "    }\n",
              "</style>\n",
              "<table border=\"1\" class=\"dataframe\">\n",
              "  <thead>\n",
              "    <tr style=\"text-align: right;\">\n",
              "      <th>cds</th>\n",
              "      <th>Cientista de Dados</th>\n",
              "    </tr>\n",
              "    <tr>\n",
              "      <th>situação</th>\n",
              "      <th></th>\n",
              "    </tr>\n",
              "  </thead>\n",
              "  <tbody>\n",
              "    <tr>\n",
              "      <th>Servidor Público</th>\n",
              "      <td>15333.33</td>\n",
              "    </tr>\n",
              "    <tr>\n",
              "      <th>Empreendedor ou Empregado (CNPJ)</th>\n",
              "      <td>8666.67</td>\n",
              "    </tr>\n",
              "    <tr>\n",
              "      <th>Empregado (CTL)</th>\n",
              "      <td>7255.32</td>\n",
              "    </tr>\n",
              "    <tr>\n",
              "      <th>Prefiro não dizer</th>\n",
              "      <td>6666.67</td>\n",
              "    </tr>\n",
              "    <tr>\n",
              "      <th>Freelancer</th>\n",
              "      <td>3375.00</td>\n",
              "    </tr>\n",
              "    <tr>\n",
              "      <th>Estagiário</th>\n",
              "      <td>1619.05</td>\n",
              "    </tr>\n",
              "  </tbody>\n",
              "</table>\n",
              "</div>"
            ],
            "text/plain": [
              "cds                               Cientista de Dados\n",
              "situação                                            \n",
              "Servidor Público                            15333.33\n",
              "Empreendedor ou Empregado (CNPJ)             8666.67\n",
              "Empregado (CTL)                              7255.32\n",
              "Prefiro não dizer                            6666.67\n",
              "Freelancer                                   3375.00\n",
              "Estagiário                                   1619.05"
            ]
          },
          "metadata": {
            "tags": []
          },
          "execution_count": 77
        }
      ]
    },
    {
      "cell_type": "markdown",
      "metadata": {
        "id": "_sQpaqLPTyRh"
      },
      "source": [
        "Notável a diferença de salários do grupo Servidor Público para os demais"
      ]
    },
    {
      "cell_type": "markdown",
      "metadata": {
        "id": "hk-DI1S8gwe7"
      },
      "source": [
        "Por fim, vejamos a diferença salarial por nível de formação"
      ]
    },
    {
      "cell_type": "code",
      "metadata": {
        "colab": {
          "base_uri": "https://localhost:8080/",
          "height": 263
        },
        "id": "tPHtWMlHTrZ1",
        "outputId": "518fdddf-9897-43ee-d70c-4fddc62a60e1"
      },
      "source": [
        "#criação da tabela\n",
        "esc = dados.groupby(['escolaridade', 'cds']).mean()['salario'].round(2).T.unstack()\n",
        "\n",
        "#ordenação e exibição dos dados\n",
        "esc.sort_values(['Cientista de Dados'], ascending = False)"
      ],
      "execution_count": null,
      "outputs": [
        {
          "output_type": "execute_result",
          "data": {
            "text/html": [
              "<div>\n",
              "<style scoped>\n",
              "    .dataframe tbody tr th:only-of-type {\n",
              "        vertical-align: middle;\n",
              "    }\n",
              "\n",
              "    .dataframe tbody tr th {\n",
              "        vertical-align: top;\n",
              "    }\n",
              "\n",
              "    .dataframe thead th {\n",
              "        text-align: right;\n",
              "    }\n",
              "</style>\n",
              "<table border=\"1\" class=\"dataframe\">\n",
              "  <thead>\n",
              "    <tr style=\"text-align: right;\">\n",
              "      <th>cds</th>\n",
              "      <th>Cientista de Dados</th>\n",
              "    </tr>\n",
              "    <tr>\n",
              "      <th>escolaridade</th>\n",
              "      <th></th>\n",
              "    </tr>\n",
              "  </thead>\n",
              "  <tbody>\n",
              "    <tr>\n",
              "      <th>Doutorado ou Phd</th>\n",
              "      <td>13500.00</td>\n",
              "    </tr>\n",
              "    <tr>\n",
              "      <th>Pós-graduação</th>\n",
              "      <td>8986.84</td>\n",
              "    </tr>\n",
              "    <tr>\n",
              "      <th>Mestrado</th>\n",
              "      <td>7918.60</td>\n",
              "    </tr>\n",
              "    <tr>\n",
              "      <th>Não tenho graduação formal</th>\n",
              "      <td>6416.67</td>\n",
              "    </tr>\n",
              "    <tr>\n",
              "      <th>Graduação/Bacharelado</th>\n",
              "      <td>5459.68</td>\n",
              "    </tr>\n",
              "    <tr>\n",
              "      <th>Estudante de Graduação</th>\n",
              "      <td>3363.64</td>\n",
              "    </tr>\n",
              "  </tbody>\n",
              "</table>\n",
              "</div>"
            ],
            "text/plain": [
              "cds                         Cientista de Dados\n",
              "escolaridade                                  \n",
              "Doutorado ou Phd                      13500.00\n",
              "Pós-graduação                          8986.84\n",
              "Mestrado                               7918.60\n",
              "Não tenho graduação formal             6416.67\n",
              "Graduação/Bacharelado                  5459.68\n",
              "Estudante de Graduação                 3363.64"
            ]
          },
          "metadata": {
            "tags": []
          },
          "execution_count": 80
        }
      ]
    },
    {
      "cell_type": "code",
      "metadata": {
        "id": "kpSnL3dehNj0",
        "colab": {
          "base_uri": "https://localhost:8080/",
          "height": 263
        },
        "outputId": "a7808aeb-5069-426b-fd90-a543c4ac968f"
      },
      "source": [
        "val = dados.groupby(\"escolaridade\")[\"situação\"].value_counts().unstack().fillna(0)\n",
        "val"
      ],
      "execution_count": 84,
      "outputs": [
        {
          "output_type": "execute_result",
          "data": {
            "text/html": [
              "<div>\n",
              "<style scoped>\n",
              "    .dataframe tbody tr th:only-of-type {\n",
              "        vertical-align: middle;\n",
              "    }\n",
              "\n",
              "    .dataframe tbody tr th {\n",
              "        vertical-align: top;\n",
              "    }\n",
              "\n",
              "    .dataframe thead th {\n",
              "        text-align: right;\n",
              "    }\n",
              "</style>\n",
              "<table border=\"1\" class=\"dataframe\">\n",
              "  <thead>\n",
              "    <tr style=\"text-align: right;\">\n",
              "      <th>situação</th>\n",
              "      <th>Empreendedor ou Empregado (CNPJ)</th>\n",
              "      <th>Empregado (CTL)</th>\n",
              "      <th>Estagiário</th>\n",
              "      <th>Freelancer</th>\n",
              "      <th>Prefiro não dizer</th>\n",
              "      <th>Servidor Público</th>\n",
              "    </tr>\n",
              "    <tr>\n",
              "      <th>escolaridade</th>\n",
              "      <th></th>\n",
              "      <th></th>\n",
              "      <th></th>\n",
              "      <th></th>\n",
              "      <th></th>\n",
              "      <th></th>\n",
              "    </tr>\n",
              "  </thead>\n",
              "  <tbody>\n",
              "    <tr>\n",
              "      <th>Doutorado ou Phd</th>\n",
              "      <td>2.0</td>\n",
              "      <td>9.0</td>\n",
              "      <td>0.0</td>\n",
              "      <td>0.0</td>\n",
              "      <td>0.0</td>\n",
              "      <td>0.0</td>\n",
              "    </tr>\n",
              "    <tr>\n",
              "      <th>Estudante de Graduação</th>\n",
              "      <td>2.0</td>\n",
              "      <td>13.0</td>\n",
              "      <td>18.0</td>\n",
              "      <td>0.0</td>\n",
              "      <td>0.0</td>\n",
              "      <td>0.0</td>\n",
              "    </tr>\n",
              "    <tr>\n",
              "      <th>Graduação/Bacharelado</th>\n",
              "      <td>5.0</td>\n",
              "      <td>54.0</td>\n",
              "      <td>3.0</td>\n",
              "      <td>0.0</td>\n",
              "      <td>0.0</td>\n",
              "      <td>0.0</td>\n",
              "    </tr>\n",
              "    <tr>\n",
              "      <th>Mestrado</th>\n",
              "      <td>6.0</td>\n",
              "      <td>31.0</td>\n",
              "      <td>0.0</td>\n",
              "      <td>3.0</td>\n",
              "      <td>2.0</td>\n",
              "      <td>1.0</td>\n",
              "    </tr>\n",
              "    <tr>\n",
              "      <th>Não tenho graduação formal</th>\n",
              "      <td>2.0</td>\n",
              "      <td>3.0</td>\n",
              "      <td>0.0</td>\n",
              "      <td>0.0</td>\n",
              "      <td>1.0</td>\n",
              "      <td>0.0</td>\n",
              "    </tr>\n",
              "    <tr>\n",
              "      <th>Pós-graduação</th>\n",
              "      <td>4.0</td>\n",
              "      <td>31.0</td>\n",
              "      <td>0.0</td>\n",
              "      <td>1.0</td>\n",
              "      <td>0.0</td>\n",
              "      <td>2.0</td>\n",
              "    </tr>\n",
              "  </tbody>\n",
              "</table>\n",
              "</div>"
            ],
            "text/plain": [
              "situação                    Empreendedor ou Empregado (CNPJ)  ...  Servidor Público\n",
              "escolaridade                                                  ...                  \n",
              "Doutorado ou Phd                                         2.0  ...               0.0\n",
              "Estudante de Graduação                                   2.0  ...               0.0\n",
              "Graduação/Bacharelado                                    5.0  ...               0.0\n",
              "Mestrado                                                 6.0  ...               1.0\n",
              "Não tenho graduação formal                               2.0  ...               0.0\n",
              "Pós-graduação                                            4.0  ...               2.0\n",
              "\n",
              "[6 rows x 6 columns]"
            ]
          },
          "metadata": {
            "tags": []
          },
          "execution_count": 84
        }
      ]
    },
    {
      "cell_type": "code",
      "metadata": {
        "id": "kjizpsfMiQ9e"
      },
      "source": [
        ""
      ],
      "execution_count": null,
      "outputs": []
    }
  ]
}