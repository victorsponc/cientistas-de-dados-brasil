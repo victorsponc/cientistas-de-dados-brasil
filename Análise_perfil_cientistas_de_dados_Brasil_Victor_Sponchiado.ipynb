{
  "nbformat": 4,
  "nbformat_minor": 0,
  "metadata": {
    "colab": {
      "name": "Análise perfil cientistas de dados Brasil - Victor Sponchiado",
      "provenance": [],
      "collapsed_sections": [],
      "authorship_tag": "ABX9TyO/ZSkhitIt7KXcUrp6TxTs",
      "include_colab_link": true
    },
    "kernelspec": {
      "name": "python3",
      "display_name": "Python 3"
    },
    "language_info": {
      "name": "python"
    }
  },
  "cells": [
    {
      "cell_type": "markdown",
      "metadata": {
        "id": "view-in-github",
        "colab_type": "text"
      },
      "source": [
        "<a href=\"https://colab.research.google.com/github/victorsponc/cientistas-de-dados-brasil/blob/main/An%C3%A1lise_perfil_cientistas_de_dados_Brasil_Victor_Sponchiado.ipynb\" target=\"_parent\"><img src=\"https://colab.research.google.com/assets/colab-badge.svg\" alt=\"Open In Colab\"/></a>"
      ]
    },
    {
      "cell_type": "markdown",
      "metadata": {
        "id": "JaYRDgqDXUXM"
      },
      "source": [
        "# **Análise do profissional de Ciência de dados no Brasil**"
      ]
    },
    {
      "cell_type": "markdown",
      "metadata": {
        "id": "PayQXD04Xh0S"
      },
      "source": [
        "### Para realizar a análise utilizaremos a pesquisa realizada pela Data Hackers em 2019"
      ]
    },
    {
      "cell_type": "markdown",
      "metadata": {
        "id": "UlwXqHYGYooR"
      },
      "source": [
        "Usaremos a biblioteca Pandas predominantemente"
      ]
    },
    {
      "cell_type": "code",
      "metadata": {
        "id": "2XJyoizdaOSn"
      },
      "source": [
        "import pandas as pd\n",
        "import matplotlib.pyplot as plt"
      ],
      "execution_count": 1,
      "outputs": []
    },
    {
      "cell_type": "code",
      "metadata": {
        "colab": {
          "base_uri": "https://localhost:8080/",
          "height": 401
        },
        "id": "xAwBxuwrXPV6",
        "outputId": "aaa73dbc-b2ca-43bd-ec3b-c7b31a4f41d4"
      },
      "source": [
        "# importar base de dados\n",
        "uri = 'https://raw.githubusercontent.com/victorsponc/cientistas-de-dados-brasil/main/datahackers-survey-2019-anonymous-responses.csv'\n",
        "dados = pd.read_csv(uri)\n",
        "\n",
        "# exibir as 5 primeiras linhas\n",
        "dados.head(5)"
      ],
      "execution_count": 2,
      "outputs": [
        {
          "output_type": "execute_result",
          "data": {
            "text/html": [
              "<div>\n",
              "<style scoped>\n",
              "    .dataframe tbody tr th:only-of-type {\n",
              "        vertical-align: middle;\n",
              "    }\n",
              "\n",
              "    .dataframe tbody tr th {\n",
              "        vertical-align: top;\n",
              "    }\n",
              "\n",
              "    .dataframe thead th {\n",
              "        text-align: right;\n",
              "    }\n",
              "</style>\n",
              "<table border=\"1\" class=\"dataframe\">\n",
              "  <thead>\n",
              "    <tr style=\"text-align: right;\">\n",
              "      <th></th>\n",
              "      <th>('P0', 'id')</th>\n",
              "      <th>('P1', 'age')</th>\n",
              "      <th>('P2', 'gender')</th>\n",
              "      <th>('P3', 'living_in_brasil')</th>\n",
              "      <th>('P5', 'living_state')</th>\n",
              "      <th>('P6', 'born_or_graduated')</th>\n",
              "      <th>('P8', 'degreee_level')</th>\n",
              "      <th>('P10', 'job_situation')</th>\n",
              "      <th>('P12', 'workers_number')</th>\n",
              "      <th>('P13', 'manager')</th>\n",
              "      <th>('P16', 'salary_range')</th>\n",
              "      <th>('P17', 'time_experience_data_science')</th>\n",
              "      <th>('P18', 'time_experience_before')</th>\n",
              "      <th>('P19', 'is_data_science_professional')</th>\n",
              "      <th>('P20', 'linear_regression')</th>\n",
              "      <th>('P20', 'logistic_regression')</th>\n",
              "      <th>('P20', 'glms')</th>\n",
              "      <th>('P20', 'decision_tree')</th>\n",
              "      <th>('P20', 'random_forest')</th>\n",
              "      <th>('P20', 'neural_networks')</th>\n",
              "      <th>('P20', 'bayesian_inference')</th>\n",
              "      <th>('P20', 'ensemble')</th>\n",
              "      <th>('P20', 'svms')</th>\n",
              "      <th>('P20', 'cnns')</th>\n",
              "      <th>('P20', 'rnns')</th>\n",
              "      <th>('P20', 'hmms')</th>\n",
              "      <th>('P20', 'gans')</th>\n",
              "      <th>('P20', 'markov_chains')</th>\n",
              "      <th>('P20', 'nlp')</th>\n",
              "      <th>('P20', 'gradient_boosted_machines')</th>\n",
              "      <th>('P20', 'cluster_analysis')</th>\n",
              "      <th>('P20', 'survival_analysis')</th>\n",
              "      <th>('P20', 'longitudinal_data_analysis')</th>\n",
              "      <th>('P20', 'joint analysis')</th>\n",
              "      <th>('P20', 'no_listed_methods')</th>\n",
              "      <th>('P21', 'sql_')</th>\n",
              "      <th>('P21', 'r')</th>\n",
              "      <th>('P21', 'python')</th>\n",
              "      <th>('P21', 'c_c++_c#')</th>\n",
              "      <th>('P21', 'dotnet')</th>\n",
              "      <th>...</th>\n",
              "      <th>('P30', 'microsoft_azure')</th>\n",
              "      <th>('P30', 'do_not_know')</th>\n",
              "      <th>('P30', 'other')</th>\n",
              "      <th>('P31', 'data_hackers_blog')</th>\n",
              "      <th>('P31', 'data_hackers_podcast')</th>\n",
              "      <th>('P31', 'weekly_newsletter')</th>\n",
              "      <th>('P31', 'slack_channel')</th>\n",
              "      <th>('P31', 'data_hackers_bootcamp')</th>\n",
              "      <th>('P31', 'do_not_know_data_hackers')</th>\n",
              "      <th>('P32', 'prefered_data_hackers_initiative')</th>\n",
              "      <th>('P33', 'telegram_groups')</th>\n",
              "      <th>('P33', 'whatsapp_groups')</th>\n",
              "      <th>('P33', 'youtube_channels')</th>\n",
              "      <th>('P33', 'other_brasilian_blogs')</th>\n",
              "      <th>('P33', 'other_slack_channels')</th>\n",
              "      <th>('P33', 'twitter')</th>\n",
              "      <th>('P33', 'abroad_blogs')</th>\n",
              "      <th>('P33', 'abroad_podcasts')</th>\n",
              "      <th>('P33', 'meetups_and_events')</th>\n",
              "      <th>('P33', 'only_data_hackers')</th>\n",
              "      <th>('P33', 'other')</th>\n",
              "      <th>('P34', 'udacity')</th>\n",
              "      <th>('P34', 'coursera')</th>\n",
              "      <th>('P34', 'udemy')</th>\n",
              "      <th>('P34', 'height')</th>\n",
              "      <th>('P34', 'edx')</th>\n",
              "      <th>('P34', 'data_camp')</th>\n",
              "      <th>('P34', 'data_quest')</th>\n",
              "      <th>('P34', 'kaggle_learn')</th>\n",
              "      <th>('P34', 'online_courses')</th>\n",
              "      <th>('P34', 'other')</th>\n",
              "      <th>('P35', 'data_science_plataforms_preference')</th>\n",
              "      <th>('P35', 'other')</th>\n",
              "      <th>('P36', 'draw_participation')</th>\n",
              "      <th>('D1', 'living_macroregion')</th>\n",
              "      <th>('D2', 'origin_macroregion')</th>\n",
              "      <th>('D3', 'anonymized_degree_area')</th>\n",
              "      <th>('D4', 'anonymized_market_sector')</th>\n",
              "      <th>('D5', 'anonymized_manager_level')</th>\n",
              "      <th>('D6', 'anonymized_role')</th>\n",
              "    </tr>\n",
              "  </thead>\n",
              "  <tbody>\n",
              "    <tr>\n",
              "      <th>0</th>\n",
              "      <td>v9otv8j9wdvjrv9otvwnn9owhzq54ktv</td>\n",
              "      <td>37.0</td>\n",
              "      <td>Masculino</td>\n",
              "      <td>1</td>\n",
              "      <td>Minas Gerais (MG)</td>\n",
              "      <td>1.0</td>\n",
              "      <td>Estudante de Graduação</td>\n",
              "      <td>Empregado (CTL)</td>\n",
              "      <td>de 1 a 5</td>\n",
              "      <td>0.0</td>\n",
              "      <td>de R$ 1.001/mês a R$ 2.000/mês</td>\n",
              "      <td>Não tenho experiência na área de dados</td>\n",
              "      <td>Não tive experiência na área de TI/Engenharia ...</td>\n",
              "      <td>0</td>\n",
              "      <td>0</td>\n",
              "      <td>0</td>\n",
              "      <td>0</td>\n",
              "      <td>0</td>\n",
              "      <td>0</td>\n",
              "      <td>0</td>\n",
              "      <td>0</td>\n",
              "      <td>0</td>\n",
              "      <td>0</td>\n",
              "      <td>0</td>\n",
              "      <td>0</td>\n",
              "      <td>0</td>\n",
              "      <td>0</td>\n",
              "      <td>0</td>\n",
              "      <td>0</td>\n",
              "      <td>0</td>\n",
              "      <td>0</td>\n",
              "      <td>0</td>\n",
              "      <td>0</td>\n",
              "      <td>0</td>\n",
              "      <td>0</td>\n",
              "      <td>0</td>\n",
              "      <td>0</td>\n",
              "      <td>0</td>\n",
              "      <td>0</td>\n",
              "      <td>0</td>\n",
              "      <td>...</td>\n",
              "      <td>0</td>\n",
              "      <td>0</td>\n",
              "      <td>0</td>\n",
              "      <td>0</td>\n",
              "      <td>0</td>\n",
              "      <td>0</td>\n",
              "      <td>0</td>\n",
              "      <td>0</td>\n",
              "      <td>1</td>\n",
              "      <td>Ainda não conhecia o Data Hackers</td>\n",
              "      <td>0</td>\n",
              "      <td>0</td>\n",
              "      <td>1</td>\n",
              "      <td>0</td>\n",
              "      <td>0</td>\n",
              "      <td>0</td>\n",
              "      <td>0</td>\n",
              "      <td>0</td>\n",
              "      <td>0</td>\n",
              "      <td>0</td>\n",
              "      <td>0</td>\n",
              "      <td>0</td>\n",
              "      <td>0</td>\n",
              "      <td>0</td>\n",
              "      <td>0</td>\n",
              "      <td>0</td>\n",
              "      <td>0</td>\n",
              "      <td>0</td>\n",
              "      <td>0</td>\n",
              "      <td>1</td>\n",
              "      <td>0</td>\n",
              "      <td>Nunca fiz cursos online</td>\n",
              "      <td>NaN</td>\n",
              "      <td>1.0</td>\n",
              "      <td>Região Sudeste</td>\n",
              "      <td>NaN</td>\n",
              "      <td>Computação / Engenharia de Software / Sistemas...</td>\n",
              "      <td>Outras</td>\n",
              "      <td>NaN</td>\n",
              "      <td>Outras</td>\n",
              "    </tr>\n",
              "    <tr>\n",
              "      <th>1</th>\n",
              "      <td>875ul998t0hqcv0871uptwf3oswcfv35</td>\n",
              "      <td>24.0</td>\n",
              "      <td>Feminino</td>\n",
              "      <td>1</td>\n",
              "      <td>São Paulo (SP)</td>\n",
              "      <td>1.0</td>\n",
              "      <td>Estudante de Graduação</td>\n",
              "      <td>Empregado (CTL)</td>\n",
              "      <td>Acima de 3000</td>\n",
              "      <td>0.0</td>\n",
              "      <td>de R$ 2.001/mês a R$ 3000/mês</td>\n",
              "      <td>Menos de 1 ano</td>\n",
              "      <td>Não tive experiência na área de TI/Engenharia ...</td>\n",
              "      <td>1</td>\n",
              "      <td>0</td>\n",
              "      <td>0</td>\n",
              "      <td>0</td>\n",
              "      <td>0</td>\n",
              "      <td>0</td>\n",
              "      <td>0</td>\n",
              "      <td>0</td>\n",
              "      <td>0</td>\n",
              "      <td>0</td>\n",
              "      <td>0</td>\n",
              "      <td>0</td>\n",
              "      <td>0</td>\n",
              "      <td>0</td>\n",
              "      <td>0</td>\n",
              "      <td>0</td>\n",
              "      <td>0</td>\n",
              "      <td>0</td>\n",
              "      <td>0</td>\n",
              "      <td>0</td>\n",
              "      <td>0</td>\n",
              "      <td>1</td>\n",
              "      <td>1</td>\n",
              "      <td>0</td>\n",
              "      <td>1</td>\n",
              "      <td>0</td>\n",
              "      <td>0</td>\n",
              "      <td>...</td>\n",
              "      <td>0</td>\n",
              "      <td>0</td>\n",
              "      <td>0</td>\n",
              "      <td>0</td>\n",
              "      <td>0</td>\n",
              "      <td>0</td>\n",
              "      <td>0</td>\n",
              "      <td>0</td>\n",
              "      <td>1</td>\n",
              "      <td>Ainda não conhecia o Data Hackers</td>\n",
              "      <td>0</td>\n",
              "      <td>0</td>\n",
              "      <td>1</td>\n",
              "      <td>0</td>\n",
              "      <td>0</td>\n",
              "      <td>0</td>\n",
              "      <td>0</td>\n",
              "      <td>0</td>\n",
              "      <td>0</td>\n",
              "      <td>0</td>\n",
              "      <td>0</td>\n",
              "      <td>0</td>\n",
              "      <td>0</td>\n",
              "      <td>1</td>\n",
              "      <td>0</td>\n",
              "      <td>0</td>\n",
              "      <td>0</td>\n",
              "      <td>0</td>\n",
              "      <td>0</td>\n",
              "      <td>0</td>\n",
              "      <td>1</td>\n",
              "      <td>NaN</td>\n",
              "      <td>Data Science Academy</td>\n",
              "      <td>0.0</td>\n",
              "      <td>Região Sudeste</td>\n",
              "      <td>NaN</td>\n",
              "      <td>Computação / Engenharia de Software / Sistemas...</td>\n",
              "      <td>Educação</td>\n",
              "      <td>NaN</td>\n",
              "      <td>Data Analyst/Analista de Dados</td>\n",
              "    </tr>\n",
              "    <tr>\n",
              "      <th>2</th>\n",
              "      <td>puscuk079vw1pusbb900pzw2xvpxtgdk</td>\n",
              "      <td>26.0</td>\n",
              "      <td>Masculino</td>\n",
              "      <td>1</td>\n",
              "      <td>São Paulo (SP)</td>\n",
              "      <td>1.0</td>\n",
              "      <td>Graduação/Bacharelado</td>\n",
              "      <td>Empregado (CTL)</td>\n",
              "      <td>Acima de 3000</td>\n",
              "      <td>0.0</td>\n",
              "      <td>de R$ 4.001/mês a R$ 6.000/mês</td>\n",
              "      <td>de 1 a 2 anos</td>\n",
              "      <td>de 6 a 10 anos</td>\n",
              "      <td>1</td>\n",
              "      <td>0</td>\n",
              "      <td>0</td>\n",
              "      <td>0</td>\n",
              "      <td>0</td>\n",
              "      <td>1</td>\n",
              "      <td>1</td>\n",
              "      <td>0</td>\n",
              "      <td>1</td>\n",
              "      <td>1</td>\n",
              "      <td>0</td>\n",
              "      <td>0</td>\n",
              "      <td>0</td>\n",
              "      <td>0</td>\n",
              "      <td>0</td>\n",
              "      <td>0</td>\n",
              "      <td>0</td>\n",
              "      <td>1</td>\n",
              "      <td>0</td>\n",
              "      <td>0</td>\n",
              "      <td>0</td>\n",
              "      <td>0</td>\n",
              "      <td>0</td>\n",
              "      <td>0</td>\n",
              "      <td>1</td>\n",
              "      <td>0</td>\n",
              "      <td>0</td>\n",
              "      <td>...</td>\n",
              "      <td>0</td>\n",
              "      <td>0</td>\n",
              "      <td>0</td>\n",
              "      <td>0</td>\n",
              "      <td>1</td>\n",
              "      <td>1</td>\n",
              "      <td>0</td>\n",
              "      <td>0</td>\n",
              "      <td>0</td>\n",
              "      <td>Newsletter Semanal</td>\n",
              "      <td>0</td>\n",
              "      <td>0</td>\n",
              "      <td>0</td>\n",
              "      <td>1</td>\n",
              "      <td>0</td>\n",
              "      <td>0</td>\n",
              "      <td>0</td>\n",
              "      <td>0</td>\n",
              "      <td>0</td>\n",
              "      <td>0</td>\n",
              "      <td>0</td>\n",
              "      <td>0</td>\n",
              "      <td>1</td>\n",
              "      <td>1</td>\n",
              "      <td>0</td>\n",
              "      <td>0</td>\n",
              "      <td>0</td>\n",
              "      <td>0</td>\n",
              "      <td>1</td>\n",
              "      <td>0</td>\n",
              "      <td>0</td>\n",
              "      <td>Udemy</td>\n",
              "      <td>NaN</td>\n",
              "      <td>1.0</td>\n",
              "      <td>Região Sudeste</td>\n",
              "      <td>NaN</td>\n",
              "      <td>Outras Engenharias</td>\n",
              "      <td>Indústria (Manufatura)</td>\n",
              "      <td>NaN</td>\n",
              "      <td>Outras</td>\n",
              "    </tr>\n",
              "    <tr>\n",
              "      <th>3</th>\n",
              "      <td>rmel8ewqpbffp2mnfbzermel8eqincov</td>\n",
              "      <td>21.0</td>\n",
              "      <td>Masculino</td>\n",
              "      <td>1</td>\n",
              "      <td>São Paulo (SP)</td>\n",
              "      <td>0.0</td>\n",
              "      <td>Estudante de Graduação</td>\n",
              "      <td>Estagiário</td>\n",
              "      <td>de 11 a 50</td>\n",
              "      <td>0.0</td>\n",
              "      <td>de R$ 1.001/mês a R$ 2.000/mês</td>\n",
              "      <td>Menos de 1 ano</td>\n",
              "      <td>de 2 a 3 anos</td>\n",
              "      <td>1</td>\n",
              "      <td>0</td>\n",
              "      <td>0</td>\n",
              "      <td>0</td>\n",
              "      <td>0</td>\n",
              "      <td>1</td>\n",
              "      <td>0</td>\n",
              "      <td>0</td>\n",
              "      <td>0</td>\n",
              "      <td>0</td>\n",
              "      <td>0</td>\n",
              "      <td>0</td>\n",
              "      <td>0</td>\n",
              "      <td>0</td>\n",
              "      <td>0</td>\n",
              "      <td>0</td>\n",
              "      <td>0</td>\n",
              "      <td>0</td>\n",
              "      <td>0</td>\n",
              "      <td>0</td>\n",
              "      <td>0</td>\n",
              "      <td>0</td>\n",
              "      <td>1</td>\n",
              "      <td>0</td>\n",
              "      <td>1</td>\n",
              "      <td>0</td>\n",
              "      <td>0</td>\n",
              "      <td>...</td>\n",
              "      <td>0</td>\n",
              "      <td>0</td>\n",
              "      <td>0</td>\n",
              "      <td>0</td>\n",
              "      <td>0</td>\n",
              "      <td>0</td>\n",
              "      <td>0</td>\n",
              "      <td>0</td>\n",
              "      <td>1</td>\n",
              "      <td>Ainda não conhecia o Data Hackers</td>\n",
              "      <td>0</td>\n",
              "      <td>1</td>\n",
              "      <td>0</td>\n",
              "      <td>0</td>\n",
              "      <td>0</td>\n",
              "      <td>0</td>\n",
              "      <td>0</td>\n",
              "      <td>1</td>\n",
              "      <td>0</td>\n",
              "      <td>0</td>\n",
              "      <td>0</td>\n",
              "      <td>0</td>\n",
              "      <td>1</td>\n",
              "      <td>1</td>\n",
              "      <td>1</td>\n",
              "      <td>0</td>\n",
              "      <td>0</td>\n",
              "      <td>0</td>\n",
              "      <td>0</td>\n",
              "      <td>0</td>\n",
              "      <td>0</td>\n",
              "      <td>Alura</td>\n",
              "      <td>NaN</td>\n",
              "      <td>1.0</td>\n",
              "      <td>Região Sudeste</td>\n",
              "      <td>Região Sudeste</td>\n",
              "      <td>Computação / Engenharia de Software / Sistemas...</td>\n",
              "      <td>Tecnologia/Fábrica de Software</td>\n",
              "      <td>NaN</td>\n",
              "      <td>Business Intelligence/Analista de BI</td>\n",
              "    </tr>\n",
              "    <tr>\n",
              "      <th>4</th>\n",
              "      <td>pj9mgud4d6mdct1l7vq0pj9mgu78h6ju</td>\n",
              "      <td>27.0</td>\n",
              "      <td>Masculino</td>\n",
              "      <td>1</td>\n",
              "      <td>NaN</td>\n",
              "      <td>1.0</td>\n",
              "      <td>Graduação/Bacharelado</td>\n",
              "      <td>Freelancer</td>\n",
              "      <td>de 6 a 10</td>\n",
              "      <td>1.0</td>\n",
              "      <td>de R$ 6.001/mês a R$ 8.000/mês</td>\n",
              "      <td>de 4 a 5 anos</td>\n",
              "      <td>de 4 a 5 anos</td>\n",
              "      <td>1</td>\n",
              "      <td>1</td>\n",
              "      <td>0</td>\n",
              "      <td>0</td>\n",
              "      <td>1</td>\n",
              "      <td>1</td>\n",
              "      <td>0</td>\n",
              "      <td>0</td>\n",
              "      <td>1</td>\n",
              "      <td>1</td>\n",
              "      <td>0</td>\n",
              "      <td>1</td>\n",
              "      <td>0</td>\n",
              "      <td>0</td>\n",
              "      <td>0</td>\n",
              "      <td>1</td>\n",
              "      <td>0</td>\n",
              "      <td>0</td>\n",
              "      <td>0</td>\n",
              "      <td>0</td>\n",
              "      <td>0</td>\n",
              "      <td>0</td>\n",
              "      <td>1</td>\n",
              "      <td>0</td>\n",
              "      <td>1</td>\n",
              "      <td>1</td>\n",
              "      <td>0</td>\n",
              "      <td>...</td>\n",
              "      <td>0</td>\n",
              "      <td>0</td>\n",
              "      <td>0</td>\n",
              "      <td>1</td>\n",
              "      <td>0</td>\n",
              "      <td>0</td>\n",
              "      <td>0</td>\n",
              "      <td>0</td>\n",
              "      <td>0</td>\n",
              "      <td>Blog/Medium do Data Hackers</td>\n",
              "      <td>0</td>\n",
              "      <td>0</td>\n",
              "      <td>0</td>\n",
              "      <td>0</td>\n",
              "      <td>0</td>\n",
              "      <td>0</td>\n",
              "      <td>0</td>\n",
              "      <td>0</td>\n",
              "      <td>0</td>\n",
              "      <td>0</td>\n",
              "      <td>1</td>\n",
              "      <td>1</td>\n",
              "      <td>1</td>\n",
              "      <td>1</td>\n",
              "      <td>0</td>\n",
              "      <td>0</td>\n",
              "      <td>0</td>\n",
              "      <td>0</td>\n",
              "      <td>0</td>\n",
              "      <td>0</td>\n",
              "      <td>0</td>\n",
              "      <td>Udemy</td>\n",
              "      <td>NaN</td>\n",
              "      <td>1.0</td>\n",
              "      <td>NaN</td>\n",
              "      <td>NaN</td>\n",
              "      <td>Computação / Engenharia de Software / Sistemas...</td>\n",
              "      <td>Internet/Ecommerce</td>\n",
              "      <td>C-level (CDO, CIO, CTO)</td>\n",
              "      <td>NaN</td>\n",
              "    </tr>\n",
              "  </tbody>\n",
              "</table>\n",
              "<p>5 rows × 170 columns</p>\n",
              "</div>"
            ],
            "text/plain": [
              "                       ('P0', 'id')  ...             ('D6', 'anonymized_role')\n",
              "0  v9otv8j9wdvjrv9otvwnn9owhzq54ktv  ...                                Outras\n",
              "1  875ul998t0hqcv0871uptwf3oswcfv35  ...        Data Analyst/Analista de Dados\n",
              "2  puscuk079vw1pusbb900pzw2xvpxtgdk  ...                                Outras\n",
              "3  rmel8ewqpbffp2mnfbzermel8eqincov  ...  Business Intelligence/Analista de BI\n",
              "4  pj9mgud4d6mdct1l7vq0pj9mgu78h6ju  ...                                   NaN\n",
              "\n",
              "[5 rows x 170 columns]"
            ]
          },
          "metadata": {
            "tags": []
          },
          "execution_count": 2
        }
      ]
    },
    {
      "cell_type": "code",
      "metadata": {
        "colab": {
          "base_uri": "https://localhost:8080/"
        },
        "id": "oR1rVcyZaC2h",
        "outputId": "86dd4d58-5f6d-4d96-f2ec-2829cdc3cff9"
      },
      "source": [
        "#tamanho da base\n",
        "dados.shape"
      ],
      "execution_count": 3,
      "outputs": [
        {
          "output_type": "execute_result",
          "data": {
            "text/plain": [
              "(1765, 170)"
            ]
          },
          "metadata": {
            "tags": []
          },
          "execution_count": 3
        }
      ]
    },
    {
      "cell_type": "markdown",
      "metadata": {
        "id": "ecIs0SHdbjjq"
      },
      "source": [
        "Temos 1765 respostas para a pesquisa e 170 perguntas no total.\n",
        "\n",
        "Quantos cientistas de dados temos? Para responder, vamos analisar os cargos e moldar nossa base.\n",
        "\n"
      ]
    },
    {
      "cell_type": "code",
      "metadata": {
        "colab": {
          "base_uri": "https://localhost:8080/"
        },
        "id": "4-7jN496afZC",
        "outputId": "7bc2e0a4-ab08-4ce7-82cf-bf866a930dc5"
      },
      "source": [
        "dados[\"('D6', 'anonymized_role')\"].value_counts()"
      ],
      "execution_count": 4,
      "outputs": [
        {
          "output_type": "execute_result",
          "data": {
            "text/plain": [
              "Desenvolvedor ou Engenheiro de Software    225\n",
              "Outras                                     220\n",
              "Data Scientist/Cientista de Dados          167\n",
              "Data Analyst/Analista de Dados             163\n",
              "Business Intelligence/Analista de BI       150\n",
              "Data Engineer/Engenheiro de Dados          130\n",
              "Business Analyst/Analista de Negócios       72\n",
              "Analista de Inteligência de Mercado         29\n",
              "Engenheiro                                  26\n",
              "Analista de Marketing                       19\n",
              "Engenheiro de Machine Learning              15\n",
              "DBA/Administrador de Banco de Dados         14\n",
              "Estatístico                                 11\n",
              "Economista                                  10\n",
              "Name: ('D6', 'anonymized_role'), dtype: int64"
            ]
          },
          "metadata": {
            "tags": []
          },
          "execution_count": 4
        }
      ]
    },
    {
      "cell_type": "markdown",
      "metadata": {
        "id": "kvgIlOtsc1XT"
      },
      "source": [
        "Vamos tratar como cientistas de dados os seguintes cargos: Data Scientist/Cientista de Dados, Engenheiro de Machine Learning e Estatístico. Os demais grupos não serão analisados. "
      ]
    },
    {
      "cell_type": "code",
      "metadata": {
        "colab": {
          "base_uri": "https://localhost:8080/"
        },
        "id": "CuG_0AAtcyjF",
        "outputId": "9fba6470-b172-4ec3-e79f-9d114dbeb48f"
      },
      "source": [
        "#isolando apenas cinetistas de dados\n",
        "dados = dados[(dados[\"('D6', 'anonymized_role')\"] == \"Data Scientist/Cientista de Dados\") |\n",
        "              (dados[\"('D6', 'anonymized_role')\"] == \"Engenheiro de Machine Learning\") |\n",
        "              (dados[\"('D6', 'anonymized_role')\"] == \"Estatístico\")]\n",
        "\n",
        "#Renomeando coluna:\n",
        "dados['profissão'] = dados[\"('D6', 'anonymized_role')\"]\n",
        "\n",
        "#Criando coluna com nomenclatura Cientista de dados\n",
        "profmap = {      'Data Scientist/Cientista de Dados': 'Cientista de Dados',\n",
        "                    'Engenheiro de Machine Learning': 'Cientista de Dados',\n",
        "                                       'Estatístico': 'Cientista de Dados',\n",
        "          }\n",
        "dados['cds'] = dados['profissão'].map(profmap)\n",
        "\n",
        "dados.shape"
      ],
      "execution_count": 5,
      "outputs": [
        {
          "output_type": "execute_result",
          "data": {
            "text/plain": [
              "(193, 172)"
            ]
          },
          "metadata": {
            "tags": []
          },
          "execution_count": 5
        }
      ]
    },
    {
      "cell_type": "markdown",
      "metadata": {
        "id": "C4iKD1Jfg6MV"
      },
      "source": [
        "Temos no total 193 linhas para explorar."
      ]
    },
    {
      "cell_type": "code",
      "metadata": {
        "id": "rgaPjwxDfu4d"
      },
      "source": [
        "import matplotlib.pyplot as plt"
      ],
      "execution_count": 6,
      "outputs": []
    },
    {
      "cell_type": "markdown",
      "metadata": {
        "id": "n4yzMiXArkN5"
      },
      "source": [
        "### Análise de idade"
      ]
    },
    {
      "cell_type": "code",
      "metadata": {
        "colab": {
          "base_uri": "https://localhost:8080/",
          "height": 278
        },
        "id": "BUTQHCjVjSRu",
        "outputId": "b8acad49-39ce-4716-c36f-ceb0c4131448"
      },
      "source": [
        "#Alterando título da coluna\n",
        "dados['idade'] = dados[\"('P1', 'age')\"]\n",
        "\n",
        "#Histograma - Distribuição\n",
        "qtd = dados['idade'].value_counts()\n",
        "X = [int(key) for key in qtd.keys()]\n",
        "Y = [qtd[key] for key in qtd.keys()]\n",
        "\n",
        "plt.bar(X, Y)\n",
        "plt.ylabel('Quantidade')\n",
        "plt.xlabel('Idade')\n",
        "plt.show()"
      ],
      "execution_count": 7,
      "outputs": [
        {
          "output_type": "display_data",
          "data": {
            "image/png": "[encoded data removed]",
            "text/plain": [
              "<Figure size 432x288 with 1 Axes>"
            ]
          },
          "metadata": {
            "tags": [],
            "needs_background": "light"
          }
        }
      ]
    },
    {
      "cell_type": "markdown",
      "metadata": {
        "id": "6TzpAJaGru9y"
      },
      "source": [
        "### Análise de Sexo"
      ]
    },
    {
      "cell_type": "code",
      "metadata": {
        "colab": {
          "base_uri": "https://localhost:8080/",
          "height": 247
        },
        "id": "Jfn7s3gqkd94",
        "outputId": "0f2b6bbb-42c7-429f-99f4-0683992c0cc7"
      },
      "source": [
        "#Alterando título da coluna\n",
        "dados['sexo'] = dados[\"('P2', 'gender')\"]\n",
        "\n",
        "#Qual a distribuição?\n",
        "dados[\"sexo\"].value_counts().plot(kind = 'pie', autopct=\"%1.1f%%\");"
      ],
      "execution_count": 35,
      "outputs": [
        {
          "output_type": "display_data",
          "data": {
            "image/png": "[encoded data removed]",
            "text/plain": [
              "<Figure size 432x288 with 1 Axes>"
            ]
          },
          "metadata": {
            "tags": []
          }
        }
      ]
    },
    {
      "cell_type": "markdown",
      "metadata": {
        "id": "ygOZrru0ry0c"
      },
      "source": [
        "### Análise de escolaridade e área de formação"
      ]
    },
    {
      "cell_type": "code",
      "metadata": {
        "colab": {
          "base_uri": "https://localhost:8080/"
        },
        "id": "MFNWZvdfl_ZN",
        "outputId": "9f265d06-7717-4770-fc94-374192f81e29"
      },
      "source": [
        "#Alterando título da coluna\n",
        "dados['escolaridade'] = dados[\"('P8', 'degreee_level')\"]\n",
        "\n",
        "#Qtd. por escolaridade\n",
        "dados['escolaridade'].value_counts()"
      ],
      "execution_count": 9,
      "outputs": [
        {
          "output_type": "execute_result",
          "data": {
            "text/plain": [
              "Graduação/Bacharelado         62\n",
              "Mestrado                      43\n",
              "Pós-graduação                 38\n",
              "Estudante de Graduação        33\n",
              "Doutorado ou Phd              11\n",
              "Não tenho graduação formal     6\n",
              "Name: escolaridade, dtype: int64"
            ]
          },
          "metadata": {
            "tags": []
          },
          "execution_count": 9
        }
      ]
    },
    {
      "cell_type": "code",
      "metadata": {
        "colab": {
          "base_uri": "https://localhost:8080/",
          "height": 281
        },
        "id": "heP4w00Xqc99",
        "outputId": "76c2ec2c-32a4-49b3-f819-60a46c106692"
      },
      "source": [
        "#Distribuição de escolaridade\n",
        "dados['escolaridade'].value_counts().plot(kind = 'barh', title = 'Escolaridade');"
      ],
      "execution_count": 36,
      "outputs": [
        {
          "output_type": "display_data",
          "data": {
            "image/png": "[encoded data removed]",
            "text/plain": [
              "<Figure size 432x288 with 1 Axes>"
            ]
          },
          "metadata": {
            "tags": [],
            "needs_background": "light"
          }
        }
      ]
    },
    {
      "cell_type": "code",
      "metadata": {
        "colab": {
          "base_uri": "https://localhost:8080/"
        },
        "id": "snP1v8qypY7C",
        "outputId": "c3b4643f-722e-4c57-ef44-39f5caae695a"
      },
      "source": [
        "#Alterando título da coluna\n",
        "dados['formação'] = dados[\"('D3', 'anonymized_degree_area')\"]\n",
        "\n",
        "#Área de formação\n",
        "dados[\"formação\"].value_counts()"
      ],
      "execution_count": 38,
      "outputs": [
        {
          "output_type": "execute_result",
          "data": {
            "text/plain": [
              "Computação / Engenharia de Software / Sistemas de Informação    92\n",
              "Estatística/ Matemática / Matemática Computacional              34\n",
              "Outras Engenharias                                              31\n",
              "Economia/ Administração / Contabilidade / Finanças              13\n",
              "Química / Física                                                 6\n",
              "Outras                                                           6\n",
              "Ciências Sociais                                                 3\n",
              "Marketing / Publicidade / Comunicação / Jornalismo               2\n",
              "Name: formação, dtype: int64"
            ]
          },
          "metadata": {
            "tags": []
          },
          "execution_count": 38
        }
      ]
    },
    {
      "cell_type": "markdown",
      "metadata": {
        "id": "xfEjs7fIs1Y8"
      },
      "source": [
        "### **Analisando empresas**"
      ]
    },
    {
      "cell_type": "markdown",
      "metadata": {
        "id": "z8J6CbqwtH1O"
      },
      "source": [
        "Vamos fazer uma leve modificação em relação ao tamanho da empresa, separando entre pequenas, médias e grandes."
      ]
    },
    {
      "cell_type": "code",
      "metadata": {
        "id": "5sdexon0s_Xl"
      },
      "source": [
        "#Criando uma nova série e aplicando um \"mapeamento\".\n",
        "tammap = { 'de 1 a 5': 'Pequena',\n",
        "           'de 6 a 10': 'Pequena',\n",
        "           'de 11 a 50': 'Pequena',\n",
        "           'de 51 a 100': 'Pequena',\n",
        "           'de 101 a 500': 'Média',\n",
        "           'de 501 a 1000': 'Média',\n",
        "           'de 1001 a 3000': 'Grande',\n",
        "           'Acima de 3000': 'Grande'}\n",
        "\n",
        "dados['tamanho_da_empresa'] = dados[\"('P12', 'workers_number')\"].map(tammap)"
      ],
      "execution_count": 12,
      "outputs": []
    },
    {
      "cell_type": "code",
      "metadata": {
        "colab": {
          "base_uri": "https://localhost:8080/"
        },
        "id": "KAgTt9_0uKry",
        "outputId": "db292ee5-c1a6-4581-ae86-499502e0caea"
      },
      "source": [
        "#Distribuição por porte de empresa\n",
        "dados['tamanho_da_empresa'].value_counts()"
      ],
      "execution_count": 13,
      "outputs": [
        {
          "output_type": "execute_result",
          "data": {
            "text/plain": [
              "Média      73\n",
              "Grande     63\n",
              "Pequena    57\n",
              "Name: tamanho_da_empresa, dtype: int64"
            ]
          },
          "metadata": {
            "tags": []
          },
          "execution_count": 13
        }
      ]
    },
    {
      "cell_type": "code",
      "metadata": {
        "colab": {
          "base_uri": "https://localhost:8080/",
          "height": 281
        },
        "id": "KEAHo4b2u8mI",
        "outputId": "532e8ba1-bb24-41df-ff36-764d216632f6"
      },
      "source": [
        "#Setor de atuação\n",
        "dados['setor'] = dados[\"('D4', 'anonymized_market_sector')\"]\n",
        "dados['setor'].value_counts().plot(kind = 'barh', title = 'Utilização de Ciencia de dados por Setor Empresarial');"
      ],
      "execution_count": 39,
      "outputs": [
        {
          "output_type": "display_data",
          "data": {
            "image/png": "[encoded data removed]",
            "text/plain": [
              "<Figure size 432x288 with 1 Axes>"
            ]
          },
          "metadata": {
            "tags": [],
            "needs_background": "light"
          }
        }
      ]
    },
    {
      "cell_type": "markdown",
      "metadata": {
        "id": "Wa68ujOx4cat"
      },
      "source": [
        "## **Agora vamos pra parte financeira do estudo**"
      ]
    },
    {
      "cell_type": "markdown",
      "metadata": {
        "id": "P1aHYO314iUc"
      },
      "source": [
        "Antes de iniciar, vou realizar outras modificações simples na base"
      ]
    },
    {
      "cell_type": "code",
      "metadata": {
        "id": "0iS9_uYAyOHN"
      },
      "source": [
        "#Discretizando salários\n",
        "salamap = {    'Menos de R$ 1.000/mês': 1000,\n",
        "      'de R$ 1.001/mês a R$ 2.000/mês': 1500, \n",
        "       'de R$ 2.001/mês a R$ 3000/mês': 2500,\n",
        "      'de R$ 3.001/mês a R$ 4.000/mês': 3500,\n",
        "      'de R$ 4.001/mês a R$ 6.000/mês': 5000, \n",
        "      'de R$ 6.001/mês a R$ 8.000/mês': 7000,\n",
        "     'de R$ 8.001/mês a R$ 12.000/mês': 10000,\n",
        "    'de R$ 12.001/mês a R$ 16.000/mês': 14000,\n",
        "    'de R$ 16.001/mês a R$ 20.000/mês': 18000,\n",
        "    'de R$ 20.001/mês a R$ 25.000/mês': 22500, \n",
        "              'Acima de R$ 25.001/mês': 25000}\n",
        "\n",
        "dados['salario'] = dados[\"('P16', 'salary_range')\"].map(salamap) \n",
        "\n",
        "#Criação de grupos de idades, escolha arbitraria dos cortes.\n",
        "cortes = [0, 24, 30, 40, 100]\n",
        "nomes = ['[18,24]', '[25,30]', '[31,40]', '[41,50]']\n",
        "dados['idade_grupo'] = pd.cut(dados[\"('P1', 'age')\"], bins = cortes, labels = nomes)"
      ],
      "execution_count": 15,
      "outputs": []
    },
    {
      "cell_type": "markdown",
      "metadata": {
        "id": "e93yZ8Ru7TfY"
      },
      "source": [
        "Vamos analisar a diferença salarial nas empresas"
      ]
    },
    {
      "cell_type": "code",
      "metadata": {
        "colab": {
          "base_uri": "https://localhost:8080/"
        },
        "id": "HQWJHDFD_F2d",
        "outputId": "da1151d9-91b0-4312-99fe-d09bfc5f62ec"
      },
      "source": [
        "#tamanho da empresa e média salarial\n",
        "dados.groupby(['tamanho_da_empresa']).mean()['salario'].round(2)"
      ],
      "execution_count": 16,
      "outputs": [
        {
          "output_type": "execute_result",
          "data": {
            "text/plain": [
              "tamanho_da_empresa\n",
              "Grande     8079.37\n",
              "Média      7260.27\n",
              "Pequena    4903.51\n",
              "Name: salario, dtype: float64"
            ]
          },
          "metadata": {
            "tags": []
          },
          "execution_count": 16
        }
      ]
    },
    {
      "cell_type": "markdown",
      "metadata": {
        "id": "hwn1JvecA_QP"
      },
      "source": [
        "Sendo que a média de salário em geral é:"
      ]
    },
    {
      "cell_type": "code",
      "metadata": {
        "colab": {
          "base_uri": "https://localhost:8080/"
        },
        "id": "qDtnJbKsBC_I",
        "outputId": "a4b5eaf3-cd1c-4241-f82f-53849dcbfb1b"
      },
      "source": [
        "dados[['salario']].mean().round(2)"
      ],
      "execution_count": 17,
      "outputs": [
        {
          "output_type": "execute_result",
          "data": {
            "text/plain": [
              "salario    6831.61\n",
              "dtype: float64"
            ]
          },
          "metadata": {
            "tags": []
          },
          "execution_count": 17
        }
      ]
    },
    {
      "cell_type": "markdown",
      "metadata": {
        "id": "yPC7qSUFBLNS"
      },
      "source": [
        "Olhando os salários pelo tamanho da empresa e sexo"
      ]
    },
    {
      "cell_type": "code",
      "metadata": {
        "colab": {
          "base_uri": "https://localhost:8080/",
          "height": 171
        },
        "id": "dIQz4Upr7vok",
        "outputId": "d38b7917-292f-4c60-e2e8-6ddb3d674ae0"
      },
      "source": [
        "#Análise pelo sexo e tamanho da empresa\n",
        "dados.groupby(['tamanho_da_empresa', 'sexo']).mean()['salario'].round(2).unstack()"
      ],
      "execution_count": 18,
      "outputs": [
        {
          "output_type": "execute_result",
          "data": {
            "text/html": [
              "<div>\n",
              "<style scoped>\n",
              "    .dataframe tbody tr th:only-of-type {\n",
              "        vertical-align: middle;\n",
              "    }\n",
              "\n",
              "    .dataframe tbody tr th {\n",
              "        vertical-align: top;\n",
              "    }\n",
              "\n",
              "    .dataframe thead th {\n",
              "        text-align: right;\n",
              "    }\n",
              "</style>\n",
              "<table border=\"1\" class=\"dataframe\">\n",
              "  <thead>\n",
              "    <tr style=\"text-align: right;\">\n",
              "      <th>sexo</th>\n",
              "      <th>Feminino</th>\n",
              "      <th>Masculino</th>\n",
              "    </tr>\n",
              "    <tr>\n",
              "      <th>tamanho_da_empresa</th>\n",
              "      <th></th>\n",
              "      <th></th>\n",
              "    </tr>\n",
              "  </thead>\n",
              "  <tbody>\n",
              "    <tr>\n",
              "      <th>Grande</th>\n",
              "      <td>8785.71</td>\n",
              "      <td>8118.18</td>\n",
              "    </tr>\n",
              "    <tr>\n",
              "      <th>Média</th>\n",
              "      <td>5352.94</td>\n",
              "      <td>7839.29</td>\n",
              "    </tr>\n",
              "    <tr>\n",
              "      <th>Pequena</th>\n",
              "      <td>3785.71</td>\n",
              "      <td>5060.00</td>\n",
              "    </tr>\n",
              "  </tbody>\n",
              "</table>\n",
              "</div>"
            ],
            "text/plain": [
              "sexo                Feminino  Masculino\n",
              "tamanho_da_empresa                     \n",
              "Grande               8785.71    8118.18\n",
              "Média                5352.94    7839.29\n",
              "Pequena              3785.71    5060.00"
            ]
          },
          "metadata": {
            "tags": []
          },
          "execution_count": 18
        }
      ]
    },
    {
      "cell_type": "markdown",
      "metadata": {
        "id": "miVpu1Xn9he5"
      },
      "source": [
        "É notável a diferençade de salários entre os portes das empresas, mas também chama a atenção a discrepância dos salários entre os sexos, especialmente nas médias e pequenas empresas. Vejamos outros exemplos."
      ]
    },
    {
      "cell_type": "code",
      "metadata": {
        "colab": {
          "base_uri": "https://localhost:8080/",
          "height": 263
        },
        "id": "F4_qoGN4nrTq",
        "outputId": "94245740-c501-49b7-e4a5-4b4e5ccfb496"
      },
      "source": [
        "#Salário por escolaridade e sexo\n",
        "dados.groupby(['escolaridade', 'sexo'])[\"salario\"].mean().unstack().fillna(0).round(2)"
      ],
      "execution_count": 19,
      "outputs": [
        {
          "output_type": "execute_result",
          "data": {
            "text/html": [
              "<div>\n",
              "<style scoped>\n",
              "    .dataframe tbody tr th:only-of-type {\n",
              "        vertical-align: middle;\n",
              "    }\n",
              "\n",
              "    .dataframe tbody tr th {\n",
              "        vertical-align: top;\n",
              "    }\n",
              "\n",
              "    .dataframe thead th {\n",
              "        text-align: right;\n",
              "    }\n",
              "</style>\n",
              "<table border=\"1\" class=\"dataframe\">\n",
              "  <thead>\n",
              "    <tr style=\"text-align: right;\">\n",
              "      <th>sexo</th>\n",
              "      <th>Feminino</th>\n",
              "      <th>Masculino</th>\n",
              "    </tr>\n",
              "    <tr>\n",
              "      <th>escolaridade</th>\n",
              "      <th></th>\n",
              "      <th></th>\n",
              "    </tr>\n",
              "  </thead>\n",
              "  <tbody>\n",
              "    <tr>\n",
              "      <th>Doutorado ou Phd</th>\n",
              "      <td>7500.00</td>\n",
              "      <td>14833.33</td>\n",
              "    </tr>\n",
              "    <tr>\n",
              "      <th>Estudante de Graduação</th>\n",
              "      <td>2166.67</td>\n",
              "      <td>3629.63</td>\n",
              "    </tr>\n",
              "    <tr>\n",
              "      <th>Graduação/Bacharelado</th>\n",
              "      <td>3812.50</td>\n",
              "      <td>5703.70</td>\n",
              "    </tr>\n",
              "    <tr>\n",
              "      <th>Mestrado</th>\n",
              "      <td>7833.33</td>\n",
              "      <td>7932.43</td>\n",
              "    </tr>\n",
              "    <tr>\n",
              "      <th>Não tenho graduação formal</th>\n",
              "      <td>0.00</td>\n",
              "      <td>7500.00</td>\n",
              "    </tr>\n",
              "    <tr>\n",
              "      <th>Pós-graduação</th>\n",
              "      <td>8166.67</td>\n",
              "      <td>9241.38</td>\n",
              "    </tr>\n",
              "  </tbody>\n",
              "</table>\n",
              "</div>"
            ],
            "text/plain": [
              "sexo                        Feminino  Masculino\n",
              "escolaridade                                   \n",
              "Doutorado ou Phd             7500.00   14833.33\n",
              "Estudante de Graduação       2166.67    3629.63\n",
              "Graduação/Bacharelado        3812.50    5703.70\n",
              "Mestrado                     7833.33    7932.43\n",
              "Não tenho graduação formal      0.00    7500.00\n",
              "Pós-graduação                8166.67    9241.38"
            ]
          },
          "metadata": {
            "tags": []
          },
          "execution_count": 19
        }
      ]
    },
    {
      "cell_type": "code",
      "metadata": {
        "colab": {
          "base_uri": "https://localhost:8080/",
          "height": 202
        },
        "id": "kg_6ErhBoaLc",
        "outputId": "c6349dd0-f627-45a4-f43a-17e7230a2472"
      },
      "source": [
        "#Salário por idade e sexo\n",
        "dados.groupby(['idade_grupo', 'sexo'])[\"salario\"].mean().unstack().fillna(0).round(2)"
      ],
      "execution_count": 20,
      "outputs": [
        {
          "output_type": "execute_result",
          "data": {
            "text/html": [
              "<div>\n",
              "<style scoped>\n",
              "    .dataframe tbody tr th:only-of-type {\n",
              "        vertical-align: middle;\n",
              "    }\n",
              "\n",
              "    .dataframe tbody tr th {\n",
              "        vertical-align: top;\n",
              "    }\n",
              "\n",
              "    .dataframe thead th {\n",
              "        text-align: right;\n",
              "    }\n",
              "</style>\n",
              "<table border=\"1\" class=\"dataframe\">\n",
              "  <thead>\n",
              "    <tr style=\"text-align: right;\">\n",
              "      <th>sexo</th>\n",
              "      <th>Feminino</th>\n",
              "      <th>Masculino</th>\n",
              "    </tr>\n",
              "    <tr>\n",
              "      <th>idade_grupo</th>\n",
              "      <th></th>\n",
              "      <th></th>\n",
              "    </tr>\n",
              "  </thead>\n",
              "  <tbody>\n",
              "    <tr>\n",
              "      <th>[18,24]</th>\n",
              "      <td>3250.00</td>\n",
              "      <td>3921.05</td>\n",
              "    </tr>\n",
              "    <tr>\n",
              "      <th>[25,30]</th>\n",
              "      <td>5461.54</td>\n",
              "      <td>6462.96</td>\n",
              "    </tr>\n",
              "    <tr>\n",
              "      <th>[31,40]</th>\n",
              "      <td>9416.67</td>\n",
              "      <td>11361.11</td>\n",
              "    </tr>\n",
              "    <tr>\n",
              "      <th>[41,50]</th>\n",
              "      <td>9500.00</td>\n",
              "      <td>11100.00</td>\n",
              "    </tr>\n",
              "  </tbody>\n",
              "</table>\n",
              "</div>"
            ],
            "text/plain": [
              "sexo         Feminino  Masculino\n",
              "idade_grupo                     \n",
              "[18,24]       3250.00    3921.05\n",
              "[25,30]       5461.54    6462.96\n",
              "[31,40]       9416.67   11361.11\n",
              "[41,50]       9500.00   11100.00"
            ]
          },
          "metadata": {
            "tags": []
          },
          "execution_count": 20
        }
      ]
    },
    {
      "cell_type": "markdown",
      "metadata": {
        "id": "EXt1aV8M9wtd"
      },
      "source": [
        "Os dados mostram que os salários sempre tendem a ser menores para as mulheres."
      ]
    },
    {
      "cell_type": "markdown",
      "metadata": {
        "id": "5YtSSsYpqpXg"
      },
      "source": [
        "### Vejamos a média salárial em relação a idade"
      ]
    },
    {
      "cell_type": "code",
      "metadata": {
        "colab": {
          "base_uri": "https://localhost:8080/",
          "height": 322
        },
        "id": "H4XERM2--hSz",
        "outputId": "ca17e7ad-d084-4746-c44c-3699b938b117"
      },
      "source": [
        "dados.groupby(['idade_grupo']).mean()['salario'].plot(kind = 'bar', title = 'Salário x Idade');"
      ],
      "execution_count": 40,
      "outputs": [
        {
          "output_type": "display_data",
          "data": {
            "image/png": "[encoded data removed]",
            "text/plain": [
              "<Figure size 432x288 with 1 Axes>"
            ]
          },
          "metadata": {
            "tags": [],
            "needs_background": "light"
          }
        }
      ]
    },
    {
      "cell_type": "markdown",
      "metadata": {
        "id": "nfCmErgMAQRz"
      },
      "source": [
        "Temos muito mais homens do que mulheres na base, e não temos mulheres com salários superiores a R$ 20.000,00\n",
        "\n",
        "Também é possível analisar o valor em relação ao tempo de profissão"
      ]
    },
    {
      "cell_type": "code",
      "metadata": {
        "colab": {
          "base_uri": "https://localhost:8080/",
          "height": 294
        },
        "id": "wcT7bIZV-ndG",
        "outputId": "814ee266-351f-46e6-81f2-0d04799e2836"
      },
      "source": [
        "#renomeando coluna\n",
        "dados['experiencia_ds'] = dados[\"('P17', 'time_experience_data_science')\"] \n",
        "\n",
        "#criação dos dados de médias salariais e ordenação\n",
        "dados.groupby(['experiencia_ds','cds']).mean()['salario'].round(2).unstack().sort_values(['Cientista de Dados'], ascending = False)"
      ],
      "execution_count": 22,
      "outputs": [
        {
          "output_type": "execute_result",
          "data": {
            "text/html": [
              "<div>\n",
              "<style scoped>\n",
              "    .dataframe tbody tr th:only-of-type {\n",
              "        vertical-align: middle;\n",
              "    }\n",
              "\n",
              "    .dataframe tbody tr th {\n",
              "        vertical-align: top;\n",
              "    }\n",
              "\n",
              "    .dataframe thead th {\n",
              "        text-align: right;\n",
              "    }\n",
              "</style>\n",
              "<table border=\"1\" class=\"dataframe\">\n",
              "  <thead>\n",
              "    <tr style=\"text-align: right;\">\n",
              "      <th>cds</th>\n",
              "      <th>Cientista de Dados</th>\n",
              "    </tr>\n",
              "    <tr>\n",
              "      <th>experiencia_ds</th>\n",
              "      <th></th>\n",
              "    </tr>\n",
              "  </thead>\n",
              "  <tbody>\n",
              "    <tr>\n",
              "      <th>de 6 a 10 anos</th>\n",
              "      <td>12923.08</td>\n",
              "    </tr>\n",
              "    <tr>\n",
              "      <th>de 4 a 5 anos</th>\n",
              "      <td>10648.15</td>\n",
              "    </tr>\n",
              "    <tr>\n",
              "      <th>Mais de 10 anos</th>\n",
              "      <td>10409.09</td>\n",
              "    </tr>\n",
              "    <tr>\n",
              "      <th>de 2 a 3 anos</th>\n",
              "      <td>6704.55</td>\n",
              "    </tr>\n",
              "    <tr>\n",
              "      <th>de 1 a 2 anos</th>\n",
              "      <td>5333.33</td>\n",
              "    </tr>\n",
              "    <tr>\n",
              "      <th>Menos de 1 ano</th>\n",
              "      <td>3675.00</td>\n",
              "    </tr>\n",
              "    <tr>\n",
              "      <th>Não tenho experiência na área de dados</th>\n",
              "      <td>2500.00</td>\n",
              "    </tr>\n",
              "  </tbody>\n",
              "</table>\n",
              "</div>"
            ],
            "text/plain": [
              "cds                                     Cientista de Dados\n",
              "experiencia_ds                                            \n",
              "de 6 a 10 anos                                    12923.08\n",
              "de 4 a 5 anos                                     10648.15\n",
              "Mais de 10 anos                                   10409.09\n",
              "de 2 a 3 anos                                      6704.55\n",
              "de 1 a 2 anos                                      5333.33\n",
              "Menos de 1 ano                                     3675.00\n",
              "Não tenho experiência na área de dados             2500.00"
            ]
          },
          "metadata": {
            "tags": []
          },
          "execution_count": 22
        }
      ]
    },
    {
      "cell_type": "markdown",
      "metadata": {
        "id": "Yz-w77iICv8i"
      },
      "source": [
        "Aprofundando um pouco em ferramentas, vamos analisar o salário em relação a linguagem de programação mais usada"
      ]
    },
    {
      "cell_type": "code",
      "metadata": {
        "colab": {
          "base_uri": "https://localhost:8080/",
          "height": 263
        },
        "id": "qnSyAVGGAaVx",
        "outputId": "89cc7fd0-8ec2-4b6b-bb13-0d05270474cc"
      },
      "source": [
        "#tabela de linguagem mais utilizada e salários médios\n",
        "dados.groupby([\"cds\", \"('P22', 'most_used_proggraming_languages')\"]).mean()['salario'].round(2).unstack().T.sort_values(['Cientista de Dados'], ascending = False)"
      ],
      "execution_count": 23,
      "outputs": [
        {
          "output_type": "execute_result",
          "data": {
            "text/html": [
              "<div>\n",
              "<style scoped>\n",
              "    .dataframe tbody tr th:only-of-type {\n",
              "        vertical-align: middle;\n",
              "    }\n",
              "\n",
              "    .dataframe tbody tr th {\n",
              "        vertical-align: top;\n",
              "    }\n",
              "\n",
              "    .dataframe thead th {\n",
              "        text-align: right;\n",
              "    }\n",
              "</style>\n",
              "<table border=\"1\" class=\"dataframe\">\n",
              "  <thead>\n",
              "    <tr style=\"text-align: right;\">\n",
              "      <th>cds</th>\n",
              "      <th>Cientista de Dados</th>\n",
              "    </tr>\n",
              "    <tr>\n",
              "      <th>('P22', 'most_used_proggraming_languages')</th>\n",
              "      <th></th>\n",
              "    </tr>\n",
              "  </thead>\n",
              "  <tbody>\n",
              "    <tr>\n",
              "      <th>SAS/Stata</th>\n",
              "      <td>13875.00</td>\n",
              "    </tr>\n",
              "    <tr>\n",
              "      <th>Java</th>\n",
              "      <td>10000.00</td>\n",
              "    </tr>\n",
              "    <tr>\n",
              "      <th>Python</th>\n",
              "      <td>7003.60</td>\n",
              "    </tr>\n",
              "    <tr>\n",
              "      <th>Scala</th>\n",
              "      <td>7000.00</td>\n",
              "    </tr>\n",
              "    <tr>\n",
              "      <th>SQL</th>\n",
              "      <td>6968.75</td>\n",
              "    </tr>\n",
              "    <tr>\n",
              "      <th>R</th>\n",
              "      <td>4978.26</td>\n",
              "    </tr>\n",
              "  </tbody>\n",
              "</table>\n",
              "</div>"
            ],
            "text/plain": [
              "cds                                         Cientista de Dados\n",
              "('P22', 'most_used_proggraming_languages')                    \n",
              "SAS/Stata                                             13875.00\n",
              "Java                                                  10000.00\n",
              "Python                                                 7003.60\n",
              "Scala                                                  7000.00\n",
              "SQL                                                    6968.75\n",
              "R                                                      4978.26"
            ]
          },
          "metadata": {
            "tags": []
          },
          "execution_count": 23
        }
      ]
    },
    {
      "cell_type": "markdown",
      "metadata": {
        "id": "pLn5_VFhD8n3"
      },
      "source": [
        "R é a linguagem de programação que menos da retorno financeiro ao utilizador e SAS/Stata paga melhor salário de todos."
      ]
    },
    {
      "cell_type": "markdown",
      "metadata": {
        "id": "soRialefEt2s"
      },
      "source": [
        "Se tratando dos métodos mais utilizados temos a seguinte distribuição, onde no topo da lista é a Regressão linear com 74% de utilização."
      ]
    },
    {
      "cell_type": "code",
      "metadata": {
        "colab": {
          "base_uri": "https://localhost:8080/",
          "height": 692
        },
        "id": "fWuxAKO1FOA8",
        "outputId": "9fe4a735-b131-4136-af1b-0bbe5ab0ba1e"
      },
      "source": [
        "#criação da tabela\n",
        "lista = ['Cientista de Dados']\n",
        "aux1 = round(dados.filter(regex = 'P20').mean().sort_values(ascending = False), 2)\n",
        "aux = pd.concat([aux1], axis = 1)\n",
        "aux.columns = lista\n",
        "\n",
        "#exibição dos dados\n",
        "aux"
      ],
      "execution_count": 24,
      "outputs": [
        {
          "output_type": "execute_result",
          "data": {
            "text/html": [
              "<div>\n",
              "<style scoped>\n",
              "    .dataframe tbody tr th:only-of-type {\n",
              "        vertical-align: middle;\n",
              "    }\n",
              "\n",
              "    .dataframe tbody tr th {\n",
              "        vertical-align: top;\n",
              "    }\n",
              "\n",
              "    .dataframe thead th {\n",
              "        text-align: right;\n",
              "    }\n",
              "</style>\n",
              "<table border=\"1\" class=\"dataframe\">\n",
              "  <thead>\n",
              "    <tr style=\"text-align: right;\">\n",
              "      <th></th>\n",
              "      <th>Cientista de Dados</th>\n",
              "    </tr>\n",
              "  </thead>\n",
              "  <tbody>\n",
              "    <tr>\n",
              "      <th>('P20', 'linear_regression')</th>\n",
              "      <td>0.74</td>\n",
              "    </tr>\n",
              "    <tr>\n",
              "      <th>('P20', 'logistic_regression')</th>\n",
              "      <td>0.67</td>\n",
              "    </tr>\n",
              "    <tr>\n",
              "      <th>('P20', 'decision_tree')</th>\n",
              "      <td>0.65</td>\n",
              "    </tr>\n",
              "    <tr>\n",
              "      <th>('P20', 'random_forest')</th>\n",
              "      <td>0.65</td>\n",
              "    </tr>\n",
              "    <tr>\n",
              "      <th>('P20', 'cluster_analysis')</th>\n",
              "      <td>0.60</td>\n",
              "    </tr>\n",
              "    <tr>\n",
              "      <th>('P20', 'neural_networks')</th>\n",
              "      <td>0.46</td>\n",
              "    </tr>\n",
              "    <tr>\n",
              "      <th>('P20', 'gradient_boosted_machines')</th>\n",
              "      <td>0.45</td>\n",
              "    </tr>\n",
              "    <tr>\n",
              "      <th>('P20', 'ensemble')</th>\n",
              "      <td>0.40</td>\n",
              "    </tr>\n",
              "    <tr>\n",
              "      <th>('P20', 'nlp')</th>\n",
              "      <td>0.35</td>\n",
              "    </tr>\n",
              "    <tr>\n",
              "      <th>('P20', 'bayesian_inference')</th>\n",
              "      <td>0.32</td>\n",
              "    </tr>\n",
              "    <tr>\n",
              "      <th>('P20', 'svms')</th>\n",
              "      <td>0.31</td>\n",
              "    </tr>\n",
              "    <tr>\n",
              "      <th>('P20', 'glms')</th>\n",
              "      <td>0.29</td>\n",
              "    </tr>\n",
              "    <tr>\n",
              "      <th>('P20', 'rnns')</th>\n",
              "      <td>0.18</td>\n",
              "    </tr>\n",
              "    <tr>\n",
              "      <th>('P20', 'longitudinal_data_analysis')</th>\n",
              "      <td>0.18</td>\n",
              "    </tr>\n",
              "    <tr>\n",
              "      <th>('P20', 'cnns')</th>\n",
              "      <td>0.17</td>\n",
              "    </tr>\n",
              "    <tr>\n",
              "      <th>('P20', 'markov_chains')</th>\n",
              "      <td>0.13</td>\n",
              "    </tr>\n",
              "    <tr>\n",
              "      <th>('P20', 'survival_analysis')</th>\n",
              "      <td>0.13</td>\n",
              "    </tr>\n",
              "    <tr>\n",
              "      <th>('P20', 'joint analysis')</th>\n",
              "      <td>0.07</td>\n",
              "    </tr>\n",
              "    <tr>\n",
              "      <th>('P20', 'gans')</th>\n",
              "      <td>0.05</td>\n",
              "    </tr>\n",
              "    <tr>\n",
              "      <th>('P20', 'hmms')</th>\n",
              "      <td>0.04</td>\n",
              "    </tr>\n",
              "    <tr>\n",
              "      <th>('P20', 'no_listed_methods')</th>\n",
              "      <td>0.04</td>\n",
              "    </tr>\n",
              "  </tbody>\n",
              "</table>\n",
              "</div>"
            ],
            "text/plain": [
              "                                       Cientista de Dados\n",
              "('P20', 'linear_regression')                         0.74\n",
              "('P20', 'logistic_regression')                       0.67\n",
              "('P20', 'decision_tree')                             0.65\n",
              "('P20', 'random_forest')                             0.65\n",
              "('P20', 'cluster_analysis')                          0.60\n",
              "('P20', 'neural_networks')                           0.46\n",
              "('P20', 'gradient_boosted_machines')                 0.45\n",
              "('P20', 'ensemble')                                  0.40\n",
              "('P20', 'nlp')                                       0.35\n",
              "('P20', 'bayesian_inference')                        0.32\n",
              "('P20', 'svms')                                      0.31\n",
              "('P20', 'glms')                                      0.29\n",
              "('P20', 'rnns')                                      0.18\n",
              "('P20', 'longitudinal_data_analysis')                0.18\n",
              "('P20', 'cnns')                                      0.17\n",
              "('P20', 'markov_chains')                             0.13\n",
              "('P20', 'survival_analysis')                         0.13\n",
              "('P20', 'joint analysis')                            0.07\n",
              "('P20', 'gans')                                      0.05\n",
              "('P20', 'hmms')                                      0.04\n",
              "('P20', 'no_listed_methods')                         0.04"
            ]
          },
          "metadata": {
            "tags": []
          },
          "execution_count": 24
        }
      ]
    },
    {
      "cell_type": "markdown",
      "metadata": {
        "id": "29vCOjR7Ja3-"
      },
      "source": [
        "Explorando os métodos, seus saláros médios e seu uso pelo sexo:"
      ]
    },
    {
      "cell_type": "code",
      "metadata": {
        "id": "_NswTsiNJZZi",
        "colab": {
          "base_uri": "https://localhost:8080/",
          "height": 692
        },
        "outputId": "81aa2cce-6c4b-453a-e99a-e68a574afa18"
      },
      "source": [
        "#lista de métodos para uso no For\n",
        "listmetodos = list(dados.filter(regex = 'P20'))\n",
        "\n",
        "#series de métodos para concatenação na tabela\n",
        "sermetodos = pd.Series(listmetodos)\n",
        "\n",
        "#cálculo de salário médio para os que usam o método\n",
        "salmet = []\n",
        "for i in listmetodos:\n",
        "  salmet.append(dados.groupby([f\"{i}\"])['salario'].mean().round(2).iloc[1])\n",
        "salmet = pd.Series(salmet)\n",
        "\n",
        "#% de uso por sexo F pelo método\n",
        "usof = []\n",
        "for i in listmetodos:\n",
        "  usof.append(dados.groupby(['sexo'])[f\"{i}\"].mean().round(2).iloc[0])\n",
        "usof = pd.Series(usof)\n",
        "\n",
        "#% de uso por sexo M pelo método\n",
        "usom = []\n",
        "for i in listmetodos:\n",
        "  usom.append(dados.groupby(['sexo'])[f\"{i}\"].mean().round(2).iloc[1])\n",
        "usom = pd.Series(usom)\n",
        "\n",
        "#criação da tabela\n",
        "tabela = pd.concat([sermetodos, salmet, usof, usom], axis = 1)\n",
        "#Título das colunas\n",
        "colunas = ['Métodos', 'Salário médio', 'Uso por mulheres', 'Uso por Homens']\n",
        "tabela.columns = colunas\n",
        "\n",
        "#ordenação dos dados e exibição\n",
        "tabela.sort_values(['Salário médio'], ascending = False)"
      ],
      "execution_count": 25,
      "outputs": [
        {
          "output_type": "execute_result",
          "data": {
            "text/html": [
              "<div>\n",
              "<style scoped>\n",
              "    .dataframe tbody tr th:only-of-type {\n",
              "        vertical-align: middle;\n",
              "    }\n",
              "\n",
              "    .dataframe tbody tr th {\n",
              "        vertical-align: top;\n",
              "    }\n",
              "\n",
              "    .dataframe thead th {\n",
              "        text-align: right;\n",
              "    }\n",
              "</style>\n",
              "<table border=\"1\" class=\"dataframe\">\n",
              "  <thead>\n",
              "    <tr style=\"text-align: right;\">\n",
              "      <th></th>\n",
              "      <th>Métodos</th>\n",
              "      <th>Salário médio</th>\n",
              "      <th>Uso por mulheres</th>\n",
              "      <th>Uso por Homens</th>\n",
              "    </tr>\n",
              "  </thead>\n",
              "  <tbody>\n",
              "    <tr>\n",
              "      <th>12</th>\n",
              "      <td>('P20', 'gans')</td>\n",
              "      <td>10111.11</td>\n",
              "      <td>0.00</td>\n",
              "      <td>0.06</td>\n",
              "    </tr>\n",
              "    <tr>\n",
              "      <th>11</th>\n",
              "      <td>('P20', 'hmms')</td>\n",
              "      <td>8625.00</td>\n",
              "      <td>0.00</td>\n",
              "      <td>0.05</td>\n",
              "    </tr>\n",
              "    <tr>\n",
              "      <th>10</th>\n",
              "      <td>('P20', 'rnns')</td>\n",
              "      <td>8585.71</td>\n",
              "      <td>0.13</td>\n",
              "      <td>0.19</td>\n",
              "    </tr>\n",
              "    <tr>\n",
              "      <th>7</th>\n",
              "      <td>('P20', 'ensemble')</td>\n",
              "      <td>8344.16</td>\n",
              "      <td>0.16</td>\n",
              "      <td>0.45</td>\n",
              "    </tr>\n",
              "    <tr>\n",
              "      <th>18</th>\n",
              "      <td>('P20', 'longitudinal_data_analysis')</td>\n",
              "      <td>7852.94</td>\n",
              "      <td>0.13</td>\n",
              "      <td>0.19</td>\n",
              "    </tr>\n",
              "    <tr>\n",
              "      <th>8</th>\n",
              "      <td>('P20', 'svms')</td>\n",
              "      <td>7847.46</td>\n",
              "      <td>0.23</td>\n",
              "      <td>0.32</td>\n",
              "    </tr>\n",
              "    <tr>\n",
              "      <th>16</th>\n",
              "      <td>('P20', 'cluster_analysis')</td>\n",
              "      <td>7806.03</td>\n",
              "      <td>0.52</td>\n",
              "      <td>0.62</td>\n",
              "    </tr>\n",
              "    <tr>\n",
              "      <th>15</th>\n",
              "      <td>('P20', 'gradient_boosted_machines')</td>\n",
              "      <td>7738.37</td>\n",
              "      <td>0.23</td>\n",
              "      <td>0.49</td>\n",
              "    </tr>\n",
              "    <tr>\n",
              "      <th>9</th>\n",
              "      <td>('P20', 'cnns')</td>\n",
              "      <td>7718.75</td>\n",
              "      <td>0.10</td>\n",
              "      <td>0.18</td>\n",
              "    </tr>\n",
              "    <tr>\n",
              "      <th>3</th>\n",
              "      <td>('P20', 'decision_tree')</td>\n",
              "      <td>7571.43</td>\n",
              "      <td>0.68</td>\n",
              "      <td>0.65</td>\n",
              "    </tr>\n",
              "    <tr>\n",
              "      <th>1</th>\n",
              "      <td>('P20', 'logistic_regression')</td>\n",
              "      <td>7530.77</td>\n",
              "      <td>0.58</td>\n",
              "      <td>0.70</td>\n",
              "    </tr>\n",
              "    <tr>\n",
              "      <th>2</th>\n",
              "      <td>('P20', 'glms')</td>\n",
              "      <td>7428.57</td>\n",
              "      <td>0.23</td>\n",
              "      <td>0.30</td>\n",
              "    </tr>\n",
              "    <tr>\n",
              "      <th>0</th>\n",
              "      <td>('P20', 'linear_regression')</td>\n",
              "      <td>7346.15</td>\n",
              "      <td>0.68</td>\n",
              "      <td>0.76</td>\n",
              "    </tr>\n",
              "    <tr>\n",
              "      <th>4</th>\n",
              "      <td>('P20', 'random_forest')</td>\n",
              "      <td>7316.00</td>\n",
              "      <td>0.52</td>\n",
              "      <td>0.68</td>\n",
              "    </tr>\n",
              "    <tr>\n",
              "      <th>6</th>\n",
              "      <td>('P20', 'bayesian_inference')</td>\n",
              "      <td>7072.58</td>\n",
              "      <td>0.16</td>\n",
              "      <td>0.35</td>\n",
              "    </tr>\n",
              "    <tr>\n",
              "      <th>5</th>\n",
              "      <td>('P20', 'neural_networks')</td>\n",
              "      <td>6960.67</td>\n",
              "      <td>0.42</td>\n",
              "      <td>0.47</td>\n",
              "    </tr>\n",
              "    <tr>\n",
              "      <th>14</th>\n",
              "      <td>('P20', 'nlp')</td>\n",
              "      <td>6919.12</td>\n",
              "      <td>0.32</td>\n",
              "      <td>0.36</td>\n",
              "    </tr>\n",
              "    <tr>\n",
              "      <th>13</th>\n",
              "      <td>('P20', 'markov_chains')</td>\n",
              "      <td>6557.69</td>\n",
              "      <td>0.10</td>\n",
              "      <td>0.14</td>\n",
              "    </tr>\n",
              "    <tr>\n",
              "      <th>17</th>\n",
              "      <td>('P20', 'survival_analysis')</td>\n",
              "      <td>5134.62</td>\n",
              "      <td>0.03</td>\n",
              "      <td>0.16</td>\n",
              "    </tr>\n",
              "    <tr>\n",
              "      <th>19</th>\n",
              "      <td>('P20', 'joint analysis')</td>\n",
              "      <td>4846.15</td>\n",
              "      <td>0.06</td>\n",
              "      <td>0.07</td>\n",
              "    </tr>\n",
              "    <tr>\n",
              "      <th>20</th>\n",
              "      <td>('P20', 'no_listed_methods')</td>\n",
              "      <td>4428.57</td>\n",
              "      <td>0.03</td>\n",
              "      <td>0.04</td>\n",
              "    </tr>\n",
              "  </tbody>\n",
              "</table>\n",
              "</div>"
            ],
            "text/plain": [
              "                                  Métodos  ...  Uso por Homens\n",
              "12                        ('P20', 'gans')  ...            0.06\n",
              "11                        ('P20', 'hmms')  ...            0.05\n",
              "10                        ('P20', 'rnns')  ...            0.19\n",
              "7                     ('P20', 'ensemble')  ...            0.45\n",
              "18  ('P20', 'longitudinal_data_analysis')  ...            0.19\n",
              "8                         ('P20', 'svms')  ...            0.32\n",
              "16            ('P20', 'cluster_analysis')  ...            0.62\n",
              "15   ('P20', 'gradient_boosted_machines')  ...            0.49\n",
              "9                         ('P20', 'cnns')  ...            0.18\n",
              "3                ('P20', 'decision_tree')  ...            0.65\n",
              "1          ('P20', 'logistic_regression')  ...            0.70\n",
              "2                         ('P20', 'glms')  ...            0.30\n",
              "0            ('P20', 'linear_regression')  ...            0.76\n",
              "4                ('P20', 'random_forest')  ...            0.68\n",
              "6           ('P20', 'bayesian_inference')  ...            0.35\n",
              "5              ('P20', 'neural_networks')  ...            0.47\n",
              "14                         ('P20', 'nlp')  ...            0.36\n",
              "13               ('P20', 'markov_chains')  ...            0.14\n",
              "17           ('P20', 'survival_analysis')  ...            0.16\n",
              "19              ('P20', 'joint analysis')  ...            0.07\n",
              "20           ('P20', 'no_listed_methods')  ...            0.04\n",
              "\n",
              "[21 rows x 4 columns]"
            ]
          },
          "metadata": {
            "tags": []
          },
          "execution_count": 25
        }
      ]
    },
    {
      "cell_type": "markdown",
      "metadata": {
        "id": "ZOk_fong-eRs"
      },
      "source": [
        "Métodos onde não tivemos uso por mulheres:"
      ]
    },
    {
      "cell_type": "code",
      "metadata": {
        "colab": {
          "base_uri": "https://localhost:8080/",
          "height": 110
        },
        "id": "Ei3ni-qZrMhz",
        "outputId": "ad4f3e2e-b800-466b-b70d-dc1df885206a"
      },
      "source": [
        "tabela[tabela['Uso por mulheres'] == False]"
      ],
      "execution_count": 26,
      "outputs": [
        {
          "output_type": "execute_result",
          "data": {
            "text/html": [
              "<div>\n",
              "<style scoped>\n",
              "    .dataframe tbody tr th:only-of-type {\n",
              "        vertical-align: middle;\n",
              "    }\n",
              "\n",
              "    .dataframe tbody tr th {\n",
              "        vertical-align: top;\n",
              "    }\n",
              "\n",
              "    .dataframe thead th {\n",
              "        text-align: right;\n",
              "    }\n",
              "</style>\n",
              "<table border=\"1\" class=\"dataframe\">\n",
              "  <thead>\n",
              "    <tr style=\"text-align: right;\">\n",
              "      <th></th>\n",
              "      <th>Métodos</th>\n",
              "      <th>Salário médio</th>\n",
              "      <th>Uso por mulheres</th>\n",
              "      <th>Uso por Homens</th>\n",
              "    </tr>\n",
              "  </thead>\n",
              "  <tbody>\n",
              "    <tr>\n",
              "      <th>11</th>\n",
              "      <td>('P20', 'hmms')</td>\n",
              "      <td>8625.00</td>\n",
              "      <td>0.0</td>\n",
              "      <td>0.05</td>\n",
              "    </tr>\n",
              "    <tr>\n",
              "      <th>12</th>\n",
              "      <td>('P20', 'gans')</td>\n",
              "      <td>10111.11</td>\n",
              "      <td>0.0</td>\n",
              "      <td>0.06</td>\n",
              "    </tr>\n",
              "  </tbody>\n",
              "</table>\n",
              "</div>"
            ],
            "text/plain": [
              "            Métodos  Salário médio  Uso por mulheres  Uso por Homens\n",
              "11  ('P20', 'hmms')        8625.00               0.0            0.05\n",
              "12  ('P20', 'gans')       10111.11               0.0            0.06"
            ]
          },
          "metadata": {
            "tags": []
          },
          "execution_count": 26
        }
      ]
    },
    {
      "cell_type": "markdown",
      "metadata": {
        "id": "ZJyUXJFM--FI"
      },
      "source": [
        "Os métodos com melhores salários.\n",
        "\n"
      ]
    },
    {
      "cell_type": "code",
      "metadata": {
        "colab": {
          "base_uri": "https://localhost:8080/",
          "height": 141
        },
        "id": "8kO_uWeE-Qj7",
        "outputId": "2aa96d64-f13f-4d05-e386-5a251714e8b3"
      },
      "source": [
        "tabela.sort_values(['Salário médio'], ascending = False).head(3)"
      ],
      "execution_count": 27,
      "outputs": [
        {
          "output_type": "execute_result",
          "data": {
            "text/html": [
              "<div>\n",
              "<style scoped>\n",
              "    .dataframe tbody tr th:only-of-type {\n",
              "        vertical-align: middle;\n",
              "    }\n",
              "\n",
              "    .dataframe tbody tr th {\n",
              "        vertical-align: top;\n",
              "    }\n",
              "\n",
              "    .dataframe thead th {\n",
              "        text-align: right;\n",
              "    }\n",
              "</style>\n",
              "<table border=\"1\" class=\"dataframe\">\n",
              "  <thead>\n",
              "    <tr style=\"text-align: right;\">\n",
              "      <th></th>\n",
              "      <th>Métodos</th>\n",
              "      <th>Salário médio</th>\n",
              "      <th>Uso por mulheres</th>\n",
              "      <th>Uso por Homens</th>\n",
              "    </tr>\n",
              "  </thead>\n",
              "  <tbody>\n",
              "    <tr>\n",
              "      <th>12</th>\n",
              "      <td>('P20', 'gans')</td>\n",
              "      <td>10111.11</td>\n",
              "      <td>0.00</td>\n",
              "      <td>0.06</td>\n",
              "    </tr>\n",
              "    <tr>\n",
              "      <th>11</th>\n",
              "      <td>('P20', 'hmms')</td>\n",
              "      <td>8625.00</td>\n",
              "      <td>0.00</td>\n",
              "      <td>0.05</td>\n",
              "    </tr>\n",
              "    <tr>\n",
              "      <th>10</th>\n",
              "      <td>('P20', 'rnns')</td>\n",
              "      <td>8585.71</td>\n",
              "      <td>0.13</td>\n",
              "      <td>0.19</td>\n",
              "    </tr>\n",
              "  </tbody>\n",
              "</table>\n",
              "</div>"
            ],
            "text/plain": [
              "            Métodos  Salário médio  Uso por mulheres  Uso por Homens\n",
              "12  ('P20', 'gans')       10111.11              0.00            0.06\n",
              "11  ('P20', 'hmms')        8625.00              0.00            0.05\n",
              "10  ('P20', 'rnns')        8585.71              0.13            0.19"
            ]
          },
          "metadata": {
            "tags": []
          },
          "execution_count": 27
        }
      ]
    },
    {
      "cell_type": "markdown",
      "metadata": {
        "id": "iOQXX8wUDOHC"
      },
      "source": [
        "Os métodos com menores salários."
      ]
    },
    {
      "cell_type": "code",
      "metadata": {
        "colab": {
          "base_uri": "https://localhost:8080/",
          "height": 141
        },
        "id": "YI6XMsqzCc3m",
        "outputId": "f2293ca7-1cd5-4d12-f6df-ee0c7be49ec9"
      },
      "source": [
        "tabela.sort_values(['Salário médio'], ascending = False).tail(3)"
      ],
      "execution_count": 28,
      "outputs": [
        {
          "output_type": "execute_result",
          "data": {
            "text/html": [
              "<div>\n",
              "<style scoped>\n",
              "    .dataframe tbody tr th:only-of-type {\n",
              "        vertical-align: middle;\n",
              "    }\n",
              "\n",
              "    .dataframe tbody tr th {\n",
              "        vertical-align: top;\n",
              "    }\n",
              "\n",
              "    .dataframe thead th {\n",
              "        text-align: right;\n",
              "    }\n",
              "</style>\n",
              "<table border=\"1\" class=\"dataframe\">\n",
              "  <thead>\n",
              "    <tr style=\"text-align: right;\">\n",
              "      <th></th>\n",
              "      <th>Métodos</th>\n",
              "      <th>Salário médio</th>\n",
              "      <th>Uso por mulheres</th>\n",
              "      <th>Uso por Homens</th>\n",
              "    </tr>\n",
              "  </thead>\n",
              "  <tbody>\n",
              "    <tr>\n",
              "      <th>17</th>\n",
              "      <td>('P20', 'survival_analysis')</td>\n",
              "      <td>5134.62</td>\n",
              "      <td>0.03</td>\n",
              "      <td>0.16</td>\n",
              "    </tr>\n",
              "    <tr>\n",
              "      <th>19</th>\n",
              "      <td>('P20', 'joint analysis')</td>\n",
              "      <td>4846.15</td>\n",
              "      <td>0.06</td>\n",
              "      <td>0.07</td>\n",
              "    </tr>\n",
              "    <tr>\n",
              "      <th>20</th>\n",
              "      <td>('P20', 'no_listed_methods')</td>\n",
              "      <td>4428.57</td>\n",
              "      <td>0.03</td>\n",
              "      <td>0.04</td>\n",
              "    </tr>\n",
              "  </tbody>\n",
              "</table>\n",
              "</div>"
            ],
            "text/plain": [
              "                         Métodos  ...  Uso por Homens\n",
              "17  ('P20', 'survival_analysis')  ...            0.16\n",
              "19     ('P20', 'joint analysis')  ...            0.07\n",
              "20  ('P20', 'no_listed_methods')  ...            0.04\n",
              "\n",
              "[3 rows x 4 columns]"
            ]
          },
          "metadata": {
            "tags": []
          },
          "execution_count": 28
        }
      ]
    },
    {
      "cell_type": "markdown",
      "metadata": {
        "id": "Cw5fOVNYD5-V"
      },
      "source": [
        "Outro ponto que podemos explorar é se usar ou não o método tem reflexo no salário:"
      ]
    },
    {
      "cell_type": "code",
      "metadata": {
        "colab": {
          "base_uri": "https://localhost:8080/",
          "height": 692
        },
        "id": "o3F09m16C7wC",
        "outputId": "73f5634e-eecd-4194-a4b1-eb6e65416fc9"
      },
      "source": [
        "#cálculo de salário médio para os que NÃO usam o método\n",
        "salmetnao = []\n",
        "for i in listmetodos:\n",
        "  salmetnao.append(dados.groupby([f\"{i}\"])['salario'].mean().round(2).iloc[0])\n",
        "salmetnao = pd.Series(salmetnao)\n",
        "\n",
        "#cálculo da diferença pelos usos\n",
        "difsal = salmet - salmetnao\n",
        "\n",
        "#criação da tabela\n",
        "tabela_sal = pd.concat([sermetodos, salmet, salmetnao, difsal], axis = 1)\n",
        "\n",
        "#Título das colunas\n",
        "colunas_sal = ['Métodos', 'R$ USO', 'R$ NÃO USO', 'Diferença']\n",
        "tabela_sal.columns = colunas_sal\n",
        "\n",
        "#ordenação e exibição dos dados\n",
        "tabela_sal.sort_values(['Diferença'], ascending = False)"
      ],
      "execution_count": 29,
      "outputs": [
        {
          "output_type": "execute_result",
          "data": {
            "text/html": [
              "<div>\n",
              "<style scoped>\n",
              "    .dataframe tbody tr th:only-of-type {\n",
              "        vertical-align: middle;\n",
              "    }\n",
              "\n",
              "    .dataframe tbody tr th {\n",
              "        vertical-align: top;\n",
              "    }\n",
              "\n",
              "    .dataframe thead th {\n",
              "        text-align: right;\n",
              "    }\n",
              "</style>\n",
              "<table border=\"1\" class=\"dataframe\">\n",
              "  <thead>\n",
              "    <tr style=\"text-align: right;\">\n",
              "      <th></th>\n",
              "      <th>Métodos</th>\n",
              "      <th>R$ USO</th>\n",
              "      <th>R$ NÃO USO</th>\n",
              "      <th>Diferença</th>\n",
              "    </tr>\n",
              "  </thead>\n",
              "  <tbody>\n",
              "    <tr>\n",
              "      <th>12</th>\n",
              "      <td>('P20', 'gans')</td>\n",
              "      <td>10111.11</td>\n",
              "      <td>6671.20</td>\n",
              "      <td>3439.91</td>\n",
              "    </tr>\n",
              "    <tr>\n",
              "      <th>7</th>\n",
              "      <td>('P20', 'ensemble')</td>\n",
              "      <td>8344.16</td>\n",
              "      <td>5827.59</td>\n",
              "      <td>2516.57</td>\n",
              "    </tr>\n",
              "    <tr>\n",
              "      <th>16</th>\n",
              "      <td>('P20', 'cluster_analysis')</td>\n",
              "      <td>7806.03</td>\n",
              "      <td>5363.64</td>\n",
              "      <td>2442.39</td>\n",
              "    </tr>\n",
              "    <tr>\n",
              "      <th>10</th>\n",
              "      <td>('P20', 'rnns')</td>\n",
              "      <td>8585.71</td>\n",
              "      <td>6443.04</td>\n",
              "      <td>2142.67</td>\n",
              "    </tr>\n",
              "    <tr>\n",
              "      <th>1</th>\n",
              "      <td>('P20', 'logistic_regression')</td>\n",
              "      <td>7530.77</td>\n",
              "      <td>5388.89</td>\n",
              "      <td>2141.88</td>\n",
              "    </tr>\n",
              "    <tr>\n",
              "      <th>3</th>\n",
              "      <td>('P20', 'decision_tree')</td>\n",
              "      <td>7571.43</td>\n",
              "      <td>5440.30</td>\n",
              "      <td>2131.13</td>\n",
              "    </tr>\n",
              "    <tr>\n",
              "      <th>0</th>\n",
              "      <td>('P20', 'linear_regression')</td>\n",
              "      <td>7346.15</td>\n",
              "      <td>5360.00</td>\n",
              "      <td>1986.15</td>\n",
              "    </tr>\n",
              "    <tr>\n",
              "      <th>11</th>\n",
              "      <td>('P20', 'hmms')</td>\n",
              "      <td>8625.00</td>\n",
              "      <td>6754.05</td>\n",
              "      <td>1870.95</td>\n",
              "    </tr>\n",
              "    <tr>\n",
              "      <th>15</th>\n",
              "      <td>('P20', 'gradient_boosted_machines')</td>\n",
              "      <td>7738.37</td>\n",
              "      <td>6102.80</td>\n",
              "      <td>1635.57</td>\n",
              "    </tr>\n",
              "    <tr>\n",
              "      <th>8</th>\n",
              "      <td>('P20', 'svms')</td>\n",
              "      <td>7847.46</td>\n",
              "      <td>6384.33</td>\n",
              "      <td>1463.13</td>\n",
              "    </tr>\n",
              "    <tr>\n",
              "      <th>4</th>\n",
              "      <td>('P20', 'random_forest')</td>\n",
              "      <td>7316.00</td>\n",
              "      <td>5941.18</td>\n",
              "      <td>1374.82</td>\n",
              "    </tr>\n",
              "    <tr>\n",
              "      <th>18</th>\n",
              "      <td>('P20', 'longitudinal_data_analysis')</td>\n",
              "      <td>7852.94</td>\n",
              "      <td>6613.21</td>\n",
              "      <td>1239.73</td>\n",
              "    </tr>\n",
              "    <tr>\n",
              "      <th>9</th>\n",
              "      <td>('P20', 'cnns')</td>\n",
              "      <td>7718.75</td>\n",
              "      <td>6655.28</td>\n",
              "      <td>1063.47</td>\n",
              "    </tr>\n",
              "    <tr>\n",
              "      <th>2</th>\n",
              "      <td>('P20', 'glms')</td>\n",
              "      <td>7428.57</td>\n",
              "      <td>6587.59</td>\n",
              "      <td>840.98</td>\n",
              "    </tr>\n",
              "    <tr>\n",
              "      <th>6</th>\n",
              "      <td>('P20', 'bayesian_inference')</td>\n",
              "      <td>7072.58</td>\n",
              "      <td>6717.56</td>\n",
              "      <td>355.02</td>\n",
              "    </tr>\n",
              "    <tr>\n",
              "      <th>5</th>\n",
              "      <td>('P20', 'neural_networks')</td>\n",
              "      <td>6960.67</td>\n",
              "      <td>6721.15</td>\n",
              "      <td>239.52</td>\n",
              "    </tr>\n",
              "    <tr>\n",
              "      <th>14</th>\n",
              "      <td>('P20', 'nlp')</td>\n",
              "      <td>6919.12</td>\n",
              "      <td>6784.00</td>\n",
              "      <td>135.12</td>\n",
              "    </tr>\n",
              "    <tr>\n",
              "      <th>13</th>\n",
              "      <td>('P20', 'markov_chains')</td>\n",
              "      <td>6557.69</td>\n",
              "      <td>6874.25</td>\n",
              "      <td>-316.56</td>\n",
              "    </tr>\n",
              "    <tr>\n",
              "      <th>17</th>\n",
              "      <td>('P20', 'survival_analysis')</td>\n",
              "      <td>5134.62</td>\n",
              "      <td>7095.81</td>\n",
              "      <td>-1961.19</td>\n",
              "    </tr>\n",
              "    <tr>\n",
              "      <th>19</th>\n",
              "      <td>('P20', 'joint analysis')</td>\n",
              "      <td>4846.15</td>\n",
              "      <td>6975.00</td>\n",
              "      <td>-2128.85</td>\n",
              "    </tr>\n",
              "    <tr>\n",
              "      <th>20</th>\n",
              "      <td>('P20', 'no_listed_methods')</td>\n",
              "      <td>4428.57</td>\n",
              "      <td>6922.04</td>\n",
              "      <td>-2493.47</td>\n",
              "    </tr>\n",
              "  </tbody>\n",
              "</table>\n",
              "</div>"
            ],
            "text/plain": [
              "                                  Métodos    R$ USO  R$ NÃO USO  Diferença\n",
              "12                        ('P20', 'gans')  10111.11     6671.20    3439.91\n",
              "7                     ('P20', 'ensemble')   8344.16     5827.59    2516.57\n",
              "16            ('P20', 'cluster_analysis')   7806.03     5363.64    2442.39\n",
              "10                        ('P20', 'rnns')   8585.71     6443.04    2142.67\n",
              "1          ('P20', 'logistic_regression')   7530.77     5388.89    2141.88\n",
              "3                ('P20', 'decision_tree')   7571.43     5440.30    2131.13\n",
              "0            ('P20', 'linear_regression')   7346.15     5360.00    1986.15\n",
              "11                        ('P20', 'hmms')   8625.00     6754.05    1870.95\n",
              "15   ('P20', 'gradient_boosted_machines')   7738.37     6102.80    1635.57\n",
              "8                         ('P20', 'svms')   7847.46     6384.33    1463.13\n",
              "4                ('P20', 'random_forest')   7316.00     5941.18    1374.82\n",
              "18  ('P20', 'longitudinal_data_analysis')   7852.94     6613.21    1239.73\n",
              "9                         ('P20', 'cnns')   7718.75     6655.28    1063.47\n",
              "2                         ('P20', 'glms')   7428.57     6587.59     840.98\n",
              "6           ('P20', 'bayesian_inference')   7072.58     6717.56     355.02\n",
              "5              ('P20', 'neural_networks')   6960.67     6721.15     239.52\n",
              "14                         ('P20', 'nlp')   6919.12     6784.00     135.12\n",
              "13               ('P20', 'markov_chains')   6557.69     6874.25    -316.56\n",
              "17           ('P20', 'survival_analysis')   5134.62     7095.81   -1961.19\n",
              "19              ('P20', 'joint analysis')   4846.15     6975.00   -2128.85\n",
              "20           ('P20', 'no_listed_methods')   4428.57     6922.04   -2493.47"
            ]
          },
          "metadata": {
            "tags": []
          },
          "execution_count": 29
        }
      ]
    },
    {
      "cell_type": "markdown",
      "metadata": {
        "id": "Frm_tyfJRQq0"
      },
      "source": [
        "Veja que temos métodos com reflexos estranhos no salário, onde se você o utiliza, em média ganhará menos."
      ]
    },
    {
      "cell_type": "code",
      "metadata": {
        "colab": {
          "base_uri": "https://localhost:8080/",
          "height": 171
        },
        "id": "0002MPZAGSDS",
        "outputId": "a6513a1d-a937-42f1-91e9-29142a0f5067"
      },
      "source": [
        "tabela_sal[tabela_sal['Diferença'] < 0]"
      ],
      "execution_count": 30,
      "outputs": [
        {
          "output_type": "execute_result",
          "data": {
            "text/html": [
              "<div>\n",
              "<style scoped>\n",
              "    .dataframe tbody tr th:only-of-type {\n",
              "        vertical-align: middle;\n",
              "    }\n",
              "\n",
              "    .dataframe tbody tr th {\n",
              "        vertical-align: top;\n",
              "    }\n",
              "\n",
              "    .dataframe thead th {\n",
              "        text-align: right;\n",
              "    }\n",
              "</style>\n",
              "<table border=\"1\" class=\"dataframe\">\n",
              "  <thead>\n",
              "    <tr style=\"text-align: right;\">\n",
              "      <th></th>\n",
              "      <th>Métodos</th>\n",
              "      <th>R$ USO</th>\n",
              "      <th>R$ NÃO USO</th>\n",
              "      <th>Diferença</th>\n",
              "    </tr>\n",
              "  </thead>\n",
              "  <tbody>\n",
              "    <tr>\n",
              "      <th>13</th>\n",
              "      <td>('P20', 'markov_chains')</td>\n",
              "      <td>6557.69</td>\n",
              "      <td>6874.25</td>\n",
              "      <td>-316.56</td>\n",
              "    </tr>\n",
              "    <tr>\n",
              "      <th>17</th>\n",
              "      <td>('P20', 'survival_analysis')</td>\n",
              "      <td>5134.62</td>\n",
              "      <td>7095.81</td>\n",
              "      <td>-1961.19</td>\n",
              "    </tr>\n",
              "    <tr>\n",
              "      <th>19</th>\n",
              "      <td>('P20', 'joint analysis')</td>\n",
              "      <td>4846.15</td>\n",
              "      <td>6975.00</td>\n",
              "      <td>-2128.85</td>\n",
              "    </tr>\n",
              "    <tr>\n",
              "      <th>20</th>\n",
              "      <td>('P20', 'no_listed_methods')</td>\n",
              "      <td>4428.57</td>\n",
              "      <td>6922.04</td>\n",
              "      <td>-2493.47</td>\n",
              "    </tr>\n",
              "  </tbody>\n",
              "</table>\n",
              "</div>"
            ],
            "text/plain": [
              "                         Métodos   R$ USO  R$ NÃO USO  Diferença\n",
              "13      ('P20', 'markov_chains')  6557.69     6874.25    -316.56\n",
              "17  ('P20', 'survival_analysis')  5134.62     7095.81   -1961.19\n",
              "19     ('P20', 'joint analysis')  4846.15     6975.00   -2128.85\n",
              "20  ('P20', 'no_listed_methods')  4428.57     6922.04   -2493.47"
            ]
          },
          "metadata": {
            "tags": []
          },
          "execution_count": 30
        }
      ]
    },
    {
      "cell_type": "markdown",
      "metadata": {
        "id": "rEwqQnz3SgYC"
      },
      "source": [
        "Saindo dos métodos, vamos verificar o salário em relação ao tipo de emprego:"
      ]
    },
    {
      "cell_type": "code",
      "metadata": {
        "colab": {
          "base_uri": "https://localhost:8080/",
          "height": 281
        },
        "id": "EWoxXnPiRzeq",
        "outputId": "295b28fe-2241-4e8d-d0bb-fb9558b79976"
      },
      "source": [
        "#Nova coluna situação\n",
        "dados['situação'] = dados[\"('P10', 'job_situation')\"]\n",
        "\n",
        "#exibição\n",
        "dados.groupby(['situação']).mean()['salario'].plot(kind = 'barh', title = 'Tipo de emprego');"
      ],
      "execution_count": 41,
      "outputs": [
        {
          "output_type": "display_data",
          "data": {
            "image/png": "[encoded data removed]",
            "text/plain": [
              "<Figure size 432x288 with 1 Axes>"
            ]
          },
          "metadata": {
            "tags": [],
            "needs_background": "light"
          }
        }
      ]
    },
    {
      "cell_type": "code",
      "metadata": {
        "colab": {
          "base_uri": "https://localhost:8080/",
          "height": 263
        },
        "id": "I_frY6WqSe7B",
        "outputId": "c84e124c-33cb-4b36-c84a-3cbfb91fc97b"
      },
      "source": [
        "#Visualização em tabela\n",
        "dados.groupby(['situação', 'cds']).mean()['salario'].round(2).T.unstack().sort_values(['Cientista de Dados'], ascending= False)"
      ],
      "execution_count": 32,
      "outputs": [
        {
          "output_type": "execute_result",
          "data": {
            "text/html": [
              "<div>\n",
              "<style scoped>\n",
              "    .dataframe tbody tr th:only-of-type {\n",
              "        vertical-align: middle;\n",
              "    }\n",
              "\n",
              "    .dataframe tbody tr th {\n",
              "        vertical-align: top;\n",
              "    }\n",
              "\n",
              "    .dataframe thead th {\n",
              "        text-align: right;\n",
              "    }\n",
              "</style>\n",
              "<table border=\"1\" class=\"dataframe\">\n",
              "  <thead>\n",
              "    <tr style=\"text-align: right;\">\n",
              "      <th>cds</th>\n",
              "      <th>Cientista de Dados</th>\n",
              "    </tr>\n",
              "    <tr>\n",
              "      <th>situação</th>\n",
              "      <th></th>\n",
              "    </tr>\n",
              "  </thead>\n",
              "  <tbody>\n",
              "    <tr>\n",
              "      <th>Servidor Público</th>\n",
              "      <td>15333.33</td>\n",
              "    </tr>\n",
              "    <tr>\n",
              "      <th>Empreendedor ou Empregado (CNPJ)</th>\n",
              "      <td>8666.67</td>\n",
              "    </tr>\n",
              "    <tr>\n",
              "      <th>Empregado (CTL)</th>\n",
              "      <td>7255.32</td>\n",
              "    </tr>\n",
              "    <tr>\n",
              "      <th>Prefiro não dizer</th>\n",
              "      <td>6666.67</td>\n",
              "    </tr>\n",
              "    <tr>\n",
              "      <th>Freelancer</th>\n",
              "      <td>3375.00</td>\n",
              "    </tr>\n",
              "    <tr>\n",
              "      <th>Estagiário</th>\n",
              "      <td>1619.05</td>\n",
              "    </tr>\n",
              "  </tbody>\n",
              "</table>\n",
              "</div>"
            ],
            "text/plain": [
              "cds                               Cientista de Dados\n",
              "situação                                            \n",
              "Servidor Público                            15333.33\n",
              "Empreendedor ou Empregado (CNPJ)             8666.67\n",
              "Empregado (CTL)                              7255.32\n",
              "Prefiro não dizer                            6666.67\n",
              "Freelancer                                   3375.00\n",
              "Estagiário                                   1619.05"
            ]
          },
          "metadata": {
            "tags": []
          },
          "execution_count": 32
        }
      ]
    },
    {
      "cell_type": "markdown",
      "metadata": {
        "id": "_sQpaqLPTyRh"
      },
      "source": [
        "Notável a diferença de salários do grupo Servidor Público para os demais"
      ]
    },
    {
      "cell_type": "markdown",
      "metadata": {
        "id": "hk-DI1S8gwe7"
      },
      "source": [
        "Por fim, vejamos a diferença salarial média por formação."
      ]
    },
    {
      "cell_type": "code",
      "metadata": {
        "colab": {
          "base_uri": "https://localhost:8080/",
          "height": 263
        },
        "id": "tPHtWMlHTrZ1",
        "outputId": "3c0d9db2-e0ec-4c2a-cda8-effca9c76ce1"
      },
      "source": [
        "#criação da tabela e ordenação\n",
        "dados.groupby(['escolaridade', 'cds']).mean()['salario'].round(2).T.unstack().sort_values(['Cientista de Dados'], ascending = False)"
      ],
      "execution_count": 33,
      "outputs": [
        {
          "output_type": "execute_result",
          "data": {
            "text/html": [
              "<div>\n",
              "<style scoped>\n",
              "    .dataframe tbody tr th:only-of-type {\n",
              "        vertical-align: middle;\n",
              "    }\n",
              "\n",
              "    .dataframe tbody tr th {\n",
              "        vertical-align: top;\n",
              "    }\n",
              "\n",
              "    .dataframe thead th {\n",
              "        text-align: right;\n",
              "    }\n",
              "</style>\n",
              "<table border=\"1\" class=\"dataframe\">\n",
              "  <thead>\n",
              "    <tr style=\"text-align: right;\">\n",
              "      <th>cds</th>\n",
              "      <th>Cientista de Dados</th>\n",
              "    </tr>\n",
              "    <tr>\n",
              "      <th>escolaridade</th>\n",
              "      <th></th>\n",
              "    </tr>\n",
              "  </thead>\n",
              "  <tbody>\n",
              "    <tr>\n",
              "      <th>Doutorado ou Phd</th>\n",
              "      <td>13500.00</td>\n",
              "    </tr>\n",
              "    <tr>\n",
              "      <th>Pós-graduação</th>\n",
              "      <td>8986.84</td>\n",
              "    </tr>\n",
              "    <tr>\n",
              "      <th>Mestrado</th>\n",
              "      <td>7918.60</td>\n",
              "    </tr>\n",
              "    <tr>\n",
              "      <th>Não tenho graduação formal</th>\n",
              "      <td>6416.67</td>\n",
              "    </tr>\n",
              "    <tr>\n",
              "      <th>Graduação/Bacharelado</th>\n",
              "      <td>5459.68</td>\n",
              "    </tr>\n",
              "    <tr>\n",
              "      <th>Estudante de Graduação</th>\n",
              "      <td>3363.64</td>\n",
              "    </tr>\n",
              "  </tbody>\n",
              "</table>\n",
              "</div>"
            ],
            "text/plain": [
              "cds                         Cientista de Dados\n",
              "escolaridade                                  \n",
              "Doutorado ou Phd                      13500.00\n",
              "Pós-graduação                          8986.84\n",
              "Mestrado                               7918.60\n",
              "Não tenho graduação formal             6416.67\n",
              "Graduação/Bacharelado                  5459.68\n",
              "Estudante de Graduação                 3363.64"
            ]
          },
          "metadata": {
            "tags": []
          },
          "execution_count": 33
        }
      ]
    },
    {
      "cell_type": "code",
      "metadata": {
        "id": "BYhVXLmFeZAb",
        "colab": {
          "base_uri": "https://localhost:8080/"
        },
        "outputId": "c1bc2604-9cac-4977-8c3f-d60f5e35475c"
      },
      "source": [
        "dados['salario'].describe()"
      ],
      "execution_count": 34,
      "outputs": [
        {
          "output_type": "execute_result",
          "data": {
            "text/plain": [
              "count      193.000000\n",
              "mean      6831.606218\n",
              "std       4725.692852\n",
              "min       1000.000000\n",
              "25%       3500.000000\n",
              "50%       5000.000000\n",
              "75%      10000.000000\n",
              "max      25000.000000\n",
              "Name: salario, dtype: float64"
            ]
          },
          "metadata": {
            "tags": []
          },
          "execution_count": 34
        }
      ]
    },
    {
      "cell_type": "markdown",
      "metadata": {
        "id": "IPd_bLT_KlEj"
      },
      "source": [
        "#Conclusão"
      ]
    },
    {
      "cell_type": "markdown",
      "metadata": {
        "id": "y4UKhTO6KqZQ"
      },
      "source": [
        "### A ciência de dados está cada dia mais em alta no Brasil, mesmo num momento de dificuldades econômicas. Com nossa análise exploratória de dados, fomos capazes de identificar alguns atributos do perfil do cientista de dados, como por exemplo sua idade média jovem, em torno de 28 anos, outra informação que salta aos olhos é a diferença salarial entre os sexos, mesmo que não tenhamos uma base tão grande, ainda é notável que tal diferença exista de fato. Analisamos a distribuição entre os sexos, que predominantemente ainda é masculina, sua área de formação além de sua escolaridade, que podemos dizer que é bem diversa. Quando olhamos diretamente para as empresas, percebemos que não tem tamanho que predomina no uso de dados para o negócio, e em relação ao setor de atuação da empresa, temos mais empresas de tecnologia e finanças, porém acho que está enviesado pois a pesquisa foi feita num site mais utilizado por profissionais de tecnologia. Análises de salários foram feitas em diversas comparações como tamanho de empresa, linguagem de programação que utiliza, pelo nível de escolaridade, idade, experiência na área, ferramentas, métodos que utiliza e tipo de emprego. Por fim creio que ao checar esse estudo é possível entender um pouco desse mercado, juntamente com o que você deve aprender e ter como expectativa de salário.\n",
        "###Agradeço por ter lido até aqui, e caso tenha alguma dúvida, estou à disposição.\n"
      ]
    }
  ]
}